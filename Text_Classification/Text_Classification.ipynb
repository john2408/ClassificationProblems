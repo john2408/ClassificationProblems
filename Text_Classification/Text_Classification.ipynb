{
 "cells": [
  {
   "cell_type": "markdown",
   "metadata": {},
   "source": [
    "# Text Classification using Naive Bayes and Support Vector Machine"
   ]
  },
  {
   "cell_type": "markdown",
   "metadata": {},
   "source": [
    "## 0. Add Libraries and import dependencies"
   ]
  },
  {
   "cell_type": "code",
   "execution_count": 1,
   "metadata": {},
   "outputs": [],
   "source": [
    "import pandas as pd\n",
    "import numpy as np\n",
    "\n",
    "from nltk.tokenize import word_tokenize, sent_tokenize\n",
    "from nltk import pos_tag\n",
    "from nltk.corpus import stopwords\n",
    "from nltk.stem import WordNetLemmatizer\n",
    "from nltk.corpus import wordnet as wn\n",
    "\n",
    "from collections import defaultdict\n",
    "\n",
    "from sklearn.feature_extraction.text import TfidfVectorizer\n",
    "from sklearn import model_selection, naive_bayes, svm\n",
    "from sklearn.metrics import accuracy_score, confusion_matrix\n",
    "from sklearn.preprocessing import LabelEncoder\n",
    "\n",
    "from os import getcwd, path\n",
    "\n",
    "# Reference\n",
    "# https://medium.com/@bedigunjit/simple-guide-to-text-classification-nlp-using-svm-and-naive-bayes-with-python-421db3a72d34\n",
    "# https://neptune.ai/blog/text-classification-tips-and-tricks-kaggle-competitions"
   ]
  },
  {
   "cell_type": "code",
   "execution_count": 2,
   "metadata": {},
   "outputs": [],
   "source": [
    "# NLTK API \n",
    "# https://tedboy.github.io/nlps/api_nltk.html\n",
    "\n",
    "# Run only for the first time#\n",
    "# import nltk\n",
    "# nltk.download('punkt')\n",
    "# nltk.download('wordnet')\n",
    "# nltk.download('stopwords')\n",
    "# nltk.download('averaged_perceptron_tagger')"
   ]
  },
  {
   "cell_type": "code",
   "execution_count": 3,
   "metadata": {},
   "outputs": [],
   "source": [
    "# To keep results reproducibility\n",
    "np.random.seed(500)"
   ]
  },
  {
   "cell_type": "markdown",
   "metadata": {},
   "source": [
    "## Parameters"
   ]
  },
  {
   "cell_type": "code",
   "execution_count": 4,
   "metadata": {},
   "outputs": [],
   "source": [
    "sent_tokenizer = False"
   ]
  },
  {
   "cell_type": "markdown",
   "metadata": {},
   "source": [
    "## Read in Input data"
   ]
  },
  {
   "cell_type": "code",
   "execution_count": 36,
   "metadata": {},
   "outputs": [],
   "source": [
    "data_dir = path.join(getcwd(), \"data/corpus.csv\")\n",
    "Corpus = pd.read_csv(data_dir ,encoding='latin-1')"
   ]
  },
  {
   "cell_type": "code",
   "execution_count": 6,
   "metadata": {},
   "outputs": [
    {
     "data": {
      "text/html": [
       "<div>\n",
       "<style scoped>\n",
       "    .dataframe tbody tr th:only-of-type {\n",
       "        vertical-align: middle;\n",
       "    }\n",
       "\n",
       "    .dataframe tbody tr th {\n",
       "        vertical-align: top;\n",
       "    }\n",
       "\n",
       "    .dataframe thead th {\n",
       "        text-align: right;\n",
       "    }\n",
       "</style>\n",
       "<table border=\"1\" class=\"dataframe\">\n",
       "  <thead>\n",
       "    <tr style=\"text-align: right;\">\n",
       "      <th></th>\n",
       "      <th>text</th>\n",
       "      <th>label</th>\n",
       "    </tr>\n",
       "  </thead>\n",
       "  <tbody>\n",
       "    <tr>\n",
       "      <th>0</th>\n",
       "      <td>Stuning even for the non-gamer: This sound tr...</td>\n",
       "      <td>__label__2</td>\n",
       "    </tr>\n",
       "    <tr>\n",
       "      <th>1</th>\n",
       "      <td>The best soundtrack ever to anything.: I'm re...</td>\n",
       "      <td>__label__2</td>\n",
       "    </tr>\n",
       "    <tr>\n",
       "      <th>2</th>\n",
       "      <td>Amazing!: This soundtrack is my favorite musi...</td>\n",
       "      <td>__label__2</td>\n",
       "    </tr>\n",
       "    <tr>\n",
       "      <th>3</th>\n",
       "      <td>Excellent Soundtrack: I truly like this sound...</td>\n",
       "      <td>__label__2</td>\n",
       "    </tr>\n",
       "    <tr>\n",
       "      <th>4</th>\n",
       "      <td>Remember, Pull Your Jaw Off The Floor After H...</td>\n",
       "      <td>__label__2</td>\n",
       "    </tr>\n",
       "    <tr>\n",
       "      <th>5</th>\n",
       "      <td>an absolute masterpiece: I am quite sure any ...</td>\n",
       "      <td>__label__2</td>\n",
       "    </tr>\n",
       "    <tr>\n",
       "      <th>6</th>\n",
       "      <td>Buyer beware: This is a self-published book, ...</td>\n",
       "      <td>__label__1</td>\n",
       "    </tr>\n",
       "    <tr>\n",
       "      <th>7</th>\n",
       "      <td>Glorious story: I loved Whisper of the wicked...</td>\n",
       "      <td>__label__2</td>\n",
       "    </tr>\n",
       "    <tr>\n",
       "      <th>8</th>\n",
       "      <td>A FIVE STAR BOOK: I just finished reading Whi...</td>\n",
       "      <td>__label__2</td>\n",
       "    </tr>\n",
       "    <tr>\n",
       "      <th>9</th>\n",
       "      <td>Whispers of the Wicked Saints: This was a eas...</td>\n",
       "      <td>__label__2</td>\n",
       "    </tr>\n",
       "  </tbody>\n",
       "</table>\n",
       "</div>"
      ],
      "text/plain": [
       "                                                text        label\n",
       "0   Stuning even for the non-gamer: This sound tr...  __label__2 \n",
       "1   The best soundtrack ever to anything.: I'm re...  __label__2 \n",
       "2   Amazing!: This soundtrack is my favorite musi...  __label__2 \n",
       "3   Excellent Soundtrack: I truly like this sound...  __label__2 \n",
       "4   Remember, Pull Your Jaw Off The Floor After H...  __label__2 \n",
       "5   an absolute masterpiece: I am quite sure any ...  __label__2 \n",
       "6   Buyer beware: This is a self-published book, ...  __label__1 \n",
       "7   Glorious story: I loved Whisper of the wicked...  __label__2 \n",
       "8   A FIVE STAR BOOK: I just finished reading Whi...  __label__2 \n",
       "9   Whispers of the Wicked Saints: This was a eas...  __label__2 "
      ]
     },
     "execution_count": 6,
     "metadata": {},
     "output_type": "execute_result"
    }
   ],
   "source": [
    "Corpus.head(10)"
   ]
  },
  {
   "cell_type": "markdown",
   "metadata": {},
   "source": [
    "## 1. Data preprocessing\n",
    "\n",
    "- I. Remove Blank rows in Data, if any\n",
    "- II. Change all the text to lower case\n",
    "- III. Word Tokenization\n",
    "- IV. Remove Stop words\n",
    "- V. Remove Non-alpha text\n",
    "- VI. Word Lemmatization"
   ]
  },
  {
   "cell_type": "code",
   "execution_count": 7,
   "metadata": {},
   "outputs": [
    {
     "data": {
      "text/plain": [
       "[' Stuning even for the non-gamer: This sound track was beautiful!',\n",
       " 'It paints the senery in your mind so well I would recomend it even to people who hate video game music!',\n",
       " 'I have played the game Chrono Cross but out of all of the games I have ever played it has the best music!',\n",
       " 'It backs away from crude keyboarding and takes a fresher step with grate guitars and soulful orchestras.',\n",
       " 'It would impress anyone who cares to listen!',\n",
       " '^_^']"
      ]
     },
     "execution_count": 7,
     "metadata": {},
     "output_type": "execute_result"
    }
   ],
   "source": [
    "sent_tokenize(Corpus['text'][0])"
   ]
  },
  {
   "cell_type": "code",
   "execution_count": 8,
   "metadata": {},
   "outputs": [],
   "source": [
    "# Step I : Remove blank rows if any.\n",
    "Corpus['text'].dropna(inplace=True)\n",
    "\n",
    "# Step II : Change all the text to lower case. This is required as python interprets 'dog' and 'DOG' differently\n",
    "# Corpus['text'] = Corpus['text'].apply(lambda x: str(x).lower())\n",
    "Corpus['text'] = [x.lower() for x in Corpus['text']]\n",
    "\n",
    "# Step III : Tokenization : In this each entry in the corpus will be broken into set of words\n",
    "if sent_tokenizer: \n",
    "    Corpus['text'] = [sent_tokenize(x) for x in Corpus['text']] \n",
    "else:\n",
    "    #Corpus['text'] = Corpus['text'].apply(lambda x: str(word_tokenize(x)) )\n",
    "    Corpus['text'] = [word_tokenize(x) for x in Corpus['text']]"
   ]
  },
  {
   "cell_type": "code",
   "execution_count": 9,
   "metadata": {},
   "outputs": [],
   "source": [
    "# Step IV, V, VI : Remove Stop words, Non-Numeric and perfom Word Stemming/Lemmenting.\n",
    "# WordNetLemmatizer requires Pos tags to understand if the word is noun or verb or adjective etc. By default it is set to Noun\n",
    "# Word Classification for Lemmatizer https://www.nltk.org/_modules/nltk/corpus/reader/wordnet.html\n",
    "# https://www.geeksforgeeks.org/defaultdict-in-python/\n",
    "tag_map = defaultdict(lambda: wn.NOUN)\n",
    "tag_map['J'] = wn.ADJ\n",
    "tag_map['V'] = wn.VERB\n",
    "tag_map['R'] = wn.ADV"
   ]
  },
  {
   "cell_type": "code",
   "execution_count": 10,
   "metadata": {},
   "outputs": [
    {
     "data": {
      "text/plain": [
       "defaultdict(<function __main__.<lambda>()>, {'J': 'a', 'V': 'v', 'R': 'r'})"
      ]
     },
     "execution_count": 10,
     "metadata": {},
     "output_type": "execute_result"
    }
   ],
   "source": [
    "tag_map"
   ]
  },
  {
   "cell_type": "markdown",
   "metadata": {},
   "source": [
    "<center>\n",
    "<img src=\"img/tagset.jpg\" aligment ='center' width=\"400\" height=\"200\">"
   ]
  },
  {
   "cell_type": "markdown",
   "metadata": {},
   "source": [
    "### Note:  NLTK Word tagging is based on Penn Treebank Postagging \n",
    "### https://www.ling.upenn.edu/courses/Fall_2003/ling001/penn_treebank_pos.html"
   ]
  },
  {
   "cell_type": "markdown",
   "metadata": {},
   "source": [
    "## Example of Word Tagging"
   ]
  },
  {
   "cell_type": "code",
   "execution_count": 11,
   "metadata": {},
   "outputs": [],
   "source": [
    "# entry = Corpus['text'][0]\n",
    "# pos_tag(entry)  "
   ]
  },
  {
   "cell_type": "markdown",
   "metadata": {},
   "source": [
    "## Excute word tagging"
   ]
  },
  {
   "cell_type": "code",
   "execution_count": 12,
   "metadata": {},
   "outputs": [],
   "source": [
    "for index, entry in enumerate(Corpus['text']):\n",
    "    \n",
    "    # Declaring Empty List to store the words that follow the rules for this step\n",
    "    lemma_words = []\n",
    "    \n",
    "    # Initializing WordNetLemmatizer()\n",
    "    word_Lemmatized = WordNetLemmatizer()\n",
    "    \n",
    "    # pos_tag function below will provide the 'tag' i.e if the word is Noun(N) or Verb(V) or something else.\n",
    "    # Posttagging reference : https://www.nltk.org/book/ch05.html \n",
    "        \n",
    "    for word, tag in pos_tag(entry):\n",
    "        \n",
    "        # Below condition is to check for Stop words and consider only alphabets\n",
    "        # List of stop words https://gist.github.com/sebleier/554280, https://www.nltk.org/book/ch02.html\n",
    "        \n",
    "        # NLTK check for an alphabetic word https://tedboy.github.io/nlps/generated/generated/nltk.text_type.isalpha.html\n",
    "        if word not in stopwords.words('english') and word.isalpha():\n",
    "            \n",
    "            # Reference https://www.geeksforgeeks.org/python-lemmatization-with-nltk/\n",
    "            # Use first letter of NLTK Postagging as \"pos\" parameter mapping it through the dict tag_map\n",
    "            lemma_word = word_Lemmatized.lemmatize(word = word,\n",
    "                                                   pos = tag_map[tag[0]]  )\n",
    "            # Append word back to the empty list\n",
    "            lemma_words.append(lemma_word)\n",
    "            \n",
    "    # The final processed set of words for each iteration will be stored in 'text_final'\n",
    "    Corpus.loc[index,'text_final'] = str(lemma_words)"
   ]
  },
  {
   "cell_type": "code",
   "execution_count": 13,
   "metadata": {},
   "outputs": [
    {
     "data": {
      "text/html": [
       "<div>\n",
       "<style scoped>\n",
       "    .dataframe tbody tr th:only-of-type {\n",
       "        vertical-align: middle;\n",
       "    }\n",
       "\n",
       "    .dataframe tbody tr th {\n",
       "        vertical-align: top;\n",
       "    }\n",
       "\n",
       "    .dataframe thead th {\n",
       "        text-align: right;\n",
       "    }\n",
       "</style>\n",
       "<table border=\"1\" class=\"dataframe\">\n",
       "  <thead>\n",
       "    <tr style=\"text-align: right;\">\n",
       "      <th></th>\n",
       "      <th>text</th>\n",
       "      <th>label</th>\n",
       "      <th>text_final</th>\n",
       "    </tr>\n",
       "  </thead>\n",
       "  <tbody>\n",
       "    <tr>\n",
       "      <th>0</th>\n",
       "      <td>[stuning, even, for, the, non-gamer, :, this, ...</td>\n",
       "      <td>__label__2</td>\n",
       "      <td>['stun', 'even', 'sound', 'track', 'beautiful'...</td>\n",
       "    </tr>\n",
       "    <tr>\n",
       "      <th>1</th>\n",
       "      <td>[the, best, soundtrack, ever, to, anything, .,...</td>\n",
       "      <td>__label__2</td>\n",
       "      <td>['best', 'soundtrack', 'ever', 'anything', 're...</td>\n",
       "    </tr>\n",
       "    <tr>\n",
       "      <th>2</th>\n",
       "      <td>[amazing, !, :, this, soundtrack, is, my, favo...</td>\n",
       "      <td>__label__2</td>\n",
       "      <td>['amaze', 'soundtrack', 'favorite', 'music', '...</td>\n",
       "    </tr>\n",
       "    <tr>\n",
       "      <th>3</th>\n",
       "      <td>[excellent, soundtrack, :, i, truly, like, thi...</td>\n",
       "      <td>__label__2</td>\n",
       "      <td>['excellent', 'soundtrack', 'truly', 'like', '...</td>\n",
       "    </tr>\n",
       "    <tr>\n",
       "      <th>4</th>\n",
       "      <td>[remember, ,, pull, your, jaw, off, the, floor...</td>\n",
       "      <td>__label__2</td>\n",
       "      <td>['remember', 'pull', 'jaw', 'floor', 'hear', '...</td>\n",
       "    </tr>\n",
       "  </tbody>\n",
       "</table>\n",
       "</div>"
      ],
      "text/plain": [
       "                                                text        label  \\\n",
       "0  [stuning, even, for, the, non-gamer, :, this, ...  __label__2    \n",
       "1  [the, best, soundtrack, ever, to, anything, .,...  __label__2    \n",
       "2  [amazing, !, :, this, soundtrack, is, my, favo...  __label__2    \n",
       "3  [excellent, soundtrack, :, i, truly, like, thi...  __label__2    \n",
       "4  [remember, ,, pull, your, jaw, off, the, floor...  __label__2    \n",
       "\n",
       "                                          text_final  \n",
       "0  ['stun', 'even', 'sound', 'track', 'beautiful'...  \n",
       "1  ['best', 'soundtrack', 'ever', 'anything', 're...  \n",
       "2  ['amaze', 'soundtrack', 'favorite', 'music', '...  \n",
       "3  ['excellent', 'soundtrack', 'truly', 'like', '...  \n",
       "4  ['remember', 'pull', 'jaw', 'floor', 'hear', '...  "
      ]
     },
     "execution_count": 13,
     "metadata": {},
     "output_type": "execute_result"
    }
   ],
   "source": [
    "Corpus.head()"
   ]
  },
  {
   "cell_type": "markdown",
   "metadata": {},
   "source": [
    "## 2. Prepare Train and Test Data set"
   ]
  },
  {
   "cell_type": "code",
   "execution_count": 22,
   "metadata": {},
   "outputs": [],
   "source": [
    "Train_X, Test_X, Train_Y, Test_Y = model_selection.train_test_split( Corpus['text_final'], Corpus['label'], test_size=0.3)"
   ]
  },
  {
   "cell_type": "markdown",
   "metadata": {},
   "source": [
    "## 3. Label Encoder"
   ]
  },
  {
   "cell_type": "code",
   "execution_count": 23,
   "metadata": {},
   "outputs": [
    {
     "data": {
      "text/plain": [
       "2150    __label__2 \n",
       "8629    __label__2 \n",
       "9048    __label__1 \n",
       "7060    __label__2 \n",
       "2735    __label__2 \n",
       "           ...     \n",
       "1531    __label__1 \n",
       "8879    __label__2 \n",
       "1242    __label__2 \n",
       "3720    __label__1 \n",
       "6341    __label__2 \n",
       "Name: label, Length: 7000, dtype: object"
      ]
     },
     "execution_count": 23,
     "metadata": {},
     "output_type": "execute_result"
    }
   ],
   "source": [
    "Train_Y"
   ]
  },
  {
   "cell_type": "code",
   "execution_count": 24,
   "metadata": {},
   "outputs": [],
   "source": [
    "# https://scikit-learn.org/stable/modules/generated/sklearn.preprocessing.LabelEncoder.html?highlight=labelencoder\n",
    "Encoder = LabelEncoder()\n",
    "Train_Y = Encoder.fit_transform(Train_Y)\n",
    "Test_Y = Encoder.fit_transform(Test_Y)"
   ]
  },
  {
   "cell_type": "code",
   "execution_count": 25,
   "metadata": {},
   "outputs": [
    {
     "data": {
      "text/plain": [
       "array(['__label__1 ', '__label__2 '], dtype=object)"
      ]
     },
     "execution_count": 25,
     "metadata": {},
     "output_type": "execute_result"
    }
   ],
   "source": [
    "Encoder.classes_"
   ]
  },
  {
   "cell_type": "code",
   "execution_count": 26,
   "metadata": {},
   "outputs": [
    {
     "data": {
      "text/plain": [
       "array([1, 1, 0, ..., 1, 0, 1])"
      ]
     },
     "execution_count": 26,
     "metadata": {},
     "output_type": "execute_result"
    }
   ],
   "source": [
    "Train_Y"
   ]
  },
  {
   "cell_type": "markdown",
   "metadata": {},
   "source": [
    "## 4. Word Vectorization\n",
    "\n",
    "It is a general process of turning a collection of text documents into numerical feature vectors.\n",
    "The most popular method is called TF-IDF. “Term Frequency — Inverse Document Frequency\" which are the components of the resulting scores assigned to each word.\n",
    "\n",
    "- Term Frequency: This summarizes how often a given word appears within a document.\n",
    "- Inverse Document Frequency: This down scales words that appear a lot across documents.\n",
    "\n",
    "Reference: https://en.wikipedia.org/wiki/Tf%E2%80%93idf\n",
    "\n",
    "How TFIDF is calculated ? https://medium.com/@cmukesh8688/tf-idf-vectorizer-scikit-learn-dbc0244a911a"
   ]
  },
  {
   "cell_type": "code",
   "execution_count": 27,
   "metadata": {},
   "outputs": [
    {
     "data": {
      "text/plain": [
       "2150    ['read', 'discover', 'need', 'use', 'think', '...\n",
       "8629    ['pocket', 'book', 'guide', 'lao', 'excellent'...\n",
       "9048    ['hop', 'simple', 'game', 'work', 'exactly', '...\n",
       "7060    ['difficult', 'parent', 'quality', 'text', 'go...\n",
       "2735    ['threesome', 'tank', 'suppose', 'victimize', ...\n",
       "                              ...                        \n",
       "1531    ['guess', 'miss', 'cool', 'buy', 'thinking', '...\n",
       "8879    ['essential', 'cd', 'mixer', 'double', 'volume...\n",
       "1242    ['cool', 'tool', 'playtime', 'fun', 'daughter'...\n",
       "3720    ['nasty', 'book', 'nasty', 'woman', 'woman', '...\n",
       "6341    ['fun', 'game', 'lot', 'way', 'show', 'age', '...\n",
       "Name: text_final, Length: 7000, dtype: object"
      ]
     },
     "execution_count": 27,
     "metadata": {},
     "output_type": "execute_result"
    }
   ],
   "source": [
    "Train_X"
   ]
  },
  {
   "cell_type": "code",
   "execution_count": 28,
   "metadata": {},
   "outputs": [],
   "source": [
    "# Create new Class TfidfVectorizer with max 5000 features\n",
    "Tfidf_vect = TfidfVectorizer(max_features=5000)\n",
    "\n",
    "# Learn vocabulary and idf from training set\n",
    "Tfidf_vect.fit(Corpus['text_final'])\n",
    "\n",
    "# Transfor both the train and the test to document-term matrix\n",
    "Train_X_Tfidf = Tfidf_vect.transform(Train_X)\n",
    "Test_X_Tfidf = Tfidf_vect.transform(Test_X)"
   ]
  },
  {
   "cell_type": "code",
   "execution_count": 30,
   "metadata": {},
   "outputs": [],
   "source": [
    "# Check learned vocabulary\n",
    "# print(Tfidf_vect.vocabulary_)"
   ]
  },
  {
   "cell_type": "code",
   "execution_count": 32,
   "metadata": {},
   "outputs": [],
   "source": [
    "# Check vectorized data - ( Row number , unique integer assinged to the word)  Score calculated by TF-IDF Vectorizer\n",
    "#print(Train_X_Tfidf) "
   ]
  },
  {
   "cell_type": "markdown",
   "metadata": {},
   "source": [
    "<center> \n",
    "    <b>\n",
    "        Confusion Matrix\n",
    "    </b>\n",
    "</center> \n",
    "<center> \n",
    "<img src=\"img/Confusion_Matrix.png\" aligment ='center' width=\"400\" height=\"200\">"
   ]
  },
  {
   "cell_type": "markdown",
   "metadata": {},
   "source": [
    "## 4. ML Predection: Naive Bayes\n",
    "\n",
    "Refer to: https://monkeylearn.com/blog/practical-explanation-naive-bayes-classifier/"
   ]
  },
  {
   "cell_type": "code",
   "execution_count": 33,
   "metadata": {},
   "outputs": [
    {
     "name": "stdout",
     "output_type": "stream",
     "text": [
      "Naive Bayes Accuracy Score ->  82.56666666666666\n"
     ]
    },
    {
     "data": {
      "text/plain": [
       "array([[0.42966667, 0.07733333],\n",
       "       [0.097     , 0.396     ]])"
      ]
     },
     "execution_count": 33,
     "metadata": {},
     "output_type": "execute_result"
    }
   ],
   "source": [
    "# fit the training dataset on the NB classifier\n",
    "Naive = naive_bayes.MultinomialNB()\n",
    "Naive.fit(Train_X_Tfidf,Train_Y)\n",
    "\n",
    "# predict the labels on validation dataset\n",
    "predictions_NB = Naive.predict(Test_X_Tfidf)\n",
    "\n",
    "# Use accuracy_score function to get the accuracy\n",
    "print(\"Naive Bayes Accuracy Score -> \",accuracy_score(predictions_NB, Test_Y)*100)\n",
    "\n",
    "# Print Confusion Matrix\n",
    "Pred_Y = Naive.predict(Test_X_Tfidf)\n",
    "confusion_matrix(Test_Y, Pred_Y)/len(Pred_Y)"
   ]
  },
  {
   "cell_type": "markdown",
   "metadata": {},
   "source": [
    "# 5. ML Prediction : Support Vector Machine\n",
    "\n",
    "Reference: https://towardsdatascience.com/support-vector-machine-simply-explained-fee28eba5496"
   ]
  },
  {
   "cell_type": "code",
   "execution_count": 34,
   "metadata": {},
   "outputs": [
    {
     "name": "stdout",
     "output_type": "stream",
     "text": [
      "SVM Accuracy Score ->  85.16666666666667\n"
     ]
    },
    {
     "data": {
      "text/plain": [
       "array([[0.436     , 0.071     ],\n",
       "       [0.07733333, 0.41566667]])"
      ]
     },
     "execution_count": 34,
     "metadata": {},
     "output_type": "execute_result"
    }
   ],
   "source": [
    "# Classifier - Algorithm - SVM\n",
    "# fit the training dataset on the classifier\n",
    "SVM = svm.SVC(C=1.0, kernel='linear', degree=3, gamma='auto')\n",
    "SVM.fit(Train_X_Tfidf,Train_Y)\n",
    "\n",
    "# predict the labels on validation dataset\n",
    "predictions_SVM = SVM.predict(Test_X_Tfidf)\n",
    "\n",
    "# Use accuracy_score function to get the accuracy\n",
    "print(\"SVM Accuracy Score -> \", accuracy_score(predictions_SVM, Test_Y)*100)\n",
    "\n",
    "# Print Confusion Matrix\n",
    "Pred_Y = SVM.predict(Test_X_Tfidf)\n",
    "confusion_matrix(Test_Y, Pred_Y)/len(Pred_Y)"
   ]
  },
  {
   "cell_type": "markdown",
   "metadata": {},
   "source": [
    "## Next Steps\n",
    "\n",
    "- Improve the Data pre-processing steps and see how it effects the accuracy.\n",
    "- Try other Word Vectorization techniques such as Count Vectorizer and Word2Vec.\n",
    "- Try Parameter tuning with the help of GridSearchCV on these Algorithms.\n",
    "- Try other classification Algorithms Like Linear Classifier, Boosting Models and even Neural Networks."
   ]
  },
  {
   "cell_type": "code",
   "execution_count": null,
   "metadata": {},
   "outputs": [],
   "source": []
  }
 ],
 "metadata": {
  "kernelspec": {
   "display_name": "Python 3",
   "language": "python",
   "name": "python3"
  },
  "language_info": {
   "codemirror_mode": {
    "name": "ipython",
    "version": 3
   },
   "file_extension": ".py",
   "mimetype": "text/x-python",
   "name": "python",
   "nbconvert_exporter": "python",
   "pygments_lexer": "ipython3",
   "version": "3.7.9"
  }
 },
 "nbformat": 4,
 "nbformat_minor": 4
}
