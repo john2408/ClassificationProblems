{
 "cells": [
  {
   "cell_type": "markdown",
   "metadata": {},
   "source": [
    "# Sentiment Analysis with Keras: Deep Learning Model\n",
    "\n",
    "Reference: https://realpython.com/python-keras-text-classification/"
   ]
  },
  {
   "cell_type": "markdown",
   "metadata": {},
   "source": [
    "## Libraries"
   ]
  },
  {
   "cell_type": "code",
   "execution_count": 75,
   "metadata": {},
   "outputs": [],
   "source": [
    "import pandas as pd\n",
    "import numpy as np\n",
    "from os import getcwd, path\n",
    "\n",
    "from sklearn.feature_extraction.text import CountVectorizer\n",
    "from sklearn.model_selection import train_test_split\n",
    "from sklearn.linear_model import LogisticRegression\n",
    "from sklearn.metrics import accuracy_score, confusion_matrix\n",
    "from sklearn.preprocessing import LabelEncoder, OneHotEncoder\n",
    "from sklearn.model_selection import RandomizedSearchCV\n",
    "\n",
    "from keras.wrappers.scikit_learn import KerasClassifier\n",
    "from keras.models import Sequential\n",
    "from keras import layers\n",
    "from keras.preprocessing.text import Tokenizer\n",
    "from keras.preprocessing.sequence import pad_sequences\n",
    "\n",
    "import matplotlib.pyplot as plt"
   ]
  },
  {
   "cell_type": "markdown",
   "metadata": {},
   "source": [
    "## Parameters"
   ]
  },
  {
   "cell_type": "code",
   "execution_count": 76,
   "metadata": {},
   "outputs": [],
   "source": [
    "current_path = getcwd()"
   ]
  },
  {
   "cell_type": "markdown",
   "metadata": {},
   "source": [
    "## 0. Data Ingest"
   ]
  },
  {
   "cell_type": "code",
   "execution_count": 77,
   "metadata": {},
   "outputs": [],
   "source": [
    "filepath_dict = {'yelp':   'data/yelp_labelled.txt',\n",
    "                 'amazon': 'data/amazon_cells_labelled.txt',\n",
    "                 'imdb':   'data/imdb_labelled.txt'}\n",
    "\n",
    "df_list = []\n",
    "\n",
    "for source, filepath in filepath_dict.items():\n",
    "    \n",
    "    df = pd.read_csv(path.join(current_path, filepath), names=['sentence', 'label'], sep='\\t')\n",
    "    df['source'] = source  # Add another column filled with the source name\n",
    "    df_list.append(df)\n",
    "\n",
    "df = pd.concat(df_list)"
   ]
  },
  {
   "cell_type": "code",
   "execution_count": 78,
   "metadata": {},
   "outputs": [
    {
     "name": "stdout",
     "output_type": "stream",
     "text": [
      "<class 'pandas.core.frame.DataFrame'>\n",
      "Int64Index: 2748 entries, 0 to 747\n",
      "Data columns (total 3 columns):\n",
      " #   Column    Non-Null Count  Dtype \n",
      "---  ------    --------------  ----- \n",
      " 0   sentence  2748 non-null   object\n",
      " 1   label     2748 non-null   int64 \n",
      " 2   source    2748 non-null   object\n",
      "dtypes: int64(1), object(2)\n",
      "memory usage: 85.9+ KB\n"
     ]
    }
   ],
   "source": [
    "df.info()"
   ]
  },
  {
   "cell_type": "code",
   "execution_count": 79,
   "metadata": {},
   "outputs": [
    {
     "data": {
      "text/html": [
       "<div>\n",
       "<style scoped>\n",
       "    .dataframe tbody tr th:only-of-type {\n",
       "        vertical-align: middle;\n",
       "    }\n",
       "\n",
       "    .dataframe tbody tr th {\n",
       "        vertical-align: top;\n",
       "    }\n",
       "\n",
       "    .dataframe thead th {\n",
       "        text-align: right;\n",
       "    }\n",
       "</style>\n",
       "<table border=\"1\" class=\"dataframe\">\n",
       "  <thead>\n",
       "    <tr style=\"text-align: right;\">\n",
       "      <th></th>\n",
       "      <th>sentence</th>\n",
       "      <th>label</th>\n",
       "      <th>source</th>\n",
       "    </tr>\n",
       "  </thead>\n",
       "  <tbody>\n",
       "    <tr>\n",
       "      <th>0</th>\n",
       "      <td>Wow... Loved this place.</td>\n",
       "      <td>1</td>\n",
       "      <td>yelp</td>\n",
       "    </tr>\n",
       "    <tr>\n",
       "      <th>1</th>\n",
       "      <td>Crust is not good.</td>\n",
       "      <td>0</td>\n",
       "      <td>yelp</td>\n",
       "    </tr>\n",
       "    <tr>\n",
       "      <th>2</th>\n",
       "      <td>Not tasty and the texture was just nasty.</td>\n",
       "      <td>0</td>\n",
       "      <td>yelp</td>\n",
       "    </tr>\n",
       "    <tr>\n",
       "      <th>3</th>\n",
       "      <td>Stopped by during the late May bank holiday of...</td>\n",
       "      <td>1</td>\n",
       "      <td>yelp</td>\n",
       "    </tr>\n",
       "    <tr>\n",
       "      <th>4</th>\n",
       "      <td>The selection on the menu was great and so wer...</td>\n",
       "      <td>1</td>\n",
       "      <td>yelp</td>\n",
       "    </tr>\n",
       "  </tbody>\n",
       "</table>\n",
       "</div>"
      ],
      "text/plain": [
       "                                            sentence  label source\n",
       "0                           Wow... Loved this place.      1   yelp\n",
       "1                                 Crust is not good.      0   yelp\n",
       "2          Not tasty and the texture was just nasty.      0   yelp\n",
       "3  Stopped by during the late May bank holiday of...      1   yelp\n",
       "4  The selection on the menu was great and so wer...      1   yelp"
      ]
     },
     "execution_count": 79,
     "metadata": {},
     "output_type": "execute_result"
    }
   ],
   "source": [
    "df.head()"
   ]
  },
  {
   "cell_type": "markdown",
   "metadata": {},
   "source": [
    "## Bag Of Words Model (BOW)\n",
    "\n",
    "This is a common method in NLP to represent sentences (documents) as vectors.\n",
    "Each word is assigned an int value, then the frecuency of that word in the sentence is counted. \n",
    "\n",
    "Scikit-learn.feature_extraction.text provides the following vectorizers, \n",
    "to extract the vocabulary out of a corpus data set:\n",
    "\n",
    "1. CountVectorizer() \n",
    "2. HashingVectorizer()\n",
    "3. TfidfVectorizer()\n",
    "\n",
    "CountVectorizer performs tokenization which separates the sentences into a set of tokens as you saw previously in the vocabulary. \n",
    "It additionally removes punctuation and special characters and can apply other preprocessing to each word. \n",
    "\n",
    "Another approach, is to use the custom tokenizer from the NLTK library with the CountVectorizer or use other customizations to improve the performance of the model.\n",
    "\n",
    "Reference: https://en.wikipedia.org/wiki/Bag-of-words_model"
   ]
  },
  {
   "cell_type": "code",
   "execution_count": 80,
   "metadata": {},
   "outputs": [
    {
     "data": {
      "text/plain": [
       "{'John': 0, 'likes': 5, 'ice': 4, 'cream': 2, 'hates': 3, 'chocolate': 1}"
      ]
     },
     "execution_count": 80,
     "metadata": {},
     "output_type": "execute_result"
    }
   ],
   "source": [
    "sentences = ['John likes ice cream', 'John hates chocolate.']\n",
    "\n",
    "vectorizer = CountVectorizer(min_df=0, lowercase=False)\n",
    "vectorizer.fit(sentences)\n",
    "vectorizer.vocabulary_"
   ]
  },
  {
   "cell_type": "code",
   "execution_count": 81,
   "metadata": {},
   "outputs": [
    {
     "data": {
      "text/plain": [
       "array([[1, 0, 1, 0, 1, 1],\n",
       "       [1, 1, 0, 1, 0, 0]], dtype=int64)"
      ]
     },
     "execution_count": 81,
     "metadata": {},
     "output_type": "execute_result"
    }
   ],
   "source": [
    "# This means that both sentences have one occurrence of John, which is in the first place in the vocabulary.\n",
    "vectorizer.transform(sentences).toarray()"
   ]
  },
  {
   "cell_type": "markdown",
   "metadata": {},
   "source": [
    "## 1. Baseline Model - Logistic Regression"
   ]
  },
  {
   "cell_type": "code",
   "execution_count": 82,
   "metadata": {},
   "outputs": [],
   "source": [
    "# Filter data set for \"yelp\"\n",
    "df_yelp = df[df['source'] == 'yelp']\n",
    "\n",
    "# Get values as numpy arrays\n",
    "sentences = df_yelp['sentence'].values\n",
    "y = df_yelp['label'].values\n",
    "\n",
    "# Split up training and test data\n",
    "sentences_train, sentences_test, y_train, y_test = train_test_split(sentences, y, test_size=0.25, random_state=1000)"
   ]
  },
  {
   "cell_type": "code",
   "execution_count": 83,
   "metadata": {},
   "outputs": [],
   "source": [
    "from sklearn.feature_extraction.text import CountVectorizer\n",
    "\n",
    "# Create a new CountVectorizer object\n",
    "vectorizer = CountVectorizer()\n",
    "\n",
    "# Vectorize training data set\n",
    "vectorizer.fit(sentences_train)\n",
    "\n",
    "# Transform both training and test data\n",
    "X_train = vectorizer.transform(sentences_train)\n",
    "X_test  = vectorizer.transform(sentences_test)"
   ]
  },
  {
   "cell_type": "code",
   "execution_count": 84,
   "metadata": {},
   "outputs": [
    {
     "data": {
      "text/plain": [
       "<750x1714 sparse matrix of type '<class 'numpy.int64'>'\n",
       "\twith 7368 stored elements in Compressed Sparse Row format>"
      ]
     },
     "execution_count": 84,
     "metadata": {},
     "output_type": "execute_result"
    }
   ],
   "source": [
    "X_train"
   ]
  },
  {
   "cell_type": "markdown",
   "metadata": {},
   "source": [
    "### Apply Logistic Regression Classifier  for yelp"
   ]
  },
  {
   "cell_type": "code",
   "execution_count": 85,
   "metadata": {},
   "outputs": [
    {
     "name": "stdout",
     "output_type": "stream",
     "text": [
      "Accuracy: 0.796\n",
      "\n",
      " Confusion Matrix\n"
     ]
    },
    {
     "data": {
      "text/plain": [
       "array([[0.4  , 0.08 ],\n",
       "       [0.124, 0.396]])"
      ]
     },
     "execution_count": 85,
     "metadata": {},
     "output_type": "execute_result"
    }
   ],
   "source": [
    "logistic_reg = LogisticRegression()\n",
    "logistic_reg.fit(X_train, y_train)\n",
    "score = logistic_reg.score(X_test, y_test)\n",
    "\n",
    "print(\"Accuracy:\", score)\n",
    "\n",
    "# Print Confusion Matrix\n",
    "Pred_Y = logistic_reg.predict(X_test)\n",
    "\n",
    "print(\"\\n Confusion Matrix\")\n",
    "confusion_matrix(y_test, Pred_Y)/len(Pred_Y)"
   ]
  },
  {
   "cell_type": "markdown",
   "metadata": {},
   "source": [
    "### Apply logistic Regression Classifier for all"
   ]
  },
  {
   "cell_type": "code",
   "execution_count": 86,
   "metadata": {},
   "outputs": [
    {
     "name": "stdout",
     "output_type": "stream",
     "text": [
      "Accuracy for yelp data: 0.7960\n",
      "Accuracy for amazon data: 0.7960\n",
      "Accuracy for imdb data: 0.7487\n"
     ]
    }
   ],
   "source": [
    "for source in df['source'].unique():\n",
    "    \n",
    "    # Filter for every data source type\n",
    "    df_source = df[df['source'] == source]\n",
    "    \n",
    "    # Get x and y values as np arrays\n",
    "    sentences = df_source['sentence'].values\n",
    "    y = df_source['label'].values\n",
    "\n",
    "    # Split up training and test data sets\n",
    "    sentences_train, sentences_test, y_train, y_test = train_test_split(sentences, y, test_size=0.25, random_state=1000)\n",
    "\n",
    "    # Create a new CountVectorizer Object\n",
    "    # Let model learn the vocab\n",
    "    vectorizer = CountVectorizer()\n",
    "    vectorizer.fit(sentences_train)\n",
    "    \n",
    "    # Transform training and test X set ( Apply vectorization)\n",
    "    X_train = vectorizer.transform(sentences_train)\n",
    "    X_test  = vectorizer.transform(sentences_test)\n",
    "\n",
    "    # Fit model and calculate score\n",
    "    log_reg = LogisticRegression()\n",
    "    log_reg.fit(X_train, y_train)\n",
    "    score = log_reg.score(X_test, y_test)\n",
    "    \n",
    "    print('Accuracy for {} data: {:.4f}'.format(source, score))"
   ]
  },
  {
   "cell_type": "markdown",
   "metadata": {},
   "source": [
    "## Implementing Deep Neural Networks"
   ]
  },
  {
   "cell_type": "markdown",
   "metadata": {},
   "source": [
    "Reference: https://www.youtube.com/watch?v=aircAruvnKk&list=PLZHQObOWTQDNU6R1_67000Dx_ZCJB-3pi&ab_channel=3Blue1Brown"
   ]
  },
  {
   "cell_type": "code",
   "execution_count": 120,
   "metadata": {},
   "outputs": [
    {
     "name": "stdout",
     "output_type": "stream",
     "text": [
      "100\n"
     ]
    }
   ],
   "source": [
    "# Number of features\n",
    "input_dim = X_train.shape[1]  \n",
    "print(input_dim)"
   ]
  },
  {
   "cell_type": "code",
   "execution_count": 88,
   "metadata": {},
   "outputs": [],
   "source": [
    "model = Sequential()\n",
    "model.add(layers.Dense(10, input_dim=input_dim, activation='relu'))\n",
    "model.add(layers.Dense(1, activation='sigmoid'))"
   ]
  },
  {
   "cell_type": "code",
   "execution_count": 89,
   "metadata": {},
   "outputs": [
    {
     "name": "stdout",
     "output_type": "stream",
     "text": [
      "Model: \"sequential_69\"\n",
      "_________________________________________________________________\n",
      "Layer (type)                 Output Shape              Param #   \n",
      "=================================================================\n",
      "dense_138 (Dense)            (None, 10)                25060     \n",
      "_________________________________________________________________\n",
      "dense_139 (Dense)            (None, 1)                 11        \n",
      "=================================================================\n",
      "Total params: 25,071\n",
      "Trainable params: 25,071\n",
      "Non-trainable params: 0\n",
      "_________________________________________________________________\n"
     ]
    }
   ],
   "source": [
    "model.compile(loss='binary_crossentropy', \n",
    "               optimizer='adam', \n",
    "               metrics=['accuracy'])\n",
    "\n",
    "model.summary()"
   ]
  },
  {
   "cell_type": "code",
   "execution_count": 90,
   "metadata": {},
   "outputs": [],
   "source": [
    "# Fit the neural networks model\n",
    "%timeit\n",
    "history = model.fit(X_train, y_train,\n",
    "                     epochs=30,\n",
    "                     verbose=False,\n",
    "                     validation_data=(X_test, y_test),\n",
    "                     batch_size=10)"
   ]
  },
  {
   "cell_type": "code",
   "execution_count": 91,
   "metadata": {},
   "outputs": [
    {
     "name": "stdout",
     "output_type": "stream",
     "text": [
      "Training Accuracy: 1.0000\n",
      "Testing Accuracy:  0.8021\n"
     ]
    }
   ],
   "source": [
    "loss, accuracy = model.evaluate(X_train, y_train, verbose=False)\n",
    "print(\"Training Accuracy: {:.4f}\".format(accuracy))\n",
    "loss, accuracy = model.evaluate(X_test, y_test, verbose=False)\n",
    "print(\"Testing Accuracy:  {:.4f}\".format(accuracy))"
   ]
  },
  {
   "cell_type": "code",
   "execution_count": 92,
   "metadata": {},
   "outputs": [],
   "source": [
    "plt.style.use('ggplot')\n",
    "\n",
    "def plot_history(history):\n",
    "    \n",
    "    acc = history.history['accuracy']\n",
    "    val_acc = history.history['val_accuracy']\n",
    "    loss = history.history['loss']\n",
    "    val_loss = history.history['val_loss']\n",
    "    x = range(1, len(acc) + 1)\n",
    "\n",
    "    plt.figure(figsize=(12, 5))\n",
    "    plt.subplot(1, 2, 1)\n",
    "    plt.plot(x, acc, 'b', label='Training acc')\n",
    "    plt.plot(x, val_acc, 'r', label='Validation acc')\n",
    "    plt.title('Training and validation accuracy')\n",
    "    plt.legend()\n",
    "    plt.subplot(1, 2, 2)\n",
    "    plt.plot(x, loss, 'b', label='Training loss')\n",
    "    plt.plot(x, val_loss, 'r', label='Validation loss')\n",
    "    plt.title('Training and validation loss')\n",
    "    plt.legend()"
   ]
  },
  {
   "cell_type": "code",
   "execution_count": 93,
   "metadata": {},
   "outputs": [
    {
     "data": {
      "image/png": "[encoded data removed]",
      "text/plain": [
       "<Figure size 864x360 with 2 Axes>"
      ]
     },
     "metadata": {},
     "output_type": "display_data"
    }
   ],
   "source": [
    "plot_history(history)"
   ]
  },
  {
   "cell_type": "markdown",
   "metadata": {},
   "source": [
    "## Representing Words as Vector\n",
    "\n",
    "### One Hot Encoding\n",
    "\n",
    "it is simply done by taking a vector of the length of the vocabulary with an entry for each word in the corpus."
   ]
  },
  {
   "cell_type": "code",
   "execution_count": 94,
   "metadata": {},
   "outputs": [],
   "source": [
    "# Example\n",
    "cities = ['London', 'Berlin', 'Berlin', 'New York', 'London']\n",
    "\n",
    "# Label Encoder from Scikit Learn\n",
    "encoder = LabelEncoder()\n",
    "city_labels = encoder.fit_transform(cities)"
   ]
  },
  {
   "cell_type": "markdown",
   "metadata": {},
   "source": [
    "\n",
    "Using this representation, we can use the **OneHotEncoder** provided by scikit-learn to encode the categorical values we got before into a one-hot encoded numeric array. OneHotEncoder expects each categorical value to be in a separate row."
   ]
  },
  {
   "cell_type": "code",
   "execution_count": 95,
   "metadata": {},
   "outputs": [
    {
     "data": {
      "text/plain": [
       "array([[1],\n",
       "       [0],\n",
       "       [0],\n",
       "       [2],\n",
       "       [1]], dtype=int64)"
      ]
     },
     "execution_count": 95,
     "metadata": {},
     "output_type": "execute_result"
    }
   ],
   "source": [
    "city_labels.reshape((5, 1))"
   ]
  },
  {
   "cell_type": "code",
   "execution_count": 96,
   "metadata": {},
   "outputs": [
    {
     "data": {
      "text/plain": [
       "array([[0., 1., 0.],\n",
       "       [1., 0., 0.],\n",
       "       [1., 0., 0.],\n",
       "       [0., 0., 1.],\n",
       "       [0., 1., 0.]])"
      ]
     },
     "execution_count": 96,
     "metadata": {},
     "output_type": "execute_result"
    }
   ],
   "source": [
    "encoder = OneHotEncoder(sparse=False)\n",
    "city_labels = city_labels.reshape((5, 1))\n",
    "encoder.fit_transform(city_labels)"
   ]
  },
  {
   "cell_type": "markdown",
   "metadata": {},
   "source": [
    "### Word Embedding"
   ]
  },
  {
   "cell_type": "markdown",
   "metadata": {},
   "source": [
    "This method represents words as dense word vectors (also called word embeddings) which are trained unlike the one-hot encoding which are hardcoded. This means that the word embeddings collect more information into fewer dimensions. \n",
    "\n",
    "This means representing words as an n-length vector. So that when two words are close in semactic meaning i.e. \"Hamburguer\" and \"hotdog\", then they also are geometrically close to each other but far away from a word like \"Ferrari\". This would allow to compute correlation between words, like in the following app https://embeddings.macheads101.com/word?word=purple. Therefore vector arithmetic should be possible, for example **King - Man + Woman = Queen**.\n",
    "\n",
    "Note that the word embeddings do not understand the text as a human would, but they rather map the statistical structure of the language used in the corpus. Their aim is to map semantic meaning into a geometric space. This geometric space is then called the **embedding space**.\n",
    "\n",
    "Reference : https://www.youtube.com/watch?v=5PL0TmQhItY&ab_channel=macheads101"
   ]
  },
  {
   "cell_type": "code",
   "execution_count": 97,
   "metadata": {},
   "outputs": [
    {
     "name": "stdout",
     "output_type": "stream",
     "text": [
      "I am a fan of his ... This movie sucked really bad.  \n",
      "[7, 150, 2, 932, 4, 49, 6, 11, 563, 45, 30]\n"
     ]
    }
   ],
   "source": [
    "tokenizer = Tokenizer(num_words=5000)\n",
    "tokenizer.fit_on_texts(sentences_train)\n",
    "\n",
    "X_train = tokenizer.texts_to_sequences(sentences_train)\n",
    "X_test = tokenizer.texts_to_sequences(sentences_test)\n",
    "\n",
    "vocab_size = len(tokenizer.word_index) + 1  # Adding 1 because of reserved 0 index\n",
    "\n",
    "print(sentences_train[2])\n",
    "print(X_train[2])"
   ]
  },
  {
   "cell_type": "markdown",
   "metadata": {},
   "source": [
    "The indexing is ordered after the most common words in the text, which you can see by the word the having the index 1. It is important to note that the index 0 is reserved and is not assigned to any word."
   ]
  },
  {
   "cell_type": "markdown",
   "metadata": {},
   "source": [
    "Unknown words (words that are not in the vocabulary) are denoted in Keras with word_count + 1 since they can also hold some information. You can see the index of each word by taking a look at the word_index dictionary of the Tokenizer object"
   ]
  },
  {
   "cell_type": "code",
   "execution_count": 98,
   "metadata": {},
   "outputs": [
    {
     "name": "stdout",
     "output_type": "stream",
     "text": [
      "the: 1\n",
      "all: 27\n",
      "bad: 30\n"
     ]
    }
   ],
   "source": [
    "for word in ['the', 'all', 'bad']:\n",
    "    print('{}: {}'.format(word, tokenizer.word_index[word]))"
   ]
  },
  {
   "cell_type": "markdown",
   "metadata": {},
   "source": [
    "With CountVectorizer, we had stacked vectors of word counts, and each vector was the same length (the size of the total corpus vocabulary). With Tokenizer, the resulting vectors equal the length of each text, and the numbers don’t denote counts, but rather correspond to the word values from the dictionary tokenizer.word_index."
   ]
  },
  {
   "cell_type": "markdown",
   "metadata": {},
   "source": [
    "One problem that we have is that each text sequence has in most cases different length of words. To counter this, you can use pad_sequence() which simply pads the sequence of words with zeros. By default, it prepends zeros but we want to append them. Typically it does not matter whether you prepend or append zeros.\n",
    "\n",
    "Additionally you would want to add a maxlen parameter to specify how long the sequences should be. This cuts sequences that exceed that number. In the following code, you can see how to pad sequences with Keras:"
   ]
  },
  {
   "cell_type": "code",
   "execution_count": 99,
   "metadata": {},
   "outputs": [],
   "source": [
    "maxlen = 100\n",
    "\n",
    "X_train = pad_sequences(X_train, padding='post', maxlen=maxlen)\n",
    "X_test = pad_sequences(X_test, padding='post', maxlen=maxlen)"
   ]
  },
  {
   "cell_type": "code",
   "execution_count": 100,
   "metadata": {},
   "outputs": [
    {
     "name": "stdout",
     "output_type": "stream",
     "text": [
      "[170 116 390  35   0   0   0   0   0   0   0   0   0   0   0   0   0   0\n",
      "   0   0   0   0   0   0   0   0   0   0   0   0   0   0   0   0   0   0\n",
      "   0   0   0   0   0   0   0   0   0   0   0   0   0   0   0   0   0   0\n",
      "   0   0   0   0   0   0   0   0   0   0   0   0   0   0   0   0   0   0\n",
      "   0   0   0   0   0   0   0   0   0   0   0   0   0   0   0   0   0   0\n",
      "   0   0   0   0   0   0   0   0   0   0]\n"
     ]
    }
   ],
   "source": [
    "print(X_train[0, :])"
   ]
  },
  {
   "cell_type": "markdown",
   "metadata": {},
   "source": [
    "### Keras Embedding Layer\n",
    "\n",
    "Now we can use the Embedding Layer of Keras which takes the previously calculated integers and maps them to a dense vector of the embedding. You will need the following parameters:\n",
    "\n",
    "- input_dim: the size of the vocabulary\n",
    "- output_dim: the size of the dense vector\n",
    "- input_length: the length of the sequence (sentence)\n",
    "\n",
    "With the Embedding layer we have now a couple of options. One way would be to take the output of the embedding layer and plug it into a Dense layer. In order to do this you have to add a Flatten layer in between that prepares the sequential input for the Dense layer"
   ]
  },
  {
   "cell_type": "code",
   "execution_count": 101,
   "metadata": {},
   "outputs": [
    {
     "data": {
      "text/plain": [
       "128750"
      ]
     },
     "execution_count": 101,
     "metadata": {},
     "output_type": "execute_result"
    }
   ],
   "source": [
    "vocab_size*50"
   ]
  },
  {
   "cell_type": "code",
   "execution_count": 102,
   "metadata": {},
   "outputs": [
    {
     "name": "stdout",
     "output_type": "stream",
     "text": [
      "Model: \"sequential_70\"\n",
      "_________________________________________________________________\n",
      "Layer (type)                 Output Shape              Param #   \n",
      "=================================================================\n",
      "embedding_68 (Embedding)     (None, 100, 50)           128750    \n",
      "_________________________________________________________________\n",
      "flatten_1 (Flatten)          (None, 5000)              0         \n",
      "_________________________________________________________________\n",
      "dense_140 (Dense)            (None, 10)                50010     \n",
      "_________________________________________________________________\n",
      "dense_141 (Dense)            (None, 1)                 11        \n",
      "=================================================================\n",
      "Total params: 178,771\n",
      "Trainable params: 178,771\n",
      "Non-trainable params: 0\n",
      "_________________________________________________________________\n"
     ]
    }
   ],
   "source": [
    "embedding_dim = 50\n",
    "\n",
    "model = Sequential()\n",
    "model.add(layers.Embedding(input_dim=vocab_size, \n",
    "                           output_dim=embedding_dim, \n",
    "                           input_length=maxlen))\n",
    "\n",
    "# Flatten layers coverts any nxn matrix to a 1xn vector \n",
    "# so that the dense layer can take is as input \n",
    "# Referece : https://www.youtube.com/watch?v=RpC9SbHuV6E&ab_channel=TheAIUniversity\n",
    "model.add(layers.Flatten())\n",
    "model.add(layers.Dense(10, activation='relu'))\n",
    "model.add(layers.Dense(1, activation='sigmoid'))\n",
    "model.compile(optimizer='adam',\n",
    "              loss='binary_crossentropy',\n",
    "              metrics=['accuracy'])\n",
    "model.summary()"
   ]
  },
  {
   "cell_type": "code",
   "execution_count": 103,
   "metadata": {},
   "outputs": [
    {
     "name": "stdout",
     "output_type": "stream",
     "text": [
      "Training Accuracy: 1.0000\n",
      "Testing Accuracy:  0.7166\n"
     ]
    },
    {
     "data": {
      "image/png": "[encoded data removed]",
      "text/plain": [
       "<Figure size 864x360 with 2 Axes>"
      ]
     },
     "metadata": {},
     "output_type": "display_data"
    }
   ],
   "source": [
    "history = model.fit(X_train, y_train,\n",
    "                    epochs=20,\n",
    "                    verbose=False,\n",
    "                    validation_data=(X_test, y_test),\n",
    "                    batch_size=10)\n",
    "loss, accuracy = model.evaluate(X_train, y_train, verbose=False)\n",
    "print(\"Training Accuracy: {:.4f}\".format(accuracy))\n",
    "loss, accuracy = model.evaluate(X_test, y_test, verbose=False)\n",
    "print(\"Testing Accuracy:  {:.4f}\".format(accuracy))\n",
    "plot_history(history)"
   ]
  },
  {
   "cell_type": "markdown",
   "metadata": {},
   "source": [
    "This is typically a not very reliable way to work with sequential data as you can see in the performance. When working with sequential data you want to focus on methods that look at local and sequential information instead of absolute positional information.\n",
    "\n",
    "Another way to work with embeddings is by using a MaxPooling1D/AveragePooling1D or a GlobalMaxPooling1D/GlobalAveragePooling1D layer after the embedding. You can think of the pooling layers as a way to downsample (a way to reduce the size of) the incoming feature vectors.\n",
    "\n",
    "In the case of max pooling you take the maximum value of all features in the pool for each feature dimension. In the case of average pooling you take the average, but max pooling seems to be more commonly used as it highlights large values.\n",
    "\n",
    "Global max/average pooling takes the maximum/average of all features whereas in the other case you have to define the pool size. Keras has again its own layer that you can add in the sequential model:"
   ]
  },
  {
   "cell_type": "markdown",
   "metadata": {},
   "source": [
    "## Using GlobalMaxPool1D Hidden Layer"
   ]
  },
  {
   "cell_type": "code",
   "execution_count": 104,
   "metadata": {},
   "outputs": [
    {
     "name": "stdout",
     "output_type": "stream",
     "text": [
      "Model: \"sequential_71\"\n",
      "_________________________________________________________________\n",
      "Layer (type)                 Output Shape              Param #   \n",
      "=================================================================\n",
      "embedding_69 (Embedding)     (None, 100, 50)           128750    \n",
      "_________________________________________________________________\n",
      "global_max_pooling1d_67 (Glo (None, 50)                0         \n",
      "_________________________________________________________________\n",
      "dense_142 (Dense)            (None, 10)                510       \n",
      "_________________________________________________________________\n",
      "dense_143 (Dense)            (None, 1)                 11        \n",
      "=================================================================\n",
      "Total params: 129,271\n",
      "Trainable params: 129,271\n",
      "Non-trainable params: 0\n",
      "_________________________________________________________________\n"
     ]
    }
   ],
   "source": [
    "embedding_dim = 50\n",
    "\n",
    "model = Sequential()\n",
    "model.add(layers.Embedding(input_dim=vocab_size, \n",
    "                           output_dim=embedding_dim, \n",
    "                           input_length=maxlen))\n",
    "model.add(layers.GlobalMaxPool1D())\n",
    "model.add(layers.Dense(10, activation='relu'))\n",
    "model.add(layers.Dense(1, activation='sigmoid'))\n",
    "model.compile(optimizer='adam',\n",
    "              loss='binary_crossentropy',\n",
    "              metrics=['accuracy'])\n",
    "model.summary()"
   ]
  },
  {
   "cell_type": "code",
   "execution_count": 105,
   "metadata": {},
   "outputs": [
    {
     "name": "stdout",
     "output_type": "stream",
     "text": [
      "Training Accuracy: 1.0000\n",
      "Testing Accuracy:  0.7968\n"
     ]
    },
    {
     "data": {
      "image/png": "[encoded data removed]",
      "text/plain": [
       "<Figure size 864x360 with 2 Axes>"
      ]
     },
     "metadata": {},
     "output_type": "display_data"
    }
   ],
   "source": [
    "history = model.fit(X_train, y_train,\n",
    "                    epochs=30,\n",
    "                    verbose=False,\n",
    "                    validation_data=(X_test, y_test),\n",
    "                    batch_size=10)\n",
    "loss, accuracy = model.evaluate(X_train, y_train, verbose=False)\n",
    "print(\"Training Accuracy: {:.4f}\".format(accuracy))\n",
    "loss, accuracy = model.evaluate(X_test, y_test, verbose=False)\n",
    "print(\"Testing Accuracy:  {:.4f}\".format(accuracy))\n",
    "plot_history(history)"
   ]
  },
  {
   "cell_type": "markdown",
   "metadata": {},
   "source": [
    "## Using Pretrained Word-Embedding"
   ]
  },
  {
   "cell_type": "markdown",
   "metadata": {},
   "source": [
    "An alternative is to use a precomputed embedding space that utilizes a much larger corpus. It is possible to precompute word embeddings by simply training them on a large corpus of text. Among the most popular methods are Word2Vec developed by Google and GloVe (Global Vectors for Word Representation) developed by the Stanford NLP Group.\n",
    "\n",
    "Note that those are different approaches with the same goal. Word2Vec achieves this by employing neural networks and GloVe achieves this with a co-occurrence matrix and by using matrix factorization. In both cases you are dealing with dimensionality reduction, but Word2Vec is more accurate and GloVe is faster to compute."
   ]
  },
  {
   "cell_type": "code",
   "execution_count": 106,
   "metadata": {},
   "outputs": [],
   "source": [
    "def create_embedding_matrix(filepath, word_index, embedding_dim):\n",
    "    \n",
    "    vocab_size = len(word_index) + 1  # Adding again 1 because of reserved 0 index\n",
    "    embedding_matrix = np.zeros((vocab_size, embedding_dim))\n",
    "\n",
    "    with open(filepath, encoding=\"utf8\") as f:\n",
    "        for line in f:\n",
    "            word, *vector = line.split()\n",
    "            if word in word_index:\n",
    "                idx = word_index[word] \n",
    "                embedding_matrix[idx] = np.array(\n",
    "                    vector, dtype=np.float32)[:embedding_dim]\n",
    "\n",
    "    return embedding_matrix"
   ]
  },
  {
   "cell_type": "code",
   "execution_count": 107,
   "metadata": {},
   "outputs": [],
   "source": [
    "embedding_dim = 50\n",
    "embedding_matrix = create_embedding_matrix(\n",
    "     filepath = 'D:/Semillero Data Science/Deep Learning/pre-trained Word Embeddings/GloVe/glove.6B.50d.txt',\n",
    "     word_index = tokenizer.word_index, \n",
    "     embedding_dim = embedding_dim)"
   ]
  },
  {
   "cell_type": "code",
   "execution_count": 108,
   "metadata": {},
   "outputs": [
    {
     "data": {
      "text/plain": [
       "array([[ 0.        ,  0.        ,  0.        , ...,  0.        ,\n",
       "         0.        ,  0.        ],\n",
       "       [ 0.41800001,  0.24968   , -0.41242   , ..., -0.18411   ,\n",
       "        -0.11514   , -0.78580999],\n",
       "       [ 0.21705   ,  0.46515   , -0.46757001, ..., -0.043782  ,\n",
       "         0.41012999,  0.1796    ],\n",
       "       ...,\n",
       "       [-0.44764999,  0.15226001, -0.43832001, ..., -0.65898001,\n",
       "        -0.27647999,  0.89168   ],\n",
       "       [ 0.11566   ,  0.099637  , -0.31233999, ..., -0.20395   ,\n",
       "        -0.20169   ,  0.95064002],\n",
       "       [-0.3811    ,  1.14390004,  0.22861999, ..., -0.59213001,\n",
       "        -0.24017   ,  0.77824003]])"
      ]
     },
     "execution_count": 108,
     "metadata": {},
     "output_type": "execute_result"
    }
   ],
   "source": [
    "embedding_matrix"
   ]
  },
  {
   "cell_type": "markdown",
   "metadata": {},
   "source": [
    " **Vocabulary coverage** Check out how many embedding vectors are non-zero. "
   ]
  },
  {
   "cell_type": "code",
   "execution_count": 109,
   "metadata": {},
   "outputs": [
    {
     "data": {
      "text/plain": [
       "0.9522330097087378"
      ]
     },
     "execution_count": 109,
     "metadata": {},
     "output_type": "execute_result"
    }
   ],
   "source": [
    "nonzero_elements = np.count_nonzero(np.count_nonzero(embedding_matrix, axis=1))\n",
    "nonzero_elements / vocab_size"
   ]
  },
  {
   "cell_type": "markdown",
   "metadata": {},
   "source": [
    "## Run GlobMaxPool1D Hidden Layer - with no Embedding Training"
   ]
  },
  {
   "cell_type": "code",
   "execution_count": 110,
   "metadata": {},
   "outputs": [
    {
     "name": "stdout",
     "output_type": "stream",
     "text": [
      "Model: \"sequential_72\"\n",
      "_________________________________________________________________\n",
      "Layer (type)                 Output Shape              Param #   \n",
      "=================================================================\n",
      "embedding_70 (Embedding)     (None, 100, 50)           128750    \n",
      "_________________________________________________________________\n",
      "global_max_pooling1d_68 (Glo (None, 50)                0         \n",
      "_________________________________________________________________\n",
      "dense_144 (Dense)            (None, 10)                510       \n",
      "_________________________________________________________________\n",
      "dense_145 (Dense)            (None, 1)                 11        \n",
      "=================================================================\n",
      "Total params: 129,271\n",
      "Trainable params: 521\n",
      "Non-trainable params: 128,750\n",
      "_________________________________________________________________\n"
     ]
    }
   ],
   "source": [
    "model = Sequential()\n",
    "model.add(layers.Embedding(vocab_size, embedding_dim, \n",
    "                           weights=[embedding_matrix], \n",
    "                           input_length=maxlen, \n",
    "                           trainable=False))\n",
    "model.add(layers.GlobalMaxPool1D())\n",
    "model.add(layers.Dense(10, activation='relu'))\n",
    "model.add(layers.Dense(1, activation='sigmoid'))\n",
    "model.compile(optimizer='adam',\n",
    "              loss='binary_crossentropy',\n",
    "              metrics=['accuracy'])\n",
    "model.summary()"
   ]
  },
  {
   "cell_type": "code",
   "execution_count": 111,
   "metadata": {},
   "outputs": [
    {
     "name": "stdout",
     "output_type": "stream",
     "text": [
      "Training Accuracy: 0.7825\n",
      "Testing Accuracy:  0.7701\n"
     ]
    },
    {
     "data": {
      "image/png": "[encoded data removed]",
      "text/plain": [
       "<Figure size 864x360 with 2 Axes>"
      ]
     },
     "metadata": {},
     "output_type": "display_data"
    }
   ],
   "source": [
    "history = model.fit(X_train, y_train,\n",
    "                    epochs=50,\n",
    "                    verbose=False,\n",
    "                    validation_data=(X_test, y_test),\n",
    "                    batch_size=10)\n",
    "loss, accuracy = model.evaluate(X_train, y_train, verbose=False)\n",
    "print(\"Training Accuracy: {:.4f}\".format(accuracy))\n",
    "loss, accuracy = model.evaluate(X_test, y_test, verbose=False)\n",
    "print(\"Testing Accuracy:  {:.4f}\".format(accuracy))\n",
    "plot_history(history)"
   ]
  },
  {
   "cell_type": "markdown",
   "metadata": {},
   "source": [
    "## Run GlobMaxPool1D Hidden Layer - with Emmbedding Training"
   ]
  },
  {
   "cell_type": "code",
   "execution_count": 112,
   "metadata": {},
   "outputs": [
    {
     "name": "stdout",
     "output_type": "stream",
     "text": [
      "Model: \"sequential_73\"\n",
      "_________________________________________________________________\n",
      "Layer (type)                 Output Shape              Param #   \n",
      "=================================================================\n",
      "embedding_71 (Embedding)     (None, 100, 50)           128750    \n",
      "_________________________________________________________________\n",
      "global_max_pooling1d_69 (Glo (None, 50)                0         \n",
      "_________________________________________________________________\n",
      "dense_146 (Dense)            (None, 10)                510       \n",
      "_________________________________________________________________\n",
      "dense_147 (Dense)            (None, 1)                 11        \n",
      "=================================================================\n",
      "Total params: 129,271\n",
      "Trainable params: 129,271\n",
      "Non-trainable params: 0\n",
      "_________________________________________________________________\n"
     ]
    }
   ],
   "source": [
    "model = Sequential()\n",
    "model.add(layers.Embedding(vocab_size, embedding_dim, \n",
    "                           weights=[embedding_matrix], \n",
    "                           input_length=maxlen, \n",
    "                           trainable=True))\n",
    "model.add(layers.GlobalMaxPool1D())\n",
    "model.add(layers.Dense(10, activation='relu'))\n",
    "model.add(layers.Dense(1, activation='sigmoid'))\n",
    "model.compile(optimizer='adam',\n",
    "              loss='binary_crossentropy',\n",
    "              metrics=['accuracy'])\n",
    "model.summary()"
   ]
  },
  {
   "cell_type": "code",
   "execution_count": 113,
   "metadata": {},
   "outputs": [
    {
     "name": "stdout",
     "output_type": "stream",
     "text": [
      "Training Accuracy: 1.0000\n",
      "Testing Accuracy:  0.7594\n"
     ]
    },
    {
     "data": {
      "image/png": "[encoded data removed]",
      "text/plain": [
       "<Figure size 864x360 with 2 Axes>"
      ]
     },
     "metadata": {},
     "output_type": "display_data"
    }
   ],
   "source": [
    "history = model.fit(X_train, y_train,\n",
    "                    epochs=50,\n",
    "                    verbose=False,\n",
    "                    validation_data=(X_test, y_test),\n",
    "                    batch_size=10)\n",
    "loss, accuracy = model.evaluate(X_train, y_train, verbose=False)\n",
    "print(\"Training Accuracy: {:.4f}\".format(accuracy))\n",
    "loss, accuracy = model.evaluate(X_test, y_test, verbose=False)\n",
    "print(\"Testing Accuracy:  {:.4f}\".format(accuracy))\n",
    "plot_history(history)"
   ]
  },
  {
   "cell_type": "markdown",
   "metadata": {},
   "source": [
    "## Convolutional Neural Networks\n",
    "\n",
    "A CNN has hidden layers which are called convolutional layers. When you think of images, a computer has to deal with a two dimensional matrix of numbers and therefore you need some way to detect features in this matrix. These convolutional layers are able to detect edges, corners and other kinds of textures which makes them such a special tool. The convolutional layer consists of multiple filters which are slid across the image and are able to detect specific features.\n",
    "\n",
    "Reference: \n",
    " - Convolution -- https://en.wikipedia.org/wiki/Convolution\n",
    " - Feature Visualization -- https://distill.pub/2017/feature-visualization/"
   ]
  },
  {
   "cell_type": "markdown",
   "metadata": {},
   "source": [
    "Friendly Explanation of CNN - https://www.youtube.com/watch?v=2-Ol7ZB0MmU&ab_channel=LuisSerrano\n",
    "\n",
    "<center>\n",
    "<img src=\"img/CNN1.jpg\" aligment ='center' width=\"400\" height=\"200\">\n",
    "    \n",
    "<img src=\"img/CNN2.jpg\" aligment ='center' width=\"400\" height=\"200\">\n",
    "    \n"
   ]
  },
  {
   "cell_type": "markdown",
   "metadata": {},
   "source": [
    "<center>\n",
    "<img src=\"img/CNN3.jpg\" aligment ='center' width=\"400\" height=\"200\">\n",
    "    \n",
    "<img src=\"img/CNN4.jpg\" aligment ='center' width=\"400\" height=\"200\">"
   ]
  },
  {
   "cell_type": "markdown",
   "metadata": {},
   "source": [
    "Math Explanation -- https://www.youtube.com/watch?v=JB8T_zN7ZC0&ab_channel=BrandonRohrer\n",
    "\n",
    "<center>\n",
    "<img src=\"img/CNN_Math_1.jpg\" aligment ='center' width=\"400\" height=\"200\">\n",
    "    \n",
    "<img src=\"img/CNN_Math_2.jpg\" aligment ='center' width=\"400\" height=\"200\">"
   ]
  },
  {
   "cell_type": "markdown",
   "metadata": {},
   "source": [
    "When we are working with sequential data, like text, we work with one dimensional convolutions, but the idea and the application stays the same. You still want to pick up on patterns in the sequence which become more complex with each added convolutional layer.\n",
    "\n",
    "<center>\n",
    "<img src=\"img/1D_Convolution.jpg\" aligment ='center' width=\"400\" height=\"200\">"
   ]
  },
  {
   "cell_type": "code",
   "execution_count": 123,
   "metadata": {},
   "outputs": [
    {
     "name": "stdout",
     "output_type": "stream",
     "text": [
      "Model: \"sequential_98\"\n",
      "_________________________________________________________________\n",
      "Layer (type)                 Output Shape              Param #   \n",
      "=================================================================\n",
      "embedding_96 (Embedding)     (None, 100, 100)          460300    \n",
      "_________________________________________________________________\n",
      "conv1d_111 (Conv1D)          (None, 99, 128)           25728     \n",
      "_________________________________________________________________\n",
      "conv1d_112 (Conv1D)          (None, 95, 64)            41024     \n",
      "_________________________________________________________________\n",
      "global_max_pooling1d_94 (Glo (None, 64)                0         \n",
      "_________________________________________________________________\n",
      "dense_154 (Dense)            (None, 10)                650       \n",
      "_________________________________________________________________\n",
      "dense_155 (Dense)            (None, 1)                 11        \n",
      "=================================================================\n",
      "Total params: 527,713\n",
      "Trainable params: 527,713\n",
      "Non-trainable params: 0\n",
      "_________________________________________________________________\n"
     ]
    }
   ],
   "source": [
    "embedding_dim = 100\n",
    "\n",
    "model = Sequential()\n",
    "\n",
    "model.add(layers.Embedding(vocab_size, embedding_dim, input_length=maxlen))\n",
    "\n",
    "# Filters: No. of output filter in the convolution\n",
    "# kernel_size: An integer or tuple/list of a single integer, specifying the length of the 1D convolution window.\n",
    "model.add(layers.Conv1D(filters = 128, kernel_size = 2, activation='relu'))\n",
    "\n",
    "# Global max pooling operation for 1D temporal data.\n",
    "# Downsamples the input representation by taking the maximum value over the time dimension\n",
    "#model.add(layers.GlobalMaxPooling1D())\n",
    "\n",
    "model.add(layers.Conv1D(filters = 64, kernel_size = 5, activation='relu'))\n",
    "\n",
    "model.add(layers.GlobalMaxPooling1D())\n",
    "\n",
    "model.add(layers.Dense(10, activation='relu'))\n",
    "model.add(layers.Dense(1, activation='sigmoid'))\n",
    "\n",
    "model.compile(optimizer='adam',\n",
    "              loss='binary_crossentropy',\n",
    "              metrics=['accuracy'])\n",
    "\n",
    "model.summary()"
   ]
  },
  {
   "cell_type": "code",
   "execution_count": 124,
   "metadata": {},
   "outputs": [
    {
     "name": "stdout",
     "output_type": "stream",
     "text": [
      "Training Accuracy: 0.7807\n",
      "Testing Accuracy:  0.8355\n"
     ]
    },
    {
     "data": {
      "image/png": "[encoded data removed]",
      "text/plain": [
       "<Figure size 864x360 with 2 Axes>"
      ]
     },
     "metadata": {},
     "output_type": "display_data"
    }
   ],
   "source": [
    "history = model.fit(X_train, y_train,\n",
    "                    epochs=20,\n",
    "                    verbose=False,\n",
    "                    validation_data=(X_test, y_test),\n",
    "                    batch_size=10)\n",
    "model.evaluate(X_train, y_train, verbose=False)\n",
    "print(\"Training Accuracy: {:.4f}\".format(accuracy))\n",
    "loss, accuracy = model.evaluate(X_test, y_test, verbose=False)\n",
    "print(\"Testing Accuracy:  {:.4f}\".format(accuracy))\n",
    "plot_history(history)"
   ]
  },
  {
   "cell_type": "markdown",
   "metadata": {},
   "source": [
    "We can see that 80% accuracy seems to be tough hurdle to overcome with this data set and a CNN might not be well equipped. The reason for such a plateau might be that:\n",
    "\n",
    "- There are not enough training samples\n",
    "- The data you have does not generalize well\n",
    "- Missing focus on tweaking the hyperparameters\n",
    "\n",
    "CNNs work best with large training sets where they are able to find generalizations where a simple model like logistic regression won’t be able."
   ]
  },
  {
   "cell_type": "markdown",
   "metadata": {},
   "source": [
    "## Hyperparameter Optimization - Random Search"
   ]
  },
  {
   "cell_type": "code",
   "execution_count": 130,
   "metadata": {},
   "outputs": [],
   "source": [
    "def create_model(num_filters_cv1, num_filters_cv2, kernel_size_cv2, kernel_size_cv1, vocab_size, embedding_dim, maxlen):\n",
    "    \n",
    "    model = Sequential()\n",
    "    model.add(layers.Embedding(vocab_size, embedding_dim, input_length=maxlen))\n",
    "        \n",
    "    model.add(layers.Conv1D(num_filters_cv1, kernel_size_cv1, activation='relu'))\n",
    "    \n",
    "    model.add(layers.Conv1D(num_filters_cv2, kernel_size_cv2, activation='relu'))\n",
    "    \n",
    "    model.add(layers.GlobalMaxPooling1D())\n",
    "    \n",
    "    model.add(layers.Dense(10, activation='relu'))\n",
    "    model.add(layers.Dense(1, activation='sigmoid'))\n",
    "    model.compile(optimizer='adam',\n",
    "                  loss='binary_crossentropy',\n",
    "                  metrics=['accuracy'])\n",
    "    return model"
   ]
  },
  {
   "cell_type": "code",
   "execution_count": 131,
   "metadata": {},
   "outputs": [],
   "source": [
    "param_grid = dict(num_filters_cv1 = [32, 64],\n",
    "                  num_filters_cv2 = [64, 128],\n",
    "                  kernel_size_cv1 = [2, 3],\n",
    "                  kernel_size_cv2 = [5, 7],\n",
    "                  vocab_size = [5000, 3000, 6000], \n",
    "                  embedding_dim = [50],\n",
    "                  maxlen = [100, 80])"
   ]
  },
  {
   "cell_type": "code",
   "execution_count": null,
   "metadata": {},
   "outputs": [
    {
     "name": "stdout",
     "output_type": "stream",
     "text": [
      "Running grid search for data set : amazon\n",
      "Fitting 4 folds for each of 5 candidates, totalling 20 fits\n",
      "WARNING:tensorflow:Model was constructed with shape (None, 80) for input KerasTensor(type_spec=TensorSpec(shape=(None, 80), dtype=tf.float32, name='embedding_139_input'), name='embedding_139_input', description=\"created by layer 'embedding_139_input'\"), but it was called on an input with incompatible shape (None, 100).\n"
     ]
    },
    {
     "name": "stderr",
     "output_type": "stream",
     "text": [
      "[Parallel(n_jobs=1)]: Using backend SequentialBackend with 1 concurrent workers.\n"
     ]
    },
    {
     "name": "stdout",
     "output_type": "stream",
     "text": [
      "WARNING:tensorflow:Model was constructed with shape (None, 80) for input KerasTensor(type_spec=TensorSpec(shape=(None, 80), dtype=tf.float32, name='embedding_139_input'), name='embedding_139_input', description=\"created by layer 'embedding_139_input'\"), but it was called on an input with incompatible shape (None, 100).\n",
      "WARNING:tensorflow:Model was constructed with shape (None, 80) for input KerasTensor(type_spec=TensorSpec(shape=(None, 80), dtype=tf.float32, name='embedding_140_input'), name='embedding_140_input', description=\"created by layer 'embedding_140_input'\"), but it was called on an input with incompatible shape (None, 100).\n"
     ]
    },
    {
     "name": "stderr",
     "output_type": "stream",
     "text": [
      "c:\\users\\user\\anaconda3\\envs\\class\\lib\\site-packages\\sklearn\\model_selection\\_validation.py:552: FitFailedWarning: Estimator fit failed. The score on this train-test partition for these parameters will be set to nan. Details: \n",
      "Traceback (most recent call last):\n",
      "  File \"c:\\users\\user\\anaconda3\\envs\\class\\lib\\site-packages\\sklearn\\model_selection\\_validation.py\", line 531, in _fit_and_score\n",
      "    estimator.fit(X_train, y_train, **fit_params)\n",
      "  File \"c:\\users\\user\\anaconda3\\envs\\class\\lib\\site-packages\\tensorflow\\python\\keras\\wrappers\\scikit_learn.py\", line 223, in fit\n",
      "    return super(KerasClassifier, self).fit(x, y, **kwargs)\n",
      "  File \"c:\\users\\user\\anaconda3\\envs\\class\\lib\\site-packages\\tensorflow\\python\\keras\\wrappers\\scikit_learn.py\", line 166, in fit\n",
      "    history = self.model.fit(x, y, **fit_args)\n",
      "  File \"c:\\users\\user\\anaconda3\\envs\\class\\lib\\site-packages\\tensorflow\\python\\keras\\engine\\training.py\", line 1100, in fit\n",
      "    tmp_logs = self.train_function(iterator)\n",
      "  File \"c:\\users\\user\\anaconda3\\envs\\class\\lib\\site-packages\\tensorflow\\python\\eager\\def_function.py\", line 828, in __call__\n",
      "    result = self._call(*args, **kwds)\n",
      "  File \"c:\\users\\user\\anaconda3\\envs\\class\\lib\\site-packages\\tensorflow\\python\\eager\\def_function.py\", line 888, in _call\n",
      "    return self._stateless_fn(*args, **kwds)\n",
      "  File \"c:\\users\\user\\anaconda3\\envs\\class\\lib\\site-packages\\tensorflow\\python\\eager\\function.py\", line 2943, in __call__\n",
      "    filtered_flat_args, captured_inputs=graph_function.captured_inputs)  # pylint: disable=protected-access\n",
      "  File \"c:\\users\\user\\anaconda3\\envs\\class\\lib\\site-packages\\tensorflow\\python\\eager\\function.py\", line 1919, in _call_flat\n",
      "    ctx, args, cancellation_manager=cancellation_manager))\n",
      "  File \"c:\\users\\user\\anaconda3\\envs\\class\\lib\\site-packages\\tensorflow\\python\\eager\\function.py\", line 560, in call\n",
      "    ctx=ctx)\n",
      "  File \"c:\\users\\user\\anaconda3\\envs\\class\\lib\\site-packages\\tensorflow\\python\\eager\\execute.py\", line 60, in quick_execute\n",
      "    inputs, attrs, num_outputs)\n",
      "tensorflow.python.framework.errors_impl.InvalidArgumentError:  indices[2,15] = 3430 is not in [0, 3000)\n",
      "\t [[node sequential_141/embedding_139/embedding_lookup (defined at c:\\users\\user\\anaconda3\\envs\\class\\lib\\site-packages\\sklearn\\model_selection\\_validation.py:531) ]] [Op:__inference_train_function_577569]\n",
      "\n",
      "Errors may have originated from an input operation.\n",
      "Input Source operations connected to node sequential_141/embedding_139/embedding_lookup:\n",
      " sequential_141/embedding_139/embedding_lookup/577229 (defined at c:\\users\\user\\anaconda3\\envs\\class\\lib\\contextlib.py:112)\n",
      "\n",
      "Function call stack:\n",
      "train_function\n",
      "\n",
      "\n",
      "  FitFailedWarning)\n"
     ]
    },
    {
     "name": "stdout",
     "output_type": "stream",
     "text": [
      "WARNING:tensorflow:Model was constructed with shape (None, 80) for input KerasTensor(type_spec=TensorSpec(shape=(None, 80), dtype=tf.float32, name='embedding_140_input'), name='embedding_140_input', description=\"created by layer 'embedding_140_input'\"), but it was called on an input with incompatible shape (None, 100).\n",
      "WARNING:tensorflow:Model was constructed with shape (None, 80) for input KerasTensor(type_spec=TensorSpec(shape=(None, 80), dtype=tf.float32, name='embedding_141_input'), name='embedding_141_input', description=\"created by layer 'embedding_141_input'\"), but it was called on an input with incompatible shape (None, 100).\n"
     ]
    },
    {
     "name": "stderr",
     "output_type": "stream",
     "text": [
      "c:\\users\\user\\anaconda3\\envs\\class\\lib\\site-packages\\sklearn\\model_selection\\_validation.py:552: FitFailedWarning: Estimator fit failed. The score on this train-test partition for these parameters will be set to nan. Details: \n",
      "Traceback (most recent call last):\n",
      "  File \"c:\\users\\user\\anaconda3\\envs\\class\\lib\\site-packages\\sklearn\\model_selection\\_validation.py\", line 531, in _fit_and_score\n",
      "    estimator.fit(X_train, y_train, **fit_params)\n",
      "  File \"c:\\users\\user\\anaconda3\\envs\\class\\lib\\site-packages\\tensorflow\\python\\keras\\wrappers\\scikit_learn.py\", line 223, in fit\n",
      "    return super(KerasClassifier, self).fit(x, y, **kwargs)\n",
      "  File \"c:\\users\\user\\anaconda3\\envs\\class\\lib\\site-packages\\tensorflow\\python\\keras\\wrappers\\scikit_learn.py\", line 166, in fit\n",
      "    history = self.model.fit(x, y, **fit_args)\n",
      "  File \"c:\\users\\user\\anaconda3\\envs\\class\\lib\\site-packages\\tensorflow\\python\\keras\\engine\\training.py\", line 1100, in fit\n",
      "    tmp_logs = self.train_function(iterator)\n",
      "  File \"c:\\users\\user\\anaconda3\\envs\\class\\lib\\site-packages\\tensorflow\\python\\eager\\def_function.py\", line 828, in __call__\n",
      "    result = self._call(*args, **kwds)\n",
      "  File \"c:\\users\\user\\anaconda3\\envs\\class\\lib\\site-packages\\tensorflow\\python\\eager\\def_function.py\", line 888, in _call\n",
      "    return self._stateless_fn(*args, **kwds)\n",
      "  File \"c:\\users\\user\\anaconda3\\envs\\class\\lib\\site-packages\\tensorflow\\python\\eager\\function.py\", line 2943, in __call__\n",
      "    filtered_flat_args, captured_inputs=graph_function.captured_inputs)  # pylint: disable=protected-access\n",
      "  File \"c:\\users\\user\\anaconda3\\envs\\class\\lib\\site-packages\\tensorflow\\python\\eager\\function.py\", line 1919, in _call_flat\n",
      "    ctx, args, cancellation_manager=cancellation_manager))\n",
      "  File \"c:\\users\\user\\anaconda3\\envs\\class\\lib\\site-packages\\tensorflow\\python\\eager\\function.py\", line 560, in call\n",
      "    ctx=ctx)\n",
      "  File \"c:\\users\\user\\anaconda3\\envs\\class\\lib\\site-packages\\tensorflow\\python\\eager\\execute.py\", line 60, in quick_execute\n",
      "    inputs, attrs, num_outputs)\n",
      "tensorflow.python.framework.errors_impl.InvalidArgumentError:  indices[0,0] = 3925 is not in [0, 3000)\n",
      "\t [[node sequential_142/embedding_140/embedding_lookup (defined at c:\\users\\user\\anaconda3\\envs\\class\\lib\\site-packages\\sklearn\\model_selection\\_validation.py:531) ]] [Op:__inference_train_function_578593]\n",
      "\n",
      "Errors may have originated from an input operation.\n",
      "Input Source operations connected to node sequential_142/embedding_140/embedding_lookup:\n",
      " sequential_142/embedding_140/embedding_lookup/578253 (defined at c:\\users\\user\\anaconda3\\envs\\class\\lib\\contextlib.py:112)\n",
      "\n",
      "Function call stack:\n",
      "train_function\n",
      "\n",
      "\n",
      "  FitFailedWarning)\n"
     ]
    },
    {
     "name": "stdout",
     "output_type": "stream",
     "text": [
      "WARNING:tensorflow:Model was constructed with shape (None, 80) for input KerasTensor(type_spec=TensorSpec(shape=(None, 80), dtype=tf.float32, name='embedding_141_input'), name='embedding_141_input', description=\"created by layer 'embedding_141_input'\"), but it was called on an input with incompatible shape (None, 100).\n",
      "WARNING:tensorflow:Model was constructed with shape (None, 80) for input KerasTensor(type_spec=TensorSpec(shape=(None, 80), dtype=tf.float32, name='embedding_142_input'), name='embedding_142_input', description=\"created by layer 'embedding_142_input'\"), but it was called on an input with incompatible shape (None, 100).\n"
     ]
    },
    {
     "name": "stderr",
     "output_type": "stream",
     "text": [
      "c:\\users\\user\\anaconda3\\envs\\class\\lib\\site-packages\\sklearn\\model_selection\\_validation.py:552: FitFailedWarning: Estimator fit failed. The score on this train-test partition for these parameters will be set to nan. Details: \n",
      "Traceback (most recent call last):\n",
      "  File \"c:\\users\\user\\anaconda3\\envs\\class\\lib\\site-packages\\sklearn\\model_selection\\_validation.py\", line 531, in _fit_and_score\n",
      "    estimator.fit(X_train, y_train, **fit_params)\n",
      "  File \"c:\\users\\user\\anaconda3\\envs\\class\\lib\\site-packages\\tensorflow\\python\\keras\\wrappers\\scikit_learn.py\", line 223, in fit\n",
      "    return super(KerasClassifier, self).fit(x, y, **kwargs)\n",
      "  File \"c:\\users\\user\\anaconda3\\envs\\class\\lib\\site-packages\\tensorflow\\python\\keras\\wrappers\\scikit_learn.py\", line 166, in fit\n",
      "    history = self.model.fit(x, y, **fit_args)\n",
      "  File \"c:\\users\\user\\anaconda3\\envs\\class\\lib\\site-packages\\tensorflow\\python\\keras\\engine\\training.py\", line 1100, in fit\n",
      "    tmp_logs = self.train_function(iterator)\n",
      "  File \"c:\\users\\user\\anaconda3\\envs\\class\\lib\\site-packages\\tensorflow\\python\\eager\\def_function.py\", line 828, in __call__\n",
      "    result = self._call(*args, **kwds)\n",
      "  File \"c:\\users\\user\\anaconda3\\envs\\class\\lib\\site-packages\\tensorflow\\python\\eager\\def_function.py\", line 888, in _call\n",
      "    return self._stateless_fn(*args, **kwds)\n",
      "  File \"c:\\users\\user\\anaconda3\\envs\\class\\lib\\site-packages\\tensorflow\\python\\eager\\function.py\", line 2943, in __call__\n",
      "    filtered_flat_args, captured_inputs=graph_function.captured_inputs)  # pylint: disable=protected-access\n",
      "  File \"c:\\users\\user\\anaconda3\\envs\\class\\lib\\site-packages\\tensorflow\\python\\eager\\function.py\", line 1919, in _call_flat\n",
      "    ctx, args, cancellation_manager=cancellation_manager))\n",
      "  File \"c:\\users\\user\\anaconda3\\envs\\class\\lib\\site-packages\\tensorflow\\python\\eager\\function.py\", line 560, in call\n",
      "    ctx=ctx)\n",
      "  File \"c:\\users\\user\\anaconda3\\envs\\class\\lib\\site-packages\\tensorflow\\python\\eager\\execute.py\", line 60, in quick_execute\n",
      "    inputs, attrs, num_outputs)\n",
      "tensorflow.python.framework.errors_impl.InvalidArgumentError:  indices[3,10] = 4199 is not in [0, 3000)\n",
      "\t [[node sequential_143/embedding_141/embedding_lookup (defined at c:\\users\\user\\anaconda3\\envs\\class\\lib\\site-packages\\sklearn\\model_selection\\_validation.py:531) ]] [Op:__inference_train_function_579617]\n",
      "\n",
      "Errors may have originated from an input operation.\n",
      "Input Source operations connected to node sequential_143/embedding_141/embedding_lookup:\n",
      " sequential_143/embedding_141/embedding_lookup/579277 (defined at c:\\users\\user\\anaconda3\\envs\\class\\lib\\contextlib.py:112)\n",
      "\n",
      "Function call stack:\n",
      "train_function\n",
      "\n",
      "\n",
      "  FitFailedWarning)\n"
     ]
    },
    {
     "name": "stdout",
     "output_type": "stream",
     "text": [
      "WARNING:tensorflow:Model was constructed with shape (None, 80) for input KerasTensor(type_spec=TensorSpec(shape=(None, 80), dtype=tf.float32, name='embedding_142_input'), name='embedding_142_input', description=\"created by layer 'embedding_142_input'\"), but it was called on an input with incompatible shape (None, 100).\n"
     ]
    },
    {
     "name": "stderr",
     "output_type": "stream",
     "text": [
      "c:\\users\\user\\anaconda3\\envs\\class\\lib\\site-packages\\sklearn\\model_selection\\_validation.py:552: FitFailedWarning: Estimator fit failed. The score on this train-test partition for these parameters will be set to nan. Details: \n",
      "Traceback (most recent call last):\n",
      "  File \"c:\\users\\user\\anaconda3\\envs\\class\\lib\\site-packages\\sklearn\\model_selection\\_validation.py\", line 531, in _fit_and_score\n",
      "    estimator.fit(X_train, y_train, **fit_params)\n",
      "  File \"c:\\users\\user\\anaconda3\\envs\\class\\lib\\site-packages\\tensorflow\\python\\keras\\wrappers\\scikit_learn.py\", line 223, in fit\n",
      "    return super(KerasClassifier, self).fit(x, y, **kwargs)\n",
      "  File \"c:\\users\\user\\anaconda3\\envs\\class\\lib\\site-packages\\tensorflow\\python\\keras\\wrappers\\scikit_learn.py\", line 166, in fit\n",
      "    history = self.model.fit(x, y, **fit_args)\n",
      "  File \"c:\\users\\user\\anaconda3\\envs\\class\\lib\\site-packages\\tensorflow\\python\\keras\\engine\\training.py\", line 1100, in fit\n",
      "    tmp_logs = self.train_function(iterator)\n",
      "  File \"c:\\users\\user\\anaconda3\\envs\\class\\lib\\site-packages\\tensorflow\\python\\eager\\def_function.py\", line 828, in __call__\n",
      "    result = self._call(*args, **kwds)\n",
      "  File \"c:\\users\\user\\anaconda3\\envs\\class\\lib\\site-packages\\tensorflow\\python\\eager\\def_function.py\", line 888, in _call\n",
      "    return self._stateless_fn(*args, **kwds)\n",
      "  File \"c:\\users\\user\\anaconda3\\envs\\class\\lib\\site-packages\\tensorflow\\python\\eager\\function.py\", line 2943, in __call__\n",
      "    filtered_flat_args, captured_inputs=graph_function.captured_inputs)  # pylint: disable=protected-access\n",
      "  File \"c:\\users\\user\\anaconda3\\envs\\class\\lib\\site-packages\\tensorflow\\python\\eager\\function.py\", line 1919, in _call_flat\n",
      "    ctx, args, cancellation_manager=cancellation_manager))\n",
      "  File \"c:\\users\\user\\anaconda3\\envs\\class\\lib\\site-packages\\tensorflow\\python\\eager\\function.py\", line 560, in call\n",
      "    ctx=ctx)\n",
      "  File \"c:\\users\\user\\anaconda3\\envs\\class\\lib\\site-packages\\tensorflow\\python\\eager\\execute.py\", line 60, in quick_execute\n",
      "    inputs, attrs, num_outputs)\n",
      "tensorflow.python.framework.errors_impl.InvalidArgumentError:  indices[6,3] = 3821 is not in [0, 3000)\n",
      "\t [[node sequential_144/embedding_142/embedding_lookup (defined at c:\\users\\user\\anaconda3\\envs\\class\\lib\\site-packages\\sklearn\\model_selection\\_validation.py:531) ]] [Op:__inference_train_function_580641]\n",
      "\n",
      "Errors may have originated from an input operation.\n",
      "Input Source operations connected to node sequential_144/embedding_142/embedding_lookup:\n",
      " sequential_144/embedding_142/embedding_lookup/580301 (defined at c:\\users\\user\\anaconda3\\envs\\class\\lib\\contextlib.py:112)\n",
      "\n",
      "Function call stack:\n",
      "train_function\n",
      "\n",
      "\n",
      "  FitFailedWarning)\n",
      "c:\\users\\user\\anaconda3\\envs\\class\\lib\\site-packages\\sklearn\\model_selection\\_validation.py:552: FitFailedWarning: Estimator fit failed. The score on this train-test partition for these parameters will be set to nan. Details: \n",
      "Traceback (most recent call last):\n",
      "  File \"c:\\users\\user\\anaconda3\\envs\\class\\lib\\site-packages\\sklearn\\model_selection\\_validation.py\", line 531, in _fit_and_score\n",
      "    estimator.fit(X_train, y_train, **fit_params)\n",
      "  File \"c:\\users\\user\\anaconda3\\envs\\class\\lib\\site-packages\\tensorflow\\python\\keras\\wrappers\\scikit_learn.py\", line 223, in fit\n",
      "    return super(KerasClassifier, self).fit(x, y, **kwargs)\n",
      "  File \"c:\\users\\user\\anaconda3\\envs\\class\\lib\\site-packages\\tensorflow\\python\\keras\\wrappers\\scikit_learn.py\", line 166, in fit\n",
      "    history = self.model.fit(x, y, **fit_args)\n",
      "  File \"c:\\users\\user\\anaconda3\\envs\\class\\lib\\site-packages\\tensorflow\\python\\keras\\engine\\training.py\", line 1100, in fit\n",
      "    tmp_logs = self.train_function(iterator)\n",
      "  File \"c:\\users\\user\\anaconda3\\envs\\class\\lib\\site-packages\\tensorflow\\python\\eager\\def_function.py\", line 828, in __call__\n",
      "    result = self._call(*args, **kwds)\n",
      "  File \"c:\\users\\user\\anaconda3\\envs\\class\\lib\\site-packages\\tensorflow\\python\\eager\\def_function.py\", line 888, in _call\n",
      "    return self._stateless_fn(*args, **kwds)\n",
      "  File \"c:\\users\\user\\anaconda3\\envs\\class\\lib\\site-packages\\tensorflow\\python\\eager\\function.py\", line 2943, in __call__\n",
      "    filtered_flat_args, captured_inputs=graph_function.captured_inputs)  # pylint: disable=protected-access\n",
      "  File \"c:\\users\\user\\anaconda3\\envs\\class\\lib\\site-packages\\tensorflow\\python\\eager\\function.py\", line 1919, in _call_flat\n",
      "    ctx, args, cancellation_manager=cancellation_manager))\n",
      "  File \"c:\\users\\user\\anaconda3\\envs\\class\\lib\\site-packages\\tensorflow\\python\\eager\\function.py\", line 560, in call\n",
      "    ctx=ctx)\n",
      "  File \"c:\\users\\user\\anaconda3\\envs\\class\\lib\\site-packages\\tensorflow\\python\\eager\\execute.py\", line 60, in quick_execute\n",
      "    inputs, attrs, num_outputs)\n",
      "tensorflow.python.framework.errors_impl.InvalidArgumentError:  indices[9,5] = 4503 is not in [0, 3000)\n",
      "\t [[node sequential_145/embedding_143/embedding_lookup (defined at c:\\users\\user\\anaconda3\\envs\\class\\lib\\site-packages\\sklearn\\model_selection\\_validation.py:531) ]] [Op:__inference_train_function_581665]\n",
      "\n",
      "Errors may have originated from an input operation.\n",
      "Input Source operations connected to node sequential_145/embedding_143/embedding_lookup:\n",
      " sequential_145/embedding_143/embedding_lookup/581325 (defined at c:\\users\\user\\anaconda3\\envs\\class\\lib\\contextlib.py:112)\n",
      "\n",
      "Function call stack:\n",
      "train_function\n",
      "\n",
      "\n",
      "  FitFailedWarning)\n",
      "c:\\users\\user\\anaconda3\\envs\\class\\lib\\site-packages\\sklearn\\model_selection\\_validation.py:552: FitFailedWarning: Estimator fit failed. The score on this train-test partition for these parameters will be set to nan. Details: \n",
      "Traceback (most recent call last):\n",
      "  File \"c:\\users\\user\\anaconda3\\envs\\class\\lib\\site-packages\\sklearn\\model_selection\\_validation.py\", line 531, in _fit_and_score\n",
      "    estimator.fit(X_train, y_train, **fit_params)\n",
      "  File \"c:\\users\\user\\anaconda3\\envs\\class\\lib\\site-packages\\tensorflow\\python\\keras\\wrappers\\scikit_learn.py\", line 223, in fit\n",
      "    return super(KerasClassifier, self).fit(x, y, **kwargs)\n",
      "  File \"c:\\users\\user\\anaconda3\\envs\\class\\lib\\site-packages\\tensorflow\\python\\keras\\wrappers\\scikit_learn.py\", line 166, in fit\n",
      "    history = self.model.fit(x, y, **fit_args)\n",
      "  File \"c:\\users\\user\\anaconda3\\envs\\class\\lib\\site-packages\\tensorflow\\python\\keras\\engine\\training.py\", line 1100, in fit\n",
      "    tmp_logs = self.train_function(iterator)\n",
      "  File \"c:\\users\\user\\anaconda3\\envs\\class\\lib\\site-packages\\tensorflow\\python\\eager\\def_function.py\", line 828, in __call__\n",
      "    result = self._call(*args, **kwds)\n",
      "  File \"c:\\users\\user\\anaconda3\\envs\\class\\lib\\site-packages\\tensorflow\\python\\eager\\def_function.py\", line 888, in _call\n",
      "    return self._stateless_fn(*args, **kwds)\n",
      "  File \"c:\\users\\user\\anaconda3\\envs\\class\\lib\\site-packages\\tensorflow\\python\\eager\\function.py\", line 2943, in __call__\n",
      "    filtered_flat_args, captured_inputs=graph_function.captured_inputs)  # pylint: disable=protected-access\n",
      "  File \"c:\\users\\user\\anaconda3\\envs\\class\\lib\\site-packages\\tensorflow\\python\\eager\\function.py\", line 1919, in _call_flat\n",
      "    ctx, args, cancellation_manager=cancellation_manager))\n",
      "  File \"c:\\users\\user\\anaconda3\\envs\\class\\lib\\site-packages\\tensorflow\\python\\eager\\function.py\", line 560, in call\n",
      "    ctx=ctx)\n",
      "  File \"c:\\users\\user\\anaconda3\\envs\\class\\lib\\site-packages\\tensorflow\\python\\eager\\execute.py\", line 60, in quick_execute\n",
      "    inputs, attrs, num_outputs)\n",
      "tensorflow.python.framework.errors_impl.InvalidArgumentError:  indices[8,11] = 4198 is not in [0, 3000)\n",
      "\t [[node sequential_146/embedding_144/embedding_lookup (defined at c:\\users\\user\\anaconda3\\envs\\class\\lib\\site-packages\\sklearn\\model_selection\\_validation.py:531) ]] [Op:__inference_train_function_582689]\n",
      "\n",
      "Errors may have originated from an input operation.\n",
      "Input Source operations connected to node sequential_146/embedding_144/embedding_lookup:\n",
      " sequential_146/embedding_144/embedding_lookup/582349 (defined at c:\\users\\user\\anaconda3\\envs\\class\\lib\\contextlib.py:112)\n",
      "\n",
      "Function call stack:\n",
      "train_function\n",
      "\n",
      "\n",
      "  FitFailedWarning)\n",
      "c:\\users\\user\\anaconda3\\envs\\class\\lib\\site-packages\\sklearn\\model_selection\\_validation.py:552: FitFailedWarning: Estimator fit failed. The score on this train-test partition for these parameters will be set to nan. Details: \n",
      "Traceback (most recent call last):\n",
      "  File \"c:\\users\\user\\anaconda3\\envs\\class\\lib\\site-packages\\sklearn\\model_selection\\_validation.py\", line 531, in _fit_and_score\n",
      "    estimator.fit(X_train, y_train, **fit_params)\n",
      "  File \"c:\\users\\user\\anaconda3\\envs\\class\\lib\\site-packages\\tensorflow\\python\\keras\\wrappers\\scikit_learn.py\", line 223, in fit\n",
      "    return super(KerasClassifier, self).fit(x, y, **kwargs)\n",
      "  File \"c:\\users\\user\\anaconda3\\envs\\class\\lib\\site-packages\\tensorflow\\python\\keras\\wrappers\\scikit_learn.py\", line 166, in fit\n",
      "    history = self.model.fit(x, y, **fit_args)\n",
      "  File \"c:\\users\\user\\anaconda3\\envs\\class\\lib\\site-packages\\tensorflow\\python\\keras\\engine\\training.py\", line 1100, in fit\n",
      "    tmp_logs = self.train_function(iterator)\n",
      "  File \"c:\\users\\user\\anaconda3\\envs\\class\\lib\\site-packages\\tensorflow\\python\\eager\\def_function.py\", line 828, in __call__\n",
      "    result = self._call(*args, **kwds)\n",
      "  File \"c:\\users\\user\\anaconda3\\envs\\class\\lib\\site-packages\\tensorflow\\python\\eager\\def_function.py\", line 855, in _call\n",
      "    return self._stateless_fn(*args, **kwds)  # pylint: disable=not-callable\n",
      "  File \"c:\\users\\user\\anaconda3\\envs\\class\\lib\\site-packages\\tensorflow\\python\\eager\\function.py\", line 2943, in __call__\n",
      "    filtered_flat_args, captured_inputs=graph_function.captured_inputs)  # pylint: disable=protected-access\n",
      "  File \"c:\\users\\user\\anaconda3\\envs\\class\\lib\\site-packages\\tensorflow\\python\\eager\\function.py\", line 1919, in _call_flat\n",
      "    ctx, args, cancellation_manager=cancellation_manager))\n",
      "  File \"c:\\users\\user\\anaconda3\\envs\\class\\lib\\site-packages\\tensorflow\\python\\eager\\function.py\", line 560, in call\n",
      "    ctx=ctx)\n",
      "  File \"c:\\users\\user\\anaconda3\\envs\\class\\lib\\site-packages\\tensorflow\\python\\eager\\execute.py\", line 60, in quick_execute\n",
      "    inputs, attrs, num_outputs)\n",
      "tensorflow.python.framework.errors_impl.InvalidArgumentError:  indices[8,1] = 4188 is not in [0, 3000)\n",
      "\t [[node sequential_147/embedding_145/embedding_lookup (defined at c:\\users\\user\\anaconda3\\envs\\class\\lib\\site-packages\\sklearn\\model_selection\\_validation.py:531) ]] [Op:__inference_train_function_583713]\n",
      "\n",
      "Errors may have originated from an input operation.\n",
      "Input Source operations connected to node sequential_147/embedding_145/embedding_lookup:\n",
      " sequential_147/embedding_145/embedding_lookup/583373 (defined at c:\\users\\user\\anaconda3\\envs\\class\\lib\\contextlib.py:112)\n",
      "\n",
      "Function call stack:\n",
      "train_function\n",
      "\n",
      "\n",
      "  FitFailedWarning)\n"
     ]
    },
    {
     "name": "stdout",
     "output_type": "stream",
     "text": [
      "WARNING:tensorflow:Model was constructed with shape (None, 80) for input KerasTensor(type_spec=TensorSpec(shape=(None, 80), dtype=tf.float32, name='embedding_147_input'), name='embedding_147_input', description=\"created by layer 'embedding_147_input'\"), but it was called on an input with incompatible shape (None, 100).\n"
     ]
    },
    {
     "name": "stderr",
     "output_type": "stream",
     "text": [
      "c:\\users\\user\\anaconda3\\envs\\class\\lib\\site-packages\\sklearn\\model_selection\\_validation.py:552: FitFailedWarning: Estimator fit failed. The score on this train-test partition for these parameters will be set to nan. Details: \n",
      "Traceback (most recent call last):\n",
      "  File \"c:\\users\\user\\anaconda3\\envs\\class\\lib\\site-packages\\sklearn\\model_selection\\_validation.py\", line 531, in _fit_and_score\n",
      "    estimator.fit(X_train, y_train, **fit_params)\n",
      "  File \"c:\\users\\user\\anaconda3\\envs\\class\\lib\\site-packages\\tensorflow\\python\\keras\\wrappers\\scikit_learn.py\", line 223, in fit\n",
      "    return super(KerasClassifier, self).fit(x, y, **kwargs)\n",
      "  File \"c:\\users\\user\\anaconda3\\envs\\class\\lib\\site-packages\\tensorflow\\python\\keras\\wrappers\\scikit_learn.py\", line 166, in fit\n",
      "    history = self.model.fit(x, y, **fit_args)\n",
      "  File \"c:\\users\\user\\anaconda3\\envs\\class\\lib\\site-packages\\tensorflow\\python\\keras\\engine\\training.py\", line 1100, in fit\n",
      "    tmp_logs = self.train_function(iterator)\n",
      "  File \"c:\\users\\user\\anaconda3\\envs\\class\\lib\\site-packages\\tensorflow\\python\\eager\\def_function.py\", line 828, in __call__\n",
      "    result = self._call(*args, **kwds)\n",
      "  File \"c:\\users\\user\\anaconda3\\envs\\class\\lib\\site-packages\\tensorflow\\python\\eager\\def_function.py\", line 888, in _call\n",
      "    return self._stateless_fn(*args, **kwds)\n",
      "  File \"c:\\users\\user\\anaconda3\\envs\\class\\lib\\site-packages\\tensorflow\\python\\eager\\function.py\", line 2943, in __call__\n",
      "    filtered_flat_args, captured_inputs=graph_function.captured_inputs)  # pylint: disable=protected-access\n",
      "  File \"c:\\users\\user\\anaconda3\\envs\\class\\lib\\site-packages\\tensorflow\\python\\eager\\function.py\", line 1919, in _call_flat\n",
      "    ctx, args, cancellation_manager=cancellation_manager))\n",
      "  File \"c:\\users\\user\\anaconda3\\envs\\class\\lib\\site-packages\\tensorflow\\python\\eager\\function.py\", line 560, in call\n",
      "    ctx=ctx)\n",
      "  File \"c:\\users\\user\\anaconda3\\envs\\class\\lib\\site-packages\\tensorflow\\python\\eager\\execute.py\", line 60, in quick_execute\n",
      "    inputs, attrs, num_outputs)\n",
      "tensorflow.python.framework.errors_impl.InvalidArgumentError:  indices[7,4] = 3035 is not in [0, 3000)\n",
      "\t [[node sequential_148/embedding_146/embedding_lookup (defined at c:\\users\\user\\anaconda3\\envs\\class\\lib\\site-packages\\sklearn\\model_selection\\_validation.py:531) ]] [Op:__inference_train_function_584739]\n",
      "\n",
      "Errors may have originated from an input operation.\n",
      "Input Source operations connected to node sequential_148/embedding_146/embedding_lookup:\n",
      " sequential_148/embedding_146/embedding_lookup/584399 (defined at c:\\users\\user\\anaconda3\\envs\\class\\lib\\contextlib.py:112)\n",
      "\n",
      "Function call stack:\n",
      "train_function\n",
      "\n",
      "\n",
      "  FitFailedWarning)\n"
     ]
    },
    {
     "name": "stdout",
     "output_type": "stream",
     "text": [
      "WARNING:tensorflow:Model was constructed with shape (None, 80) for input KerasTensor(type_spec=TensorSpec(shape=(None, 80), dtype=tf.float32, name='embedding_147_input'), name='embedding_147_input', description=\"created by layer 'embedding_147_input'\"), but it was called on an input with incompatible shape (None, 100).\n",
      "WARNING:tensorflow:Model was constructed with shape (None, 80) for input KerasTensor(type_spec=TensorSpec(shape=(None, 80), dtype=tf.float32, name='embedding_147_input'), name='embedding_147_input', description=\"created by layer 'embedding_147_input'\"), but it was called on an input with incompatible shape (None, 100).\n",
      "WARNING:tensorflow:Model was constructed with shape (None, 80) for input KerasTensor(type_spec=TensorSpec(shape=(None, 80), dtype=tf.float32, name='embedding_148_input'), name='embedding_148_input', description=\"created by layer 'embedding_148_input'\"), but it was called on an input with incompatible shape (None, 100).\n",
      "WARNING:tensorflow:Model was constructed with shape (None, 80) for input KerasTensor(type_spec=TensorSpec(shape=(None, 80), dtype=tf.float32, name='embedding_148_input'), name='embedding_148_input', description=\"created by layer 'embedding_148_input'\"), but it was called on an input with incompatible shape (None, 100).\n",
      "WARNING:tensorflow:Model was constructed with shape (None, 80) for input KerasTensor(type_spec=TensorSpec(shape=(None, 80), dtype=tf.float32, name='embedding_148_input'), name='embedding_148_input', description=\"created by layer 'embedding_148_input'\"), but it was called on an input with incompatible shape (None, 100).\n",
      "WARNING:tensorflow:Model was constructed with shape (None, 80) for input KerasTensor(type_spec=TensorSpec(shape=(None, 80), dtype=tf.float32, name='embedding_149_input'), name='embedding_149_input', description=\"created by layer 'embedding_149_input'\"), but it was called on an input with incompatible shape (None, 100).\n",
      "WARNING:tensorflow:Model was constructed with shape (None, 80) for input KerasTensor(type_spec=TensorSpec(shape=(None, 80), dtype=tf.float32, name='embedding_149_input'), name='embedding_149_input', description=\"created by layer 'embedding_149_input'\"), but it was called on an input with incompatible shape (None, 100).\n",
      "WARNING:tensorflow:Model was constructed with shape (None, 80) for input KerasTensor(type_spec=TensorSpec(shape=(None, 80), dtype=tf.float32, name='embedding_149_input'), name='embedding_149_input', description=\"created by layer 'embedding_149_input'\"), but it was called on an input with incompatible shape (None, 100).\n",
      "WARNING:tensorflow:Model was constructed with shape (None, 80) for input KerasTensor(type_spec=TensorSpec(shape=(None, 80), dtype=tf.float32, name='embedding_150_input'), name='embedding_150_input', description=\"created by layer 'embedding_150_input'\"), but it was called on an input with incompatible shape (None, 100).\n",
      "WARNING:tensorflow:Model was constructed with shape (None, 80) for input KerasTensor(type_spec=TensorSpec(shape=(None, 80), dtype=tf.float32, name='embedding_150_input'), name='embedding_150_input', description=\"created by layer 'embedding_150_input'\"), but it was called on an input with incompatible shape (None, 100).\n",
      "WARNING:tensorflow:Model was constructed with shape (None, 80) for input KerasTensor(type_spec=TensorSpec(shape=(None, 80), dtype=tf.float32, name='embedding_150_input'), name='embedding_150_input', description=\"created by layer 'embedding_150_input'\"), but it was called on an input with incompatible shape (None, 100).\n",
      "WARNING:tensorflow:Model was constructed with shape (None, 80) for input KerasTensor(type_spec=TensorSpec(shape=(None, 80), dtype=tf.float32, name='embedding_151_input'), name='embedding_151_input', description=\"created by layer 'embedding_151_input'\"), but it was called on an input with incompatible shape (None, 100).\n",
      "WARNING:tensorflow:Model was constructed with shape (None, 80) for input KerasTensor(type_spec=TensorSpec(shape=(None, 80), dtype=tf.float32, name='embedding_151_input'), name='embedding_151_input', description=\"created by layer 'embedding_151_input'\"), but it was called on an input with incompatible shape (None, 100).\n",
      "WARNING:tensorflow:Model was constructed with shape (None, 80) for input KerasTensor(type_spec=TensorSpec(shape=(None, 80), dtype=tf.float32, name='embedding_151_input'), name='embedding_151_input', description=\"created by layer 'embedding_151_input'\"), but it was called on an input with incompatible shape (None, 100).\n",
      "WARNING:tensorflow:Model was constructed with shape (None, 80) for input KerasTensor(type_spec=TensorSpec(shape=(None, 80), dtype=tf.float32, name='embedding_152_input'), name='embedding_152_input', description=\"created by layer 'embedding_152_input'\"), but it was called on an input with incompatible shape (None, 100).\n",
      "WARNING:tensorflow:Model was constructed with shape (None, 80) for input KerasTensor(type_spec=TensorSpec(shape=(None, 80), dtype=tf.float32, name='embedding_152_input'), name='embedding_152_input', description=\"created by layer 'embedding_152_input'\"), but it was called on an input with incompatible shape (None, 100).\n",
      "WARNING:tensorflow:Model was constructed with shape (None, 80) for input KerasTensor(type_spec=TensorSpec(shape=(None, 80), dtype=tf.float32, name='embedding_152_input'), name='embedding_152_input', description=\"created by layer 'embedding_152_input'\"), but it was called on an input with incompatible shape (None, 100).\n",
      "WARNING:tensorflow:Model was constructed with shape (None, 80) for input KerasTensor(type_spec=TensorSpec(shape=(None, 80), dtype=tf.float32, name='embedding_153_input'), name='embedding_153_input', description=\"created by layer 'embedding_153_input'\"), but it was called on an input with incompatible shape (None, 100).\n",
      "WARNING:tensorflow:Model was constructed with shape (None, 80) for input KerasTensor(type_spec=TensorSpec(shape=(None, 80), dtype=tf.float32, name='embedding_153_input'), name='embedding_153_input', description=\"created by layer 'embedding_153_input'\"), but it was called on an input with incompatible shape (None, 100).\n",
      "WARNING:tensorflow:Model was constructed with shape (None, 80) for input KerasTensor(type_spec=TensorSpec(shape=(None, 80), dtype=tf.float32, name='embedding_153_input'), name='embedding_153_input', description=\"created by layer 'embedding_153_input'\"), but it was called on an input with incompatible shape (None, 100).\n",
      "WARNING:tensorflow:Model was constructed with shape (None, 80) for input KerasTensor(type_spec=TensorSpec(shape=(None, 80), dtype=tf.float32, name='embedding_154_input'), name='embedding_154_input', description=\"created by layer 'embedding_154_input'\"), but it was called on an input with incompatible shape (None, 100).\n",
      "WARNING:tensorflow:Model was constructed with shape (None, 80) for input KerasTensor(type_spec=TensorSpec(shape=(None, 80), dtype=tf.float32, name='embedding_154_input'), name='embedding_154_input', description=\"created by layer 'embedding_154_input'\"), but it was called on an input with incompatible shape (None, 100).\n",
      "WARNING:tensorflow:Model was constructed with shape (None, 80) for input KerasTensor(type_spec=TensorSpec(shape=(None, 80), dtype=tf.float32, name='embedding_154_input'), name='embedding_154_input', description=\"created by layer 'embedding_154_input'\"), but it was called on an input with incompatible shape (None, 100).\n"
     ]
    }
   ],
   "source": [
    "# Main settings\n",
    "epochs = 20\n",
    "embedding_dim = 50\n",
    "maxlen = 100\n",
    "output_file = 'data/output.txt'\n",
    "\n",
    "# Run grid search for each source (yelp, amazon, imdb)\n",
    "for source, frame in df.groupby('source'):\n",
    "    \n",
    "    print('Running grid search for data set :', source)\n",
    "      \n",
    "    sentences = df['sentence'].values\n",
    "    y = df['label'].values\n",
    "\n",
    "    # Train-test split\n",
    "    sentences_train, sentences_test, y_train, y_test = train_test_split(\n",
    "        sentences, y, test_size=0.25, random_state=1000)\n",
    "\n",
    "    # Tokenize words\n",
    "    tokenizer = Tokenizer(num_words=5000)\n",
    "    tokenizer.fit_on_texts(sentences_train)\n",
    "    X_train = tokenizer.texts_to_sequences(sentences_train)\n",
    "    X_test = tokenizer.texts_to_sequences(sentences_test)\n",
    "\n",
    "    # Adding 1 because of reserved 0 index\n",
    "    vocab_size = len(tokenizer.word_index) + 1\n",
    "\n",
    "    # Pad sequences with zeros\n",
    "    X_train = pad_sequences(X_train, padding='post', maxlen=maxlen)\n",
    "    X_test = pad_sequences(X_test, padding='post', maxlen=maxlen)\n",
    "\n",
    "    # Parameter grid for grid search\n",
    "#     param_grid = dict(num_filters=[32, 64, 128],\n",
    "#                       kernel_size=[3, 5, 7],\n",
    "#                       vocab_size=[vocab_size],\n",
    "#                       embedding_dim=[embedding_dim],\n",
    "#                       maxlen=[maxlen])\n",
    "    \n",
    "    param_grid = dict(num_filters_cv1 = [32, 64],\n",
    "                  num_filters_cv2 = [64, 128],\n",
    "                  kernel_size_cv1 = [2, 3],\n",
    "                  kernel_size_cv2 = [5, 7],\n",
    "                  vocab_size = [5000, 3000, 6000], \n",
    "                  embedding_dim = [50],\n",
    "                  maxlen = [100, 80])\n",
    "    \n",
    "    model = KerasClassifier(build_fn=create_model,\n",
    "                            epochs=epochs, batch_size=10,\n",
    "                            verbose=False)\n",
    "    \n",
    "    grid = RandomizedSearchCV(estimator=model, param_distributions=param_grid,\n",
    "                              cv=4, verbose=1, n_iter=5)\n",
    "    \n",
    "    grid_result = grid.fit(X_train, y_train)\n",
    "\n",
    "    # Evaluate testing set\n",
    "    test_accuracy = grid.score(X_test, y_test)\n",
    "\n",
    "    # Save and evaluate results\n",
    "    prompt = input(f'finished {source}; write to file and proceed? [y/n]')\n",
    "    \n",
    "    if prompt.lower() not in {'y', 'true', 'yes'}:\n",
    "        break\n",
    "    with open(output_file, 'a') as f:\n",
    "        s = ('Running {} data set\\nBest Accuracy : '\n",
    "             '{:.4f}\\n{}\\nTest Accuracy : {:.4f}\\n\\n')\n",
    "        output_string = s.format(\n",
    "            source,\n",
    "            grid_result.best_score_,\n",
    "            grid_result.best_params_,\n",
    "            test_accuracy)\n",
    "        print(output_string)\n",
    "        f.write(output_string)"
   ]
  },
  {
   "cell_type": "code",
   "execution_count": null,
   "metadata": {},
   "outputs": [],
   "source": []
  }
 ],
 "metadata": {
  "kernelspec": {
   "display_name": "Python 3",
   "language": "python",
   "name": "python3"
  },
  "language_info": {
   "codemirror_mode": {
    "name": "ipython",
    "version": 3
   },
   "file_extension": ".py",
   "mimetype": "text/x-python",
   "name": "python",
   "nbconvert_exporter": "python",
   "pygments_lexer": "ipython3",
   "version": "3.7.9"
  }
 },
 "nbformat": 4,
 "nbformat_minor": 4
}
