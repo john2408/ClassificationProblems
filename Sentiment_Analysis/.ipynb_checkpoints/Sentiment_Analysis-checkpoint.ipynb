{
 "cells": [
  {
   "cell_type": "markdown",
   "metadata": {},
   "source": [
    "# Sentiment Analysis with Keras: Deep Learning Model\n",
    "\n",
    "Reference: https://realpython.com/python-keras-text-classification/"
   ]
  },
  {
   "cell_type": "markdown",
   "metadata": {},
   "source": [
    "## Libraries"
   ]
  },
  {
   "cell_type": "code",
   "execution_count": 51,
   "metadata": {},
   "outputs": [],
   "source": [
    "import pandas as pd\n",
    "from os import getcwd, path\n",
    "\n",
    "from sklearn.feature_extraction.text import CountVectorizer\n",
    "from sklearn.model_selection import train_test_split\n",
    "from sklearn.linear_model import LogisticRegression\n",
    "from sklearn.metrics import accuracy_score, confusion_matrix\n",
    "\n",
    "from keras.models import Sequential\n",
    "from keras import layers\n",
    "\n",
    "import matplotlib.pyplot as plt"
   ]
  },
  {
   "cell_type": "markdown",
   "metadata": {},
   "source": [
    "## Parameters"
   ]
  },
  {
   "cell_type": "code",
   "execution_count": 12,
   "metadata": {},
   "outputs": [],
   "source": [
    "current_path = getcwd()"
   ]
  },
  {
   "cell_type": "markdown",
   "metadata": {},
   "source": [
    "## 0. Data Ingest"
   ]
  },
  {
   "cell_type": "code",
   "execution_count": 14,
   "metadata": {},
   "outputs": [],
   "source": [
    "filepath_dict = {'yelp':   'data/yelp_labelled.txt',\n",
    "                 'amazon': 'data/amazon_cells_labelled.txt',\n",
    "                 'imdb':   'data/imdb_labelled.txt'}\n",
    "\n",
    "df_list = []\n",
    "\n",
    "for source, filepath in filepath_dict.items():\n",
    "    \n",
    "    df = pd.read_csv(path.join(current_path, filepath), names=['sentence', 'label'], sep='\\t')\n",
    "    df['source'] = source  # Add another column filled with the source name\n",
    "    df_list.append(df)\n",
    "\n",
    "df = pd.concat(df_list)"
   ]
  },
  {
   "cell_type": "code",
   "execution_count": 15,
   "metadata": {},
   "outputs": [
    {
     "data": {
      "text/html": [
       "<div>\n",
       "<style scoped>\n",
       "    .dataframe tbody tr th:only-of-type {\n",
       "        vertical-align: middle;\n",
       "    }\n",
       "\n",
       "    .dataframe tbody tr th {\n",
       "        vertical-align: top;\n",
       "    }\n",
       "\n",
       "    .dataframe thead th {\n",
       "        text-align: right;\n",
       "    }\n",
       "</style>\n",
       "<table border=\"1\" class=\"dataframe\">\n",
       "  <thead>\n",
       "    <tr style=\"text-align: right;\">\n",
       "      <th></th>\n",
       "      <th>sentence</th>\n",
       "      <th>label</th>\n",
       "      <th>source</th>\n",
       "    </tr>\n",
       "  </thead>\n",
       "  <tbody>\n",
       "    <tr>\n",
       "      <th>0</th>\n",
       "      <td>Wow... Loved this place.</td>\n",
       "      <td>1</td>\n",
       "      <td>yelp</td>\n",
       "    </tr>\n",
       "    <tr>\n",
       "      <th>1</th>\n",
       "      <td>Crust is not good.</td>\n",
       "      <td>0</td>\n",
       "      <td>yelp</td>\n",
       "    </tr>\n",
       "    <tr>\n",
       "      <th>2</th>\n",
       "      <td>Not tasty and the texture was just nasty.</td>\n",
       "      <td>0</td>\n",
       "      <td>yelp</td>\n",
       "    </tr>\n",
       "    <tr>\n",
       "      <th>3</th>\n",
       "      <td>Stopped by during the late May bank holiday of...</td>\n",
       "      <td>1</td>\n",
       "      <td>yelp</td>\n",
       "    </tr>\n",
       "    <tr>\n",
       "      <th>4</th>\n",
       "      <td>The selection on the menu was great and so wer...</td>\n",
       "      <td>1</td>\n",
       "      <td>yelp</td>\n",
       "    </tr>\n",
       "  </tbody>\n",
       "</table>\n",
       "</div>"
      ],
      "text/plain": [
       "                                            sentence  label source\n",
       "0                           Wow... Loved this place.      1   yelp\n",
       "1                                 Crust is not good.      0   yelp\n",
       "2          Not tasty and the texture was just nasty.      0   yelp\n",
       "3  Stopped by during the late May bank holiday of...      1   yelp\n",
       "4  The selection on the menu was great and so wer...      1   yelp"
      ]
     },
     "execution_count": 15,
     "metadata": {},
     "output_type": "execute_result"
    }
   ],
   "source": [
    "df.head()"
   ]
  },
  {
   "cell_type": "markdown",
   "metadata": {},
   "source": [
    "## Bag Of Words Model (BOW)\n",
    "\n",
    "This is a common method in NLP to represent sentences (documents) as vectors.\n",
    "Each word is assigned an int value, then the frecuency of that word in the sentence is counted. \n",
    "\n",
    "Scikit-learn.feature_extraction.text provides the following vectorizers, \n",
    "to extract the vocabulary out of a corpus data set:\n",
    "\n",
    "1. CountVectorizer() \n",
    "2. HashingVectorizer()\n",
    "3. TfidfVectorizer()\n",
    "\n",
    "CountVectorizer performs tokenization which separates the sentences into a set of tokens as you saw previously in the vocabulary. \n",
    "It additionally removes punctuation and special characters and can apply other preprocessing to each word. \n",
    "\n",
    "Another approach, is to use the custom tokenizer from the NLTK library with the CountVectorizer or use other customizations to improve the performance of the model.\n",
    "\n",
    "Reference: https://en.wikipedia.org/wiki/Bag-of-words_model"
   ]
  },
  {
   "cell_type": "code",
   "execution_count": 21,
   "metadata": {},
   "outputs": [
    {
     "data": {
      "text/plain": [
       "{'John': 0, 'likes': 5, 'ice': 4, 'cream': 2, 'hates': 3, 'chocolate': 1}"
      ]
     },
     "execution_count": 21,
     "metadata": {},
     "output_type": "execute_result"
    }
   ],
   "source": [
    "sentences = ['John likes ice cream', 'John hates chocolate.']\n",
    "\n",
    "vectorizer = CountVectorizer(min_df=0, lowercase=False)\n",
    "vectorizer.fit(sentences)\n",
    "vectorizer.vocabulary_"
   ]
  },
  {
   "cell_type": "code",
   "execution_count": 22,
   "metadata": {},
   "outputs": [
    {
     "data": {
      "text/plain": [
       "array([[1, 0, 1, 0, 1, 1],\n",
       "       [1, 1, 0, 1, 0, 0]], dtype=int64)"
      ]
     },
     "execution_count": 22,
     "metadata": {},
     "output_type": "execute_result"
    }
   ],
   "source": [
    "# This means that both sentences have one occurrence of John, which is in the first place in the vocabulary.\n",
    "vectorizer.transform(sentences).toarray()"
   ]
  },
  {
   "cell_type": "markdown",
   "metadata": {},
   "source": [
    "## 1. Baseline Model - Logistic Regression"
   ]
  },
  {
   "cell_type": "code",
   "execution_count": 25,
   "metadata": {},
   "outputs": [],
   "source": [
    "# Filter data set for \"yelp\"\n",
    "df_yelp = df[df['source'] == 'yelp']\n",
    "\n",
    "# Get values as numpy arrays\n",
    "sentences = df_yelp['sentence'].values\n",
    "y = df_yelp['label'].values\n",
    "\n",
    "# Split up training and test data\n",
    "sentences_train, sentences_test, y_train, y_test = train_test_split(sentences, y, test_size=0.25, random_state=1000)"
   ]
  },
  {
   "cell_type": "code",
   "execution_count": 26,
   "metadata": {},
   "outputs": [],
   "source": [
    "from sklearn.feature_extraction.text import CountVectorizer\n",
    "\n",
    "# Create a new CountVectorizer object\n",
    "vectorizer = CountVectorizer()\n",
    "\n",
    "# Vectorize training data set\n",
    "vectorizer.fit(sentences_train)\n",
    "\n",
    "# Transform both training and test data\n",
    "X_train = vectorizer.transform(sentences_train)\n",
    "X_test  = vectorizer.transform(sentences_test)"
   ]
  },
  {
   "cell_type": "code",
   "execution_count": 27,
   "metadata": {},
   "outputs": [
    {
     "data": {
      "text/plain": [
       "<750x1714 sparse matrix of type '<class 'numpy.int64'>'\n",
       "\twith 7368 stored elements in Compressed Sparse Row format>"
      ]
     },
     "execution_count": 27,
     "metadata": {},
     "output_type": "execute_result"
    }
   ],
   "source": [
    "X_train"
   ]
  },
  {
   "cell_type": "markdown",
   "metadata": {},
   "source": [
    "### Apply Logistic Regression Classifier  for yelp"
   ]
  },
  {
   "cell_type": "code",
   "execution_count": 35,
   "metadata": {},
   "outputs": [
    {
     "name": "stdout",
     "output_type": "stream",
     "text": [
      "Accuracy: 0.796\n",
      "\n",
      " Confusion Matrix\n"
     ]
    },
    {
     "data": {
      "text/plain": [
       "array([[0.4  , 0.08 ],\n",
       "       [0.124, 0.396]])"
      ]
     },
     "execution_count": 35,
     "metadata": {},
     "output_type": "execute_result"
    }
   ],
   "source": [
    "logistic_reg = LogisticRegression()\n",
    "logistic_reg.fit(X_train, y_train)\n",
    "score = logistic_reg.score(X_test, y_test)\n",
    "\n",
    "print(\"Accuracy:\", score)\n",
    "\n",
    "# Print Confusion Matrix\n",
    "Pred_Y = logistic_reg.predict(X_test)\n",
    "\n",
    "print(\"\\n Confusion Matrix\")\n",
    "confusion_matrix(y_test, Pred_Y)/len(Pred_Y)"
   ]
  },
  {
   "cell_type": "markdown",
   "metadata": {},
   "source": [
    "### Apply logistic Regression Classifier for all"
   ]
  },
  {
   "cell_type": "code",
   "execution_count": 38,
   "metadata": {},
   "outputs": [
    {
     "name": "stdout",
     "output_type": "stream",
     "text": [
      "Accuracy for yelp data: 0.7960\n",
      "Accuracy for amazon data: 0.7960\n",
      "Accuracy for imdb data: 0.7487\n"
     ]
    }
   ],
   "source": [
    "for source in df['source'].unique():\n",
    "    \n",
    "    # Filter for every data source type\n",
    "    df_source = df[df['source'] == source]\n",
    "    \n",
    "    # Get x and y values as np arrays\n",
    "    sentences = df_source['sentence'].values\n",
    "    y = df_source['label'].values\n",
    "\n",
    "    # Split up training and test data sets\n",
    "    sentences_train, sentences_test, y_train, y_test = train_test_split(sentences, y, test_size=0.25, random_state=1000)\n",
    "\n",
    "    # Create a new CountVectorizer Object\n",
    "    # Let model learn the vocab\n",
    "    vectorizer = CountVectorizer()\n",
    "    vectorizer.fit(sentences_train)\n",
    "    \n",
    "    # Transform training and test X set ( Apply vectorization)\n",
    "    X_train = vectorizer.transform(sentences_train)\n",
    "    X_test  = vectorizer.transform(sentences_test)\n",
    "\n",
    "    # Fit model and calculate score\n",
    "    log_reg = LogisticRegression()\n",
    "    log_reg.fit(X_train, y_train)\n",
    "    score = log_reg.score(X_test, y_test)\n",
    "    \n",
    "    print('Accuracy for {} data: {:.4f}'.format(source, score))"
   ]
  },
  {
   "cell_type": "markdown",
   "metadata": {},
   "source": [
    "## Implementing Deep Neural Networks"
   ]
  },
  {
   "cell_type": "code",
   "execution_count": 47,
   "metadata": {},
   "outputs": [
    {
     "name": "stdout",
     "output_type": "stream",
     "text": [
      "2505\n"
     ]
    }
   ],
   "source": [
    "# Number of features\n",
    "input_dim = X_train.shape[1]  \n",
    "print(input_dim)"
   ]
  },
  {
   "cell_type": "code",
   "execution_count": 43,
   "metadata": {},
   "outputs": [],
   "source": [
    "model = Sequential()\n",
    "model.add(layers.Dense(10, input_dim=input_dim, activation='relu'))\n",
    "model.add(layers.Dense(1, activation='sigmoid'))"
   ]
  },
  {
   "cell_type": "code",
   "execution_count": 44,
   "metadata": {},
   "outputs": [
    {
     "name": "stdout",
     "output_type": "stream",
     "text": [
      "Model: \"sequential\"\n",
      "_________________________________________________________________\n",
      "Layer (type)                 Output Shape              Param #   \n",
      "=================================================================\n",
      "dense (Dense)                (None, 10)                25060     \n",
      "_________________________________________________________________\n",
      "dense_1 (Dense)              (None, 1)                 11        \n",
      "=================================================================\n",
      "Total params: 25,071\n",
      "Trainable params: 25,071\n",
      "Non-trainable params: 0\n",
      "_________________________________________________________________\n"
     ]
    }
   ],
   "source": [
    "model.compile(loss='binary_crossentropy', \n",
    "               optimizer='adam', \n",
    "               metrics=['accuracy'])\n",
    "\n",
    "model.summary()"
   ]
  },
  {
   "cell_type": "code",
   "execution_count": 49,
   "metadata": {},
   "outputs": [],
   "source": [
    "# Fit the neural networks model\n",
    "%timeit\n",
    "history = model.fit(X_train, y_train,\n",
    "                     epochs=100,\n",
    "                     verbose=False,\n",
    "                     validation_data=(X_test, y_test),\n",
    "                     batch_size=10)"
   ]
  },
  {
   "cell_type": "code",
   "execution_count": 50,
   "metadata": {},
   "outputs": [
    {
     "name": "stdout",
     "output_type": "stream",
     "text": [
      "Training Accuracy: 1.0000\n",
      "Testing Accuracy:  0.7754\n"
     ]
    }
   ],
   "source": [
    "loss, accuracy = model.evaluate(X_train, y_train, verbose=False)\n",
    "print(\"Training Accuracy: {:.4f}\".format(accuracy))\n",
    "loss, accuracy = model.evaluate(X_test, y_test, verbose=False)\n",
    "print(\"Testing Accuracy:  {:.4f}\".format(accuracy))"
   ]
  },
  {
   "cell_type": "code",
   "execution_count": 57,
   "metadata": {},
   "outputs": [
    {
     "data": {
      "text/plain": [
       "{'loss': [0.6924536824226379,\n",
       "  0.6459791660308838,\n",
       "  0.5771241784095764,\n",
       "  0.49085989594459534,\n",
       "  0.4027910828590393,\n",
       "  0.3277522325515747,\n",
       "  0.2671937942504883,\n",
       "  0.22070056200027466,\n",
       "  0.184461310505867,\n",
       "  0.15544338524341583,\n",
       "  0.13205057382583618,\n",
       "  0.11338062584400177,\n",
       "  0.09821078926324844,\n",
       "  0.08549293130636215,\n",
       "  0.07529064267873764,\n",
       "  0.0663624256849289,\n",
       "  0.0589987188577652,\n",
       "  0.05316704884171486,\n",
       "  0.04744154214859009,\n",
       "  0.04268180951476097,\n",
       "  0.03876277431845665,\n",
       "  0.035209864377975464,\n",
       "  0.032147906720638275,\n",
       "  0.029438583180308342,\n",
       "  0.027081744745373726,\n",
       "  0.024955134838819504,\n",
       "  0.023064907640218735,\n",
       "  0.021353093907237053,\n",
       "  0.01972324028611183,\n",
       "  0.018338682129979134,\n",
       "  0.017067689448595047,\n",
       "  0.015937816351652145,\n",
       "  0.014837260358035564,\n",
       "  0.013897322118282318,\n",
       "  0.013022919185459614,\n",
       "  0.012469293549656868,\n",
       "  0.011460918001830578,\n",
       "  0.010687082074582577,\n",
       "  0.010030065663158894,\n",
       "  0.009431920014321804,\n",
       "  0.008880427107214928,\n",
       "  0.008378063328564167,\n",
       "  0.0078932736068964,\n",
       "  0.007454944308847189,\n",
       "  0.007053520064800978,\n",
       "  0.00667102076113224,\n",
       "  0.0062911310233175755,\n",
       "  0.005958574824035168,\n",
       "  0.005646841134876013,\n",
       "  0.005366643890738487,\n",
       "  0.005081734154373407,\n",
       "  0.004832693841308355,\n",
       "  0.00460396520793438,\n",
       "  0.004382889252156019,\n",
       "  0.004162927158176899,\n",
       "  0.003964920062571764,\n",
       "  0.003786790883168578,\n",
       "  0.00360857998020947,\n",
       "  0.003434146521613002,\n",
       "  0.0032809290569275618,\n",
       "  0.0031321283895522356,\n",
       "  0.0030062447767704725,\n",
       "  0.002867873292416334,\n",
       "  0.0027415379881858826,\n",
       "  0.0026273850817233324,\n",
       "  0.0025147683918476105,\n",
       "  0.0024074092507362366,\n",
       "  0.0023067903239279985,\n",
       "  0.002216141205281019,\n",
       "  0.0021182801574468613,\n",
       "  0.002032009419053793,\n",
       "  0.0019517072942107916,\n",
       "  0.0018724757246673107,\n",
       "  0.0017975292867049575,\n",
       "  0.0017257406143471599,\n",
       "  0.001659989939071238,\n",
       "  0.0015948025975376368,\n",
       "  0.001530987210571766,\n",
       "  0.001472923788242042,\n",
       "  0.0014153149677440524,\n",
       "  0.001359577989205718,\n",
       "  0.0013104587560519576,\n",
       "  0.0012586613884195685,\n",
       "  0.0012126037618145347,\n",
       "  0.0011669418308883905,\n",
       "  0.0011227860813960433,\n",
       "  0.0010827929945662618,\n",
       "  0.001039888826198876,\n",
       "  0.0010012040147557855,\n",
       "  0.0009650715510360897,\n",
       "  0.0009281636448577046,\n",
       "  0.0008945077424868941,\n",
       "  0.0008622773457318544,\n",
       "  0.0008308085380122066,\n",
       "  0.0008006475400179625,\n",
       "  0.0007721874862909317,\n",
       "  0.0007423284696415067,\n",
       "  0.0007188172312453389,\n",
       "  0.0006904039182700217,\n",
       "  0.0006681595696136355],\n",
       " 'accuracy': [0.5472370982170105,\n",
       "  0.7237076759338379,\n",
       "  0.843137264251709,\n",
       "  0.8912655711174011,\n",
       "  0.9429590106010437,\n",
       "  0.9732620120048523,\n",
       "  0.9786096215248108,\n",
       "  0.9821746945381165,\n",
       "  0.9910873174667358,\n",
       "  0.9946523904800415,\n",
       "  0.9946523904800415,\n",
       "  0.9964349269866943,\n",
       "  0.9982174634933472,\n",
       "  0.9982174634933472,\n",
       "  0.9982174634933472,\n",
       "  0.9982174634933472,\n",
       "  0.9982174634933472,\n",
       "  0.9982174634933472,\n",
       "  0.9982174634933472,\n",
       "  0.9982174634933472,\n",
       "  0.9982174634933472,\n",
       "  0.9982174634933472,\n",
       "  0.9982174634933472,\n",
       "  0.9982174634933472,\n",
       "  0.9982174634933472,\n",
       "  0.9982174634933472,\n",
       "  0.9982174634933472,\n",
       "  0.9982174634933472,\n",
       "  0.9982174634933472,\n",
       "  0.9982174634933472,\n",
       "  0.9982174634933472,\n",
       "  0.9982174634933472,\n",
       "  0.9982174634933472,\n",
       "  0.9982174634933472,\n",
       "  0.9982174634933472,\n",
       "  0.9982174634933472,\n",
       "  0.9982174634933472,\n",
       "  1.0,\n",
       "  1.0,\n",
       "  1.0,\n",
       "  1.0,\n",
       "  1.0,\n",
       "  1.0,\n",
       "  1.0,\n",
       "  1.0,\n",
       "  1.0,\n",
       "  1.0,\n",
       "  1.0,\n",
       "  1.0,\n",
       "  1.0,\n",
       "  1.0,\n",
       "  1.0,\n",
       "  1.0,\n",
       "  1.0,\n",
       "  1.0,\n",
       "  1.0,\n",
       "  1.0,\n",
       "  1.0,\n",
       "  1.0,\n",
       "  1.0,\n",
       "  1.0,\n",
       "  1.0,\n",
       "  1.0,\n",
       "  1.0,\n",
       "  1.0,\n",
       "  1.0,\n",
       "  1.0,\n",
       "  1.0,\n",
       "  1.0,\n",
       "  1.0,\n",
       "  1.0,\n",
       "  1.0,\n",
       "  1.0,\n",
       "  1.0,\n",
       "  1.0,\n",
       "  1.0,\n",
       "  1.0,\n",
       "  1.0,\n",
       "  1.0,\n",
       "  1.0,\n",
       "  1.0,\n",
       "  1.0,\n",
       "  1.0,\n",
       "  1.0,\n",
       "  1.0,\n",
       "  1.0,\n",
       "  1.0,\n",
       "  1.0,\n",
       "  1.0,\n",
       "  1.0,\n",
       "  1.0,\n",
       "  1.0,\n",
       "  1.0,\n",
       "  1.0,\n",
       "  1.0,\n",
       "  1.0,\n",
       "  1.0,\n",
       "  1.0,\n",
       "  1.0,\n",
       "  1.0],\n",
       " 'val_loss': [0.6948624849319458,\n",
       "  0.6671217679977417,\n",
       "  0.6616359949111938,\n",
       "  0.6310398578643799,\n",
       "  0.5958970189094543,\n",
       "  0.576137363910675,\n",
       "  0.5733686685562134,\n",
       "  0.5639479756355286,\n",
       "  0.5513888001441956,\n",
       "  0.5470269918441772,\n",
       "  0.5408156514167786,\n",
       "  0.561270534992218,\n",
       "  0.5321605801582336,\n",
       "  0.529916524887085,\n",
       "  0.539642333984375,\n",
       "  0.5398361086845398,\n",
       "  0.5356806516647339,\n",
       "  0.5429011583328247,\n",
       "  0.5531013607978821,\n",
       "  0.5544306039810181,\n",
       "  0.5563109517097473,\n",
       "  0.5661248564720154,\n",
       "  0.5604128837585449,\n",
       "  0.5632226467132568,\n",
       "  0.5713597536087036,\n",
       "  0.5767168402671814,\n",
       "  0.586235523223877,\n",
       "  0.5833943486213684,\n",
       "  0.593970000743866,\n",
       "  0.5903317928314209,\n",
       "  0.5945648550987244,\n",
       "  0.6046505570411682,\n",
       "  0.6192041635513306,\n",
       "  0.6192062497138977,\n",
       "  0.6225630044937134,\n",
       "  0.6404582858085632,\n",
       "  0.6229143738746643,\n",
       "  0.6385245323181152,\n",
       "  0.6425854563713074,\n",
       "  0.6428439617156982,\n",
       "  0.6467142105102539,\n",
       "  0.6477638483047485,\n",
       "  0.6582356691360474,\n",
       "  0.6506246328353882,\n",
       "  0.6632857918739319,\n",
       "  0.6568992137908936,\n",
       "  0.6645651459693909,\n",
       "  0.6765546202659607,\n",
       "  0.6868686676025391,\n",
       "  0.6846542954444885,\n",
       "  0.690126895904541,\n",
       "  0.6911122798919678,\n",
       "  0.6990948915481567,\n",
       "  0.7055497765541077,\n",
       "  0.707112193107605,\n",
       "  0.707919180393219,\n",
       "  0.715691328048706,\n",
       "  0.7173242568969727,\n",
       "  0.7222925424575806,\n",
       "  0.7239956855773926,\n",
       "  0.7285493016242981,\n",
       "  0.7388691902160645,\n",
       "  0.7417054176330566,\n",
       "  0.744425892829895,\n",
       "  0.7503353953361511,\n",
       "  0.7545919418334961,\n",
       "  0.7538994550704956,\n",
       "  0.7654797434806824,\n",
       "  0.7690756320953369,\n",
       "  0.7678970098495483,\n",
       "  0.7689680457115173,\n",
       "  0.7704368829727173,\n",
       "  0.778429388999939,\n",
       "  0.7780976891517639,\n",
       "  0.7835449576377869,\n",
       "  0.7902255654335022,\n",
       "  0.799633264541626,\n",
       "  0.8005030155181885,\n",
       "  0.806160032749176,\n",
       "  0.8108568787574768,\n",
       "  0.8155463933944702,\n",
       "  0.8173058032989502,\n",
       "  0.8242286443710327,\n",
       "  0.8268335461616516,\n",
       "  0.8332791328430176,\n",
       "  0.8300570845603943,\n",
       "  0.8377475738525391,\n",
       "  0.8394768834114075,\n",
       "  0.8402963876724243,\n",
       "  0.8401184678077698,\n",
       "  0.8483353853225708,\n",
       "  0.8485788106918335,\n",
       "  0.8566034436225891,\n",
       "  0.85916668176651,\n",
       "  0.8693653345108032,\n",
       "  0.8719345927238464,\n",
       "  0.8709030747413635,\n",
       "  0.8757578730583191,\n",
       "  0.8777015209197998,\n",
       "  0.8879488110542297],\n",
       " 'val_accuracy': [0.5828877091407776,\n",
       "  0.6844919919967651,\n",
       "  0.6791443824768066,\n",
       "  0.7272727489471436,\n",
       "  0.7540106773376465,\n",
       "  0.759358286857605,\n",
       "  0.7647058963775635,\n",
       "  0.7647058963775635,\n",
       "  0.7647058963775635,\n",
       "  0.7540106773376465,\n",
       "  0.7647058963775635,\n",
       "  0.7754010558128357,\n",
       "  0.7967914342880249,\n",
       "  0.7807486653327942,\n",
       "  0.7860962748527527,\n",
       "  0.7860962748527527,\n",
       "  0.7967914342880249,\n",
       "  0.7967914342880249,\n",
       "  0.8074866533279419,\n",
       "  0.8128342032432556,\n",
       "  0.8128342032432556,\n",
       "  0.8074866533279419,\n",
       "  0.8128342032432556,\n",
       "  0.8074866533279419,\n",
       "  0.8021390438079834,\n",
       "  0.8021390438079834,\n",
       "  0.7967914342880249,\n",
       "  0.7967914342880249,\n",
       "  0.7967914342880249,\n",
       "  0.7967914342880249,\n",
       "  0.8021390438079834,\n",
       "  0.8021390438079834,\n",
       "  0.8021390438079834,\n",
       "  0.8021390438079834,\n",
       "  0.7914438247680664,\n",
       "  0.7967914342880249,\n",
       "  0.7860962748527527,\n",
       "  0.7860962748527527,\n",
       "  0.7914438247680664,\n",
       "  0.7914438247680664,\n",
       "  0.7914438247680664,\n",
       "  0.7914438247680664,\n",
       "  0.7914438247680664,\n",
       "  0.7914438247680664,\n",
       "  0.7914438247680664,\n",
       "  0.7860962748527527,\n",
       "  0.7860962748527527,\n",
       "  0.7860962748527527,\n",
       "  0.7914438247680664,\n",
       "  0.7860962748527527,\n",
       "  0.7860962748527527,\n",
       "  0.7860962748527527,\n",
       "  0.7860962748527527,\n",
       "  0.7860962748527527,\n",
       "  0.7860962748527527,\n",
       "  0.7860962748527527,\n",
       "  0.7860962748527527,\n",
       "  0.7860962748527527,\n",
       "  0.7860962748527527,\n",
       "  0.7860962748527527,\n",
       "  0.7914438247680664,\n",
       "  0.7914438247680664,\n",
       "  0.7860962748527527,\n",
       "  0.7860962748527527,\n",
       "  0.7860962748527527,\n",
       "  0.7860962748527527,\n",
       "  0.7860962748527527,\n",
       "  0.7860962748527527,\n",
       "  0.7860962748527527,\n",
       "  0.7860962748527527,\n",
       "  0.7860962748527527,\n",
       "  0.7860962748527527,\n",
       "  0.7807486653327942,\n",
       "  0.7807486653327942,\n",
       "  0.7807486653327942,\n",
       "  0.7807486653327942,\n",
       "  0.7807486653327942,\n",
       "  0.7807486653327942,\n",
       "  0.7807486653327942,\n",
       "  0.7807486653327942,\n",
       "  0.7807486653327942,\n",
       "  0.7807486653327942,\n",
       "  0.7807486653327942,\n",
       "  0.7807486653327942,\n",
       "  0.7807486653327942,\n",
       "  0.7754010558128357,\n",
       "  0.7754010558128357,\n",
       "  0.7754010558128357,\n",
       "  0.7754010558128357,\n",
       "  0.7754010558128357,\n",
       "  0.7754010558128357,\n",
       "  0.7754010558128357,\n",
       "  0.7754010558128357,\n",
       "  0.7754010558128357,\n",
       "  0.7754010558128357,\n",
       "  0.7754010558128357,\n",
       "  0.7754010558128357,\n",
       "  0.7754010558128357,\n",
       "  0.7754010558128357,\n",
       "  0.7754010558128357]}"
      ]
     },
     "execution_count": 57,
     "metadata": {},
     "output_type": "execute_result"
    }
   ],
   "source": [
    "history.history"
   ]
  },
  {
   "cell_type": "code",
   "execution_count": 60,
   "metadata": {},
   "outputs": [],
   "source": [
    "plt.style.use('ggplot')\n",
    "\n",
    "def plot_history(history):\n",
    "    \n",
    "    acc = history.history['accuracy']\n",
    "    val_acc = history.history['val_accuracy']\n",
    "    loss = history.history['loss']\n",
    "    val_loss = history.history['val_loss']\n",
    "    x = range(1, len(acc) + 1)\n",
    "\n",
    "    plt.figure(figsize=(12, 5))\n",
    "    plt.subplot(1, 2, 1)\n",
    "    plt.plot(x, acc, 'b', label='Training acc')\n",
    "    plt.plot(x, val_acc, 'r', label='Validation acc')\n",
    "    plt.title('Training and validation accuracy')\n",
    "    plt.legend()\n",
    "    plt.subplot(1, 2, 2)\n",
    "    plt.plot(x, loss, 'b', label='Training loss')\n",
    "    plt.plot(x, val_loss, 'r', label='Validation loss')\n",
    "    plt.title('Training and validation loss')\n",
    "    plt.legend()"
   ]
  },
  {
   "cell_type": "code",
   "execution_count": 61,
   "metadata": {},
   "outputs": [
    {
     "data": {
      "image/png": "[encoded data removed]",
      "text/plain": [
       "<Figure size 864x360 with 2 Axes>"
      ]
     },
     "metadata": {},
     "output_type": "display_data"
    }
   ],
   "source": [
    "plot_history(history)"
   ]
  },
  {
   "cell_type": "code",
   "execution_count": null,
   "metadata": {},
   "outputs": [],
   "source": []
  }
 ],
 "metadata": {
  "kernelspec": {
   "display_name": "Python 3",
   "language": "python",
   "name": "python3"
  },
  "language_info": {
   "codemirror_mode": {
    "name": "ipython",
    "version": 3
   },
   "file_extension": ".py",
   "mimetype": "text/x-python",
   "name": "python",
   "nbconvert_exporter": "python",
   "pygments_lexer": "ipython3",
   "version": "3.7.9"
  }
 },
 "nbformat": 4,
 "nbformat_minor": 4
}
