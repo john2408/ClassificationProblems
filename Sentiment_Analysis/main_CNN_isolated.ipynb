{
 "cells": [
  {
   "cell_type": "code",
   "execution_count": 4,
   "metadata": {},
   "outputs": [],
   "source": [
    "import pandas as pd\n",
    "import numpy as np\n",
    "\n",
    "import matplotlib.pyplot as plt\n",
    "plt.style.use('ggplot')\n",
    "\n",
    "from datetime import datetime\n",
    "from os import getcwd\n",
    "from os.path import join\n",
    "\n",
    "from sklearn.metrics import accuracy_score, confusion_matrix\n",
    "from sklearn import model_selection, naive_bayes, svm\n",
    "\n",
    "from sys import path\n",
    "path.append( join( join( getcwd() , 'functions/' ) ) )\n",
    "\n",
    "from functions import preprocessing, modelling, postprocessing\n",
    "from config import ConfigDict\n",
    "\n",
    "import openpyxl"
   ]
  },
  {
   "cell_type": "code",
   "execution_count": 36,
   "metadata": {},
   "outputs": [],
   "source": [
    "config = ConfigDict.read('config/config_param.yml')"
   ]
  },
  {
   "cell_type": "code",
   "execution_count": 37,
   "metadata": {},
   "outputs": [
    {
     "output_type": "execute_result",
     "data": {
      "text/plain": [
       "{'params': {'model': {'running_CNN': True, 'running_SVM': True, 'seed': 123},\n",
       "  'input_data': {'data': 'data/ML_data_2.0.xlsx',\n",
       "   'sep': ',',\n",
       "   'read_type': 'excel'},\n",
       "  'tokenization_options': {'sent_tokenizer': False,\n",
       "   'use_nltk_cleaning': True,\n",
       "   'text_cleaning': False,\n",
       "   'use_tfidf_tokenizer': True,\n",
       "   'use_keras_tokenizer': False,\n",
       "   'use_pretrained_embeddings': True,\n",
       "   'use_glove_pretrained_embeddings_weights': True,\n",
       "   'use_tfidf_as_embedding_weights': False,\n",
       "   'imbalanced_classes': True,\n",
       "   'make_all_other_classes_1': True,\n",
       "   'remove_class_0': False},\n",
       "  'data': {'epochs': 30,\n",
       "   'batch_size': 10,\n",
       "   'num_words': 5000,\n",
       "   'cv': 4,\n",
       "   'n_iter': 5,\n",
       "   'seq_input_len': 40,\n",
       "   'embedding_dim': 40,\n",
       "   'nodes_hidden_dense_layer': 5,\n",
       "   'filepath': 'D:/Semillero Data Science/Deep Learning/pre-trained Word Embeddings/GloVe/glove.6B.50d.txt',\n",
       "   'SVM': {'C': 1.0,\n",
       "    'kernel': 'linear',\n",
       "    'degree': 3,\n",
       "    'gamma': 'auto',\n",
       "    'class_weights': {'0': 0.05, '1': 1, '2': 1, '3': 1, '4': 1},\n",
       "    'class_weights_2': {'0': 0.7, '1': 1},\n",
       "    'class_weights_1_2_3_4': {'0': 1, '1': 1, '2': 1, '3': 1}}},\n",
       "  'hyperparam': {'num_filters_cv': [[64, 16], [64, 32], [128, 16], [128, 32], [256, 64], [256, 32], [256, 64], [512, 128], [512, 32]],\n",
       "   'kernel_size_cv': [[2, 3], [2, 4], [3, 4], [3, 5]],\n",
       "   'vocab_size': [5000, 6000],\n",
       "   'embedding_dim': [20, 30, 40, 50],\n",
       "   'seq_input_len': [50, 40, 30, 20, 10],\n",
       "   'nodes_hidden_dense_layer': [5, 10, 15, 20, 40],\n",
       "   'use_pretrained_embeddings': [True, False]}}}"
      ]
     },
     "metadata": {},
     "execution_count": 37
    }
   ],
   "source": [
    "config"
   ]
  },
  {
   "cell_type": "markdown",
   "metadata": {},
   "source": [
    "## 0. Parameters"
   ]
  },
  {
   "cell_type": "code",
   "execution_count": 38,
   "metadata": {},
   "outputs": [],
   "source": [
    "# Set seed\n",
    "np.random.seed(config['params']['model']['seed'])\n",
    "\n",
    "# Current Date\n",
    "current_time = datetime.now().strftime(\"%d-%m-%Y_%H_%M_%S\")\n",
    "\n",
    "# Input data\n",
    "input_data = config['params']['input_data']['data']\n",
    "read_type  = config['params']['input_data']['read_type']\n",
    "\n",
    "# Models to run\n",
    "running_CNN = config['params']['model']['running_CNN']\n",
    "running_SVM = config['params']['model']['running_SVM']\n",
    "\n",
    "# To test for only clases 0 and 1\n",
    "make_all_other_classes_1 =  config['params']['tokenization_options']['make_all_other_classes_1']\n",
    "remove_class_0 = config['params']['tokenization_options']['remove_class_0']\n",
    "\n",
    "\n",
    "# Sentence Tokenizer\n",
    "sent_tokenizer = config['params']['tokenization_options']['sent_tokenizer'] # TODO: Adjust for input to CNN\n",
    "\n",
    "# Text Cleaning Options\n",
    "use_nltk_cleaning = config['params']['tokenization_options']['use_nltk_cleaning']\n",
    "text_cleaning = config['params']['tokenization_options']['text_cleaning']\n",
    "\n",
    "# Word Tokenizer Options\n",
    "use_tfidf_tokenizer = config['params']['tokenization_options']['use_tfidf_tokenizer'] # For SVM\n",
    "use_keras_tokenizer = config['params']['tokenization_options']['use_keras_tokenizer'] # For CNN\n",
    "\n",
    "# If set to FALSE then keras embedding space training is used instead\n",
    "# Embedding Space possibilites are GloVe or TFIDF\n",
    "use_pretrained_embeddings = config['params']['tokenization_options']['use_pretrained_embeddings']\n",
    "\n",
    "# Only if use_pretrained_embeddings == True then select embedding vector space type\n",
    "use_glove_pretrained_embeddings_weights = config['params']['tokenization_options']['use_glove_pretrained_embeddings_weights']\n",
    "use_tfidf_as_embedding_weights = config['params']['tokenization_options']['use_tfidf_as_embedding_weights']\n",
    "\n",
    "# Options for SVM\n",
    "imbalanced_classes = config['params']['tokenization_options']['imbalanced_classes']\n",
    "C = config['params']['data']['SVM']['C']\n",
    "kernel = config['params']['data']['SVM']['kernel']\n",
    "degree = config['params']['data']['SVM']['degree']\n",
    "gamma = config['params']['data']['SVM']['gamma']\n",
    "\n",
    "class_weight = {0: config['params']['data']['SVM']['class_weights']['0'],\n",
    "                1: config['params']['data']['SVM']['class_weights']['1'],\n",
    "                2: config['params']['data']['SVM']['class_weights']['2'],\n",
    "                3: config['params']['data']['SVM']['class_weights']['3'],\n",
    "                4: config['params']['data']['SVM']['class_weights']['4']}\n",
    "\n",
    "\n",
    "class_weight_2 = {0: config['params']['data']['SVM']['class_weights_2']['0'],\n",
    "                1: config['params']['data']['SVM']['class_weights_2']['1']}\n",
    "\n",
    "# Remember that without the 0 , the other labels are reindexed\n",
    "class_weights_1_2_3_4 = {0: config['params']['data']['SVM']['class_weights_1_2_3_4']['0'],\n",
    "                1: config['params']['data']['SVM']['class_weights_1_2_3_4']['1'],\n",
    "                2: config['params']['data']['SVM']['class_weights_1_2_3_4']['2'],\n",
    "                3: config['params']['data']['SVM']['class_weights_1_2_3_4']['3']}\n",
    "\n",
    "# Dictionary which will cotain all the model's variables\n",
    "data = {}\n",
    "\n",
    "# Initialize Model\n",
    "data['epochs'] = config['params']['data']['epochs'] # NO. of optimizatoin runs\n",
    "data['batch_size'] = config['params']['data']['batch_size'] # No. of sentences batch to train\n",
    "data['num_words'] = config['params']['data']['num_words'] # No. of words to use in the embedding space of GloVe or TFIDF\n",
    "data['cv'] = config['params']['data']['cv'] # No. of Cross Validations\n",
    "data['n_iter'] = config['params']['data']['n_iter'] # No. of Iterations\n",
    "data['seq_input_len'] = config['params']['data']['seq_input_len'] # Length of the vector sentence ( no. of words per sentence)\n",
    "data['embedding_dim'] = config['params']['data']['embedding_dim'] # Length of the word vector ( dimension in the embedding space)\n",
    "data['nodes_hidden_dense_layer'] = config['params']['data']['nodes_hidden_dense_layer'] # No. of nodes for hidden Dense layer\n",
    "\n",
    "\n",
    "data['filepath'] = config['params']['data']['filepath'] # File path to GLoVe pretrained embedding words\n",
    "data['output_file'] = f\"results/{current_time}_Result\" # Name of output result file"
   ]
  },
  {
   "cell_type": "code",
   "execution_count": 39,
   "metadata": {},
   "outputs": [],
   "source": [
    "param_grid = dict(num_filters_cv = config['params']['hyperparam']['num_filters_cv'], # No of filter to use in convolution\n",
    "                  kernel_size_cv = config['params']['hyperparam']['kernel_size_cv'], # No of words to check per Convolution \n",
    "                  vocab_size = config['params']['hyperparam']['vocab_size'], # Vocab size if keras embedding space training is wanted\n",
    "                  embedding_dim = config['params']['hyperparam']['embedding_dim'], \n",
    "                  seq_input_len = config['params']['hyperparam']['seq_input_len'], \n",
    "                  nodes_hidden_dense_layer = config['params']['hyperparam']['nodes_hidden_dense_layer'],\n",
    "                  use_pretrained_embeddings = config['params']['hyperparam']['use_pretrained_embeddings']\n",
    "                   )"
   ]
  },
  {
   "cell_type": "code",
   "execution_count": 40,
   "metadata": {},
   "outputs": [
    {
     "output_type": "execute_result",
     "data": {
      "text/plain": [
       "{'num_filters_cv': [[64, 16], [64, 32], [128, 16], [128, 32], [256, 64], [256, 32], [256, 64], [512, 128], [512, 32]],\n",
       " 'kernel_size_cv': [[2, 3], [2, 4], [3, 4], [3, 5]],\n",
       " 'vocab_size': [5000, 6000],\n",
       " 'embedding_dim': [20, 30, 40, 50],\n",
       " 'seq_input_len': [50, 40, 30, 20, 10],\n",
       " 'nodes_hidden_dense_layer': [5, 10, 15, 20, 40],\n",
       " 'use_pretrained_embeddings': [True, False]}"
      ]
     },
     "metadata": {},
     "execution_count": 40
    }
   ],
   "source": [
    "param_grid"
   ]
  },
  {
   "cell_type": "markdown",
   "metadata": {},
   "source": [
    "## 1. Ingest Data"
   ]
  },
  {
   "cell_type": "code",
   "execution_count": 41,
   "metadata": {},
   "outputs": [
    {
     "output_type": "execute_result",
     "data": {
      "text/plain": [
       "'data/ML_data_2.0.xlsx'"
      ]
     },
     "metadata": {},
     "execution_count": 41
    }
   ],
   "source": [
    "input_data"
   ]
  },
  {
   "cell_type": "code",
   "execution_count": 42,
   "metadata": {},
   "outputs": [],
   "source": [
    "if read_type == 'excel':\n",
    "    \n",
    "    corpus = pd.read_excel(input_data, engine='openpyxl')\n",
    "\n",
    "elif read_type == 'csv':\n",
    "\n",
    "    corpus = pd.read_csv( input_data, sep = config['params']['input_data']['sep'])\n",
    "\n",
    "\n",
    "# Filter all NAs values\n",
    "corpus.dropna(inplace= True)\n",
    "corpus['label'] = corpus['label'].astype(int)"
   ]
  },
  {
   "cell_type": "code",
   "execution_count": 43,
   "metadata": {},
   "outputs": [
    {
     "output_type": "stream",
     "name": "stdout",
     "text": [
      "<class 'pandas.core.frame.DataFrame'>\nInt64Index: 2006 entries, 0 to 2006\nData columns (total 2 columns):\n #   Column  Non-Null Count  Dtype \n---  ------  --------------  ----- \n 0   text    2006 non-null   object\n 1   label   2006 non-null   int32 \ndtypes: int32(1), object(1)\nmemory usage: 39.2+ KB\n"
     ]
    }
   ],
   "source": [
    "corpus.info()"
   ]
  },
  {
   "cell_type": "code",
   "execution_count": 44,
   "metadata": {},
   "outputs": [],
   "source": [
    "corpus = preprocessing.data_cleaning(corpus = corpus,\n",
    "                       sent_tokenizer = False, \n",
    "                       text_cleaning = True, \n",
    "                       use_nltk_cleaning = False)"
   ]
  },
  {
   "cell_type": "code",
   "execution_count": 45,
   "metadata": {},
   "outputs": [
    {
     "output_type": "execute_result",
     "data": {
      "text/plain": [
       "                                                text  label\n",
       "0  stable way business life many corporate purcha...      0\n",
       "1  dozens companies already learned supply demand...      0\n",
       "2  capabilities profitable international business...      0\n",
       "3    almost every kind manufacturer answer questions      0\n",
       "4      companies already responded growing pressures      0"
      ],
      "text/html": "<div>\n<style scoped>\n    .dataframe tbody tr th:only-of-type {\n        vertical-align: middle;\n    }\n\n    .dataframe tbody tr th {\n        vertical-align: top;\n    }\n\n    .dataframe thead th {\n        text-align: right;\n    }\n</style>\n<table border=\"1\" class=\"dataframe\">\n  <thead>\n    <tr style=\"text-align: right;\">\n      <th></th>\n      <th>text</th>\n      <th>label</th>\n    </tr>\n  </thead>\n  <tbody>\n    <tr>\n      <th>0</th>\n      <td>stable way business life many corporate purcha...</td>\n      <td>0</td>\n    </tr>\n    <tr>\n      <th>1</th>\n      <td>dozens companies already learned supply demand...</td>\n      <td>0</td>\n    </tr>\n    <tr>\n      <th>2</th>\n      <td>capabilities profitable international business...</td>\n      <td>0</td>\n    </tr>\n    <tr>\n      <th>3</th>\n      <td>almost every kind manufacturer answer questions</td>\n      <td>0</td>\n    </tr>\n    <tr>\n      <th>4</th>\n      <td>companies already responded growing pressures</td>\n      <td>0</td>\n    </tr>\n  </tbody>\n</table>\n</div>"
     },
     "metadata": {},
     "execution_count": 45
    }
   ],
   "source": [
    "corpus.head()"
   ]
  },
  {
   "cell_type": "code",
   "execution_count": 46,
   "metadata": {},
   "outputs": [
    {
     "output_type": "stream",
     "name": "stdout",
     "text": [
      "<class 'pandas.core.frame.DataFrame'>\nRangeIndex: 2006 entries, 0 to 2005\nData columns (total 2 columns):\n #   Column  Non-Null Count  Dtype \n---  ------  --------------  ----- \n 0   text    2006 non-null   object\n 1   label   2006 non-null   int32 \ndtypes: int32(1), object(1)\nmemory usage: 23.6+ KB\n"
     ]
    }
   ],
   "source": [
    "corpus.info()"
   ]
  },
  {
   "cell_type": "code",
   "execution_count": 47,
   "metadata": {},
   "outputs": [],
   "source": [
    "# Create Filter on the data to avoid the imbalance classes problem\n",
    "if make_all_other_classes_1:\n",
    "\n",
    "    corpus['label_orignal'] = corpus.loc[:,'label']\n",
    "    corpus['label'] = np.where( corpus['label'] > 0 , 1, corpus['label'])\n",
    "\n",
    "# else: #remove_class_0:\n",
    "\n",
    "#     corpus['label_orignal'] = corpus.loc[:,'label']\n",
    "#     corpus = corpus[~corpus['label'].isin([0])]\n",
    "#     corpus['label'] = corpus['label'].map({1:0,2:1,3:2,4:3})\n",
    "\n"
   ]
  },
  {
   "cell_type": "code",
   "execution_count": 48,
   "metadata": {},
   "outputs": [
    {
     "output_type": "execute_result",
     "data": {
      "text/plain": [
       "True"
      ]
     },
     "metadata": {},
     "execution_count": 48
    }
   ],
   "source": [
    "make_all_other_classes_1"
   ]
  },
  {
   "cell_type": "code",
   "execution_count": 49,
   "metadata": {},
   "outputs": [
    {
     "output_type": "execute_result",
     "data": {
      "text/plain": [
       "0    1468\n",
       "1     538\n",
       "Name: label, dtype: int64"
      ]
     },
     "metadata": {},
     "execution_count": 49
    }
   ],
   "source": [
    "corpus['label'].value_counts()"
   ]
  },
  {
   "cell_type": "markdown",
   "metadata": {},
   "source": [
    "## 2. Preprocess Data"
   ]
  },
  {
   "cell_type": "code",
   "execution_count": 50,
   "metadata": {},
   "outputs": [],
   "source": [
    "model_data = preprocessing.prepare_training_data(corpus = corpus, test_size = 0.25)\n",
    "\n",
    "# Concat two dictionaries\n",
    "data = {**data, **model_data}"
   ]
  },
  {
   "cell_type": "code",
   "execution_count": 51,
   "metadata": {},
   "outputs": [
    {
     "output_type": "execute_result",
     "data": {
      "text/plain": [
       "dict_keys(['epochs', 'batch_size', 'num_words', 'cv', 'n_iter', 'seq_input_len', 'embedding_dim', 'nodes_hidden_dense_layer', 'filepath', 'output_file', 'sentences_train_SVM', 'sentences_test_SVM', 'Y_train_SVM', 'Y_test_SVM', 'sentences_train_CNN', 'sentences_test_CNN', 'Y_train_CNN', 'Y_test_CNN', 'output_label'])"
      ]
     },
     "metadata": {},
     "execution_count": 51
    }
   ],
   "source": [
    "data.keys()"
   ]
  },
  {
   "cell_type": "markdown",
   "metadata": {},
   "source": [
    "## 3. Vectorization"
   ]
  },
  {
   "cell_type": "code",
   "execution_count": 52,
   "metadata": {},
   "outputs": [
    {
     "output_type": "execute_result",
     "data": {
      "text/plain": [
       "True"
      ]
     },
     "metadata": {},
     "execution_count": 52
    }
   ],
   "source": [
    "use_glove_pretrained_embeddings_weights"
   ]
  },
  {
   "cell_type": "code",
   "execution_count": 53,
   "metadata": {},
   "outputs": [],
   "source": [
    "if running_CNN:\n",
    "    \n",
    "    data['X_train_CNN'], data['X_test_CNN'], data['vocab_size'], data['vocab'] = modelling.keras_tokenizer(num_words = data['num_words'], \n",
    "                                                                                         sentences_train = data['sentences_train_CNN'] , \n",
    "                                                                                         sentences_test = data['sentences_test_CNN'],\n",
    "                                                                                         seq_input_len = data['seq_input_len'])\n",
    "    if use_tfidf_as_embedding_weights:\n",
    "    \n",
    "        data['embedding_matrix'], data['embedding_dim']  = modelling.tfidf_as_embedding_weights(num_words = data['num_words'], \n",
    "                                                                    corpus = corpus, \n",
    "                                                                    sentences_train = data['sentences_train_CNN'])\n",
    "    \n",
    "    elif use_glove_pretrained_embeddings_weights:\n",
    "        \n",
    "        data['embedding_matrix'], data['embedding_dim'] = modelling.fit_pretrained_embedding_space_glove(embedding_dim = data['embedding_dim'], \n",
    "                                                                            filepath = data['filepath'] , \n",
    "                                                                            vocab = data['vocab'])\n",
    "\n",
    "# if running_SVM: \n",
    "\n",
    "#     data['X_train_SVM'], data['X_test_SVM'], data['vocab_size'], data['vocab'] = modelling.tfidf_tokenizer(num_words = data['num_words'],\n",
    "#                                                                                          corpus = corpus,\n",
    "#                                                                                          sentences_train = data['sentences_train_SVM'],\n",
    "#                                                                                          sentences_test = data['sentences_test_SVM'])\n",
    "    \n"
   ]
  },
  {
   "cell_type": "code",
   "execution_count": 110,
   "metadata": {},
   "outputs": [
    {
     "output_type": "execute_result",
     "data": {
      "text/plain": [
       "3529"
      ]
     },
     "metadata": {},
     "execution_count": 110
    }
   ],
   "source": [
    "len(data['vocab'])"
   ]
  },
  {
   "cell_type": "code",
   "execution_count": 108,
   "metadata": {},
   "outputs": [
    {
     "output_type": "execute_result",
     "data": {
      "text/plain": [
       "3530"
      ]
     },
     "metadata": {},
     "execution_count": 108
    }
   ],
   "source": [
    "data['vocab_size']"
   ]
  },
  {
   "cell_type": "code",
   "execution_count": 107,
   "metadata": {},
   "outputs": [
    {
     "output_type": "execute_result",
     "data": {
      "text/plain": [
       "array([[  52, 1031,  619, ...,    0,    0,    0],\n",
       "       [   4,  597,   63, ...,    0,    0,    0],\n",
       "       [ 134,  510,  264, ...,    0,    0,    0],\n",
       "       ...,\n",
       "       [  35,   11,  237, ...,    0,    0,    0],\n",
       "       [  37,  200, 1602, ...,    0,    0,    0],\n",
       "       [1535,    9, 1295, ...,    0,    0,    0]])"
      ]
     },
     "metadata": {},
     "execution_count": 107
    }
   ],
   "source": [
    "data['X_test_CNN']"
   ]
  },
  {
   "cell_type": "code",
   "execution_count": 69,
   "metadata": {
    "tags": []
   },
   "outputs": [],
   "source": [
    "index_word_dict = {}\n",
    "\n",
    "for key, value in data['vocab'].items():\n",
    "    index_word_dict[value] = key\n",
    "\n",
    " for index, x in enumerate(corpus['text']):\n",
    "     #print(index, \" \", x)\n",
    "     if 'outcome' in x and 'portfolio' in x:\n",
    "         print(index)\n"
   ]
  },
  {
   "cell_type": "code",
   "execution_count": 98,
   "metadata": {},
   "outputs": [
    {
     "output_type": "execute_result",
     "data": {
      "text/plain": [
       "array([1026,    3,   17, 1925,  165,   21,  226, 1926, 1027,    0,    0,\n",
       "          0,    0,    0,    0,    0,    0,    0,    0,    0,    0,    0,\n",
       "          0,    0,    0,    0,    0,    0,    0,    0,    0,    0,    0,\n",
       "          0,    0,    0,    0,    0,    0,    0])"
      ]
     },
     "metadata": {},
     "execution_count": 98
    }
   ],
   "source": [
    "data['X_train_CNN'][0]"
   ]
  },
  {
   "cell_type": "code",
   "execution_count": 99,
   "metadata": {},
   "outputs": [
    {
     "output_type": "stream",
     "name": "stdout",
     "text": [
      "outcome   portfolio\n"
     ]
    }
   ],
   "source": [
    "print(index_word_dict[1026], \" \", index_word_dict[3])"
   ]
  },
  {
   "cell_type": "code",
   "execution_count": 100,
   "metadata": {},
   "outputs": [
    {
     "output_type": "execute_result",
     "data": {
      "text/plain": [
       "'outcome portfolio analysis signals problems products need tackled priority'"
      ]
     },
     "metadata": {},
     "execution_count": 100
    }
   ],
   "source": [
    "corpus['text'].values[1555]"
   ]
  },
  {
   "cell_type": "code",
   "execution_count": 96,
   "metadata": {},
   "outputs": [
    {
     "output_type": "execute_result",
     "data": {
      "text/plain": [
       "array([1026,    3,   17, 1925,  165,   21,  226, 1926, 1027,    0,    0,\n",
       "          0,    0,    0,    0,    0,    0,    0,    0,    0,    0,    0,\n",
       "          0,    0,    0,    0,    0,    0,    0,    0,    0,    0,    0,\n",
       "          0,    0,    0,    0,    0,    0,    0])"
      ]
     },
     "metadata": {},
     "execution_count": 96
    }
   ],
   "source": []
  },
  {
   "cell_type": "code",
   "execution_count": null,
   "metadata": {},
   "outputs": [],
   "source": [
    "0.76236 -0.24717 -0.64768 0.58919 0.71487 0.09993 0.44872 1.29 -0.23801 0.19687 -0.28326 -0.65015 -0.44862 -0.05367 0.6939 0.83134 0.70239 -0.98675 0.12046 -0.79326 0.019763 -0.10038 0.29069 0.021902 0.64044 -1.1463 -0.73439 0.25295 0.062016 0.81949 2.2527 0.20512 -0.86313 -1.2455 0.23408 -1.4462 0.15367 0.52704 -0.40866 -0.96245 -1.0413 -0.59522 -0.35202 0.3021 -0.39032 0.12503 -0.039597 1.4499 0.73809 0.42732"
   ]
  },
  {
   "cell_type": "code",
   "execution_count": 105,
   "metadata": {},
   "outputs": [
    {
     "output_type": "execute_result",
     "data": {
      "text/plain": [
       "array([ 0.76235998, -0.24717   , -0.64767998,  0.58919001,  0.71486998,\n",
       "        0.09993   ,  0.44872001,  1.28999996, -0.23801   ,  0.19687   ,\n",
       "       -0.28325999, -0.65015   , -0.44861999, -0.05367   ,  0.69389999,\n",
       "        0.83134001,  0.70239002, -0.98675001,  0.12046   , -0.79325998,\n",
       "        0.019763  , -0.10038   ,  0.29069   ,  0.021902  ,  0.64043999,\n",
       "       -1.14629996, -0.73439002,  0.25295001,  0.062016  ,  0.81949002,\n",
       "        2.25270009,  0.20512   , -0.86312997, -1.24549997,  0.23408   ,\n",
       "       -1.44620001,  0.15367   ,  0.52704   , -0.40865999, -0.96245003])"
      ]
     },
     "metadata": {},
     "execution_count": 105
    }
   ],
   "source": [
    "data['embedding_matrix'][1026]"
   ]
  },
  {
   "cell_type": "code",
   "execution_count": 57,
   "metadata": {},
   "outputs": [],
   "source": [
    "# data_pre = modelling.data_vectorization(sentences_train_CNN = data['sentences_train_CNN'], \n",
    "#                        sentences_test_CNN = data['sentences_test_CNN'], \n",
    "#                        sentences_train_SVM = data['sentences_train_SVM'], \n",
    "#                        sentences_test_SVM = data['sentences_test_SVM'], \n",
    "#                        num_words = data['num_words'], \n",
    "#                        seq_input_len = data['seq_input_len'], \n",
    "#                        filepath = data['filepath'],\n",
    "#                        corpus = corpus,\n",
    "#                        vocab = data['vocab'],\n",
    "#                        embedding_dim = data['embedding_dim'],\n",
    "#                        running_CNN = running_CNN, \n",
    "#                        running_SVM = running_SVM, \n",
    "#                        use_tfidf_as_embedding_weights = use_tfidf_as_embedding_weights,\n",
    "#                        use_glove_pretrained_embeddings_weights = use_glove_pretrained_embeddings_weights)\n",
    "\n",
    "# # Concat two dictionaries\n",
    "# data = {**data, **data_pre}"
   ]
  },
  {
   "cell_type": "code",
   "execution_count": 58,
   "metadata": {},
   "outputs": [
    {
     "output_type": "execute_result",
     "data": {
      "text/plain": [
       "3529"
      ]
     },
     "metadata": {},
     "execution_count": 58
    }
   ],
   "source": [
    "len(data['vocab'].keys())"
   ]
  },
  {
   "cell_type": "code",
   "execution_count": 59,
   "metadata": {},
   "outputs": [
    {
     "output_type": "execute_result",
     "data": {
      "text/plain": [
       "dict_keys(['epochs', 'batch_size', 'num_words', 'cv', 'n_iter', 'seq_input_len', 'embedding_dim', 'nodes_hidden_dense_layer', 'filepath', 'output_file', 'sentences_train_SVM', 'sentences_test_SVM', 'Y_train_SVM', 'Y_test_SVM', 'sentences_train_CNN', 'sentences_test_CNN', 'Y_train_CNN', 'Y_test_CNN', 'output_label', 'X_train_CNN', 'X_test_CNN', 'vocab_size', 'vocab', 'embedding_matrix'])"
      ]
     },
     "metadata": {},
     "execution_count": 59
    }
   ],
   "source": [
    "data.keys()"
   ]
  },
  {
   "cell_type": "code",
   "execution_count": 60,
   "metadata": {},
   "outputs": [],
   "source": [
    "param_grid['embedding_matrix'] = ([data['embedding_matrix']])\n",
    "param_grid['output_label'] = [data['output_label']]"
   ]
  },
  {
   "cell_type": "code",
   "execution_count": 61,
   "metadata": {},
   "outputs": [
    {
     "output_type": "execute_result",
     "data": {
      "text/plain": [
       "3530"
      ]
     },
     "metadata": {},
     "execution_count": 61
    }
   ],
   "source": [
    "param_grid['embedding_matrix'][0].shape[0]"
   ]
  },
  {
   "cell_type": "markdown",
   "metadata": {},
   "source": [
    "## 5. Run Convolutional Neural Networks\n",
    "\n",
    "Reference: https://machinelearningmastery.com/grid-search-hyperparameters-deep-learning-models-python-keras/"
   ]
  },
  {
   "cell_type": "code",
   "execution_count": 62,
   "metadata": {
    "tags": [
     "outputPrepend"
    ]
   },
   "outputs": [
    {
     "output_type": "stream",
     "name": "stdout",
     "text": [
      "   \n",
      "=================================================================\n",
      "Total params: 212,159\n",
      "Trainable params: 70,959\n",
      "Non-trainable params: 141,200\n",
      "_________________________________________________________________\n",
      "WARNING:tensorflow:Model was constructed with shape (None, 20) for input KerasTensor(type_spec=TensorSpec(shape=(None, 20), dtype=tf.float32, name='embedding_21_input'), name='embedding_21_input', description=\"created by layer 'embedding_21_input'\"), but it was called on an input with incompatible shape (None, 40).\n",
      "WARNING:tensorflow:Model was constructed with shape (None, 20) for input KerasTensor(type_spec=TensorSpec(shape=(None, 20), dtype=tf.float32, name='embedding_21_input'), name='embedding_21_input', description=\"created by layer 'embedding_21_input'\"), but it was called on an input with incompatible shape (None, 40).\n",
      "WARNING:tensorflow:Model was constructed with shape (None, 20) for input KerasTensor(type_spec=TensorSpec(shape=(None, 20), dtype=tf.float32, name='embedding_21_input'), name='embedding_21_input', description=\"created by layer 'embedding_21_input'\"), but it was called on an input with incompatible shape (None, 40).\n",
      "Model: \"sequential_22\"\n",
      "_________________________________________________________________\n",
      "Layer (type)                 Output Shape              Param #   \n",
      "=================================================================\n",
      "embedding_22 (Embedding)     (None, 20, 40)            141200    \n",
      "_________________________________________________________________\n",
      "conv1d_44 (Conv1D)           (None, 19, 256)           20736     \n",
      "_________________________________________________________________\n",
      "conv1d_45 (Conv1D)           (None, 17, 64)            49216     \n",
      "_________________________________________________________________\n",
      "global_max_pooling1d_22 (Glo (None, 64)                0         \n",
      "_________________________________________________________________\n",
      "dense_44 (Dense)             (None, 15)                975       \n",
      "_________________________________________________________________\n",
      "dense_45 (Dense)             (None, 2)                 32        \n",
      "=================================================================\n",
      "Total params: 212,159\n",
      "Trainable params: 70,959\n",
      "Non-trainable params: 141,200\n",
      "_________________________________________________________________\n",
      "WARNING:tensorflow:Model was constructed with shape (None, 20) for input KerasTensor(type_spec=TensorSpec(shape=(None, 20), dtype=tf.float32, name='embedding_22_input'), name='embedding_22_input', description=\"created by layer 'embedding_22_input'\"), but it was called on an input with incompatible shape (None, 40).\n",
      "WARNING:tensorflow:Model was constructed with shape (None, 20) for input KerasTensor(type_spec=TensorSpec(shape=(None, 20), dtype=tf.float32, name='embedding_22_input'), name='embedding_22_input', description=\"created by layer 'embedding_22_input'\"), but it was called on an input with incompatible shape (None, 40).\n",
      "WARNING:tensorflow:Model was constructed with shape (None, 20) for input KerasTensor(type_spec=TensorSpec(shape=(None, 20), dtype=tf.float32, name='embedding_22_input'), name='embedding_22_input', description=\"created by layer 'embedding_22_input'\"), but it was called on an input with incompatible shape (None, 40).\n",
      "Model: \"sequential_23\"\n",
      "_________________________________________________________________\n",
      "Layer (type)                 Output Shape              Param #   \n",
      "=================================================================\n",
      "embedding_23 (Embedding)     (None, 20, 40)            141200    \n",
      "_________________________________________________________________\n",
      "conv1d_46 (Conv1D)           (None, 19, 256)           20736     \n",
      "_________________________________________________________________\n",
      "conv1d_47 (Conv1D)           (None, 17, 64)            49216     \n",
      "_________________________________________________________________\n",
      "global_max_pooling1d_23 (Glo (None, 64)                0         \n",
      "_________________________________________________________________\n",
      "dense_46 (Dense)             (None, 15)                975       \n",
      "_________________________________________________________________\n",
      "dense_47 (Dense)             (None, 2)                 32        \n",
      "=================================================================\n",
      "Total params: 212,159\n",
      "Trainable params: 70,959\n",
      "Non-trainable params: 141,200\n",
      "_________________________________________________________________\n",
      "WARNING:tensorflow:Model was constructed with shape (None, 20) for input KerasTensor(type_spec=TensorSpec(shape=(None, 20), dtype=tf.float32, name='embedding_23_input'), name='embedding_23_input', description=\"created by layer 'embedding_23_input'\"), but it was called on an input with incompatible shape (None, 40).\n",
      "WARNING:tensorflow:Model was constructed with shape (None, 20) for input KerasTensor(type_spec=TensorSpec(shape=(None, 20), dtype=tf.float32, name='embedding_23_input'), name='embedding_23_input', description=\"created by layer 'embedding_23_input'\"), but it was called on an input with incompatible shape (None, 40).\n",
      "WARNING:tensorflow:Model was constructed with shape (None, 20) for input KerasTensor(type_spec=TensorSpec(shape=(None, 20), dtype=tf.float32, name='embedding_23_input'), name='embedding_23_input', description=\"created by layer 'embedding_23_input'\"), but it was called on an input with incompatible shape (None, 40).\n",
      "Model: \"sequential_24\"\n",
      "_________________________________________________________________\n",
      "Layer (type)                 Output Shape              Param #   \n",
      "=================================================================\n",
      "embedding_24 (Embedding)     (None, 20, 40)            141200    \n",
      "_________________________________________________________________\n",
      "conv1d_48 (Conv1D)           (None, 19, 256)           20736     \n",
      "_________________________________________________________________\n",
      "conv1d_49 (Conv1D)           (None, 17, 64)            49216     \n",
      "_________________________________________________________________\n",
      "global_max_pooling1d_24 (Glo (None, 64)                0         \n",
      "_________________________________________________________________\n",
      "dense_48 (Dense)             (None, 15)                975       \n",
      "_________________________________________________________________\n",
      "dense_49 (Dense)             (None, 2)                 32        \n",
      "=================================================================\n",
      "Total params: 212,159\n",
      "Trainable params: 70,959\n",
      "Non-trainable params: 141,200\n",
      "_________________________________________________________________\n",
      "WARNING:tensorflow:Model was constructed with shape (None, 20) for input KerasTensor(type_spec=TensorSpec(shape=(None, 20), dtype=tf.float32, name='embedding_24_input'), name='embedding_24_input', description=\"created by layer 'embedding_24_input'\"), but it was called on an input with incompatible shape (None, 40).\n",
      "WARNING:tensorflow:Model was constructed with shape (None, 20) for input KerasTensor(type_spec=TensorSpec(shape=(None, 20), dtype=tf.float32, name='embedding_24_input'), name='embedding_24_input', description=\"created by layer 'embedding_24_input'\"), but it was called on an input with incompatible shape (None, 40).\n",
      "WARNING:tensorflow:Model was constructed with shape (None, 20) for input KerasTensor(type_spec=TensorSpec(shape=(None, 20), dtype=tf.float32, name='embedding_24_input'), name='embedding_24_input', description=\"created by layer 'embedding_24_input'\"), but it was called on an input with incompatible shape (None, 40).\n",
      "Model: \"sequential_25\"\n",
      "_________________________________________________________________\n",
      "Layer (type)                 Output Shape              Param #   \n",
      "=================================================================\n",
      "embedding_25 (Embedding)     (None, 10, 30)            180000    \n",
      "_________________________________________________________________\n",
      "conv1d_50 (Conv1D)           (None, 9, 512)            31232     \n",
      "_________________________________________________________________\n",
      "conv1d_51 (Conv1D)           (None, 7, 128)            196736    \n",
      "_________________________________________________________________\n",
      "global_max_pooling1d_25 (Glo (None, 128)               0         \n",
      "_________________________________________________________________\n",
      "dense_50 (Dense)             (None, 15)                1935      \n",
      "_________________________________________________________________\n",
      "dense_51 (Dense)             (None, 2)                 32        \n",
      "=================================================================\n",
      "Total params: 409,935\n",
      "Trainable params: 409,935\n",
      "Non-trainable params: 0\n",
      "_________________________________________________________________\n",
      "WARNING:tensorflow:Model was constructed with shape (None, 10) for input KerasTensor(type_spec=TensorSpec(shape=(None, 10), dtype=tf.float32, name='embedding_25_input'), name='embedding_25_input', description=\"created by layer 'embedding_25_input'\"), but it was called on an input with incompatible shape (None, 40).\n",
      "WARNING:tensorflow:Model was constructed with shape (None, 10) for input KerasTensor(type_spec=TensorSpec(shape=(None, 10), dtype=tf.float32, name='embedding_25_input'), name='embedding_25_input', description=\"created by layer 'embedding_25_input'\"), but it was called on an input with incompatible shape (None, 40).\n",
      "WARNING:tensorflow:Model was constructed with shape (None, 10) for input KerasTensor(type_spec=TensorSpec(shape=(None, 10), dtype=tf.float32, name='embedding_25_input'), name='embedding_25_input', description=\"created by layer 'embedding_25_input'\"), but it was called on an input with incompatible shape (None, 40).\n",
      "Model: \"sequential_26\"\n",
      "_________________________________________________________________\n",
      "Layer (type)                 Output Shape              Param #   \n",
      "=================================================================\n",
      "embedding_26 (Embedding)     (None, 10, 30)            180000    \n",
      "_________________________________________________________________\n",
      "conv1d_52 (Conv1D)           (None, 9, 512)            31232     \n",
      "_________________________________________________________________\n",
      "conv1d_53 (Conv1D)           (None, 7, 128)            196736    \n",
      "_________________________________________________________________\n",
      "global_max_pooling1d_26 (Glo (None, 128)               0         \n",
      "_________________________________________________________________\n",
      "dense_52 (Dense)             (None, 15)                1935      \n",
      "_________________________________________________________________\n",
      "dense_53 (Dense)             (None, 2)                 32        \n",
      "=================================================================\n",
      "Total params: 409,935\n",
      "Trainable params: 409,935\n",
      "Non-trainable params: 0\n",
      "_________________________________________________________________\n",
      "WARNING:tensorflow:Model was constructed with shape (None, 10) for input KerasTensor(type_spec=TensorSpec(shape=(None, 10), dtype=tf.float32, name='embedding_26_input'), name='embedding_26_input', description=\"created by layer 'embedding_26_input'\"), but it was called on an input with incompatible shape (None, 40).\n",
      "WARNING:tensorflow:Model was constructed with shape (None, 10) for input KerasTensor(type_spec=TensorSpec(shape=(None, 10), dtype=tf.float32, name='embedding_26_input'), name='embedding_26_input', description=\"created by layer 'embedding_26_input'\"), but it was called on an input with incompatible shape (None, 40).\n",
      "WARNING:tensorflow:Model was constructed with shape (None, 10) for input KerasTensor(type_spec=TensorSpec(shape=(None, 10), dtype=tf.float32, name='embedding_26_input'), name='embedding_26_input', description=\"created by layer 'embedding_26_input'\"), but it was called on an input with incompatible shape (None, 40).\n",
      "Model: \"sequential_27\"\n",
      "_________________________________________________________________\n",
      "Layer (type)                 Output Shape              Param #   \n",
      "=================================================================\n",
      "embedding_27 (Embedding)     (None, 10, 30)            180000    \n",
      "_________________________________________________________________\n",
      "conv1d_54 (Conv1D)           (None, 9, 512)            31232     \n",
      "_________________________________________________________________\n",
      "conv1d_55 (Conv1D)           (None, 7, 128)            196736    \n",
      "_________________________________________________________________\n",
      "global_max_pooling1d_27 (Glo (None, 128)               0         \n",
      "_________________________________________________________________\n",
      "dense_54 (Dense)             (None, 15)                1935      \n",
      "_________________________________________________________________\n",
      "dense_55 (Dense)             (None, 2)                 32        \n",
      "=================================================================\n",
      "Total params: 409,935\n",
      "Trainable params: 409,935\n",
      "Non-trainable params: 0\n",
      "_________________________________________________________________\n",
      "WARNING:tensorflow:Model was constructed with shape (None, 10) for input KerasTensor(type_spec=TensorSpec(shape=(None, 10), dtype=tf.float32, name='embedding_27_input'), name='embedding_27_input', description=\"created by layer 'embedding_27_input'\"), but it was called on an input with incompatible shape (None, 40).\n",
      "WARNING:tensorflow:Model was constructed with shape (None, 10) for input KerasTensor(type_spec=TensorSpec(shape=(None, 10), dtype=tf.float32, name='embedding_27_input'), name='embedding_27_input', description=\"created by layer 'embedding_27_input'\"), but it was called on an input with incompatible shape (None, 40).\n",
      "WARNING:tensorflow:Model was constructed with shape (None, 10) for input KerasTensor(type_spec=TensorSpec(shape=(None, 10), dtype=tf.float32, name='embedding_27_input'), name='embedding_27_input', description=\"created by layer 'embedding_27_input'\"), but it was called on an input with incompatible shape (None, 40).\n",
      "Model: \"sequential_28\"\n",
      "_________________________________________________________________\n",
      "Layer (type)                 Output Shape              Param #   \n",
      "=================================================================\n",
      "embedding_28 (Embedding)     (None, 10, 30)            180000    \n",
      "_________________________________________________________________\n",
      "conv1d_56 (Conv1D)           (None, 9, 512)            31232     \n",
      "_________________________________________________________________\n",
      "conv1d_57 (Conv1D)           (None, 7, 128)            196736    \n",
      "_________________________________________________________________\n",
      "global_max_pooling1d_28 (Glo (None, 128)               0         \n",
      "_________________________________________________________________\n",
      "dense_56 (Dense)             (None, 15)                1935      \n",
      "_________________________________________________________________\n",
      "dense_57 (Dense)             (None, 2)                 32        \n",
      "=================================================================\n",
      "Total params: 409,935\n",
      "Trainable params: 409,935\n",
      "Non-trainable params: 0\n",
      "_________________________________________________________________\n",
      "WARNING:tensorflow:Model was constructed with shape (None, 10) for input KerasTensor(type_spec=TensorSpec(shape=(None, 10), dtype=tf.float32, name='embedding_28_input'), name='embedding_28_input', description=\"created by layer 'embedding_28_input'\"), but it was called on an input with incompatible shape (None, 40).\n",
      "WARNING:tensorflow:Model was constructed with shape (None, 10) for input KerasTensor(type_spec=TensorSpec(shape=(None, 10), dtype=tf.float32, name='embedding_28_input'), name='embedding_28_input', description=\"created by layer 'embedding_28_input'\"), but it was called on an input with incompatible shape (None, 40).\n",
      "WARNING:tensorflow:Model was constructed with shape (None, 10) for input KerasTensor(type_spec=TensorSpec(shape=(None, 10), dtype=tf.float32, name='embedding_28_input'), name='embedding_28_input', description=\"created by layer 'embedding_28_input'\"), but it was called on an input with incompatible shape (None, 40).\n",
      "Model: \"sequential_29\"\n",
      "_________________________________________________________________\n",
      "Layer (type)                 Output Shape              Param #   \n",
      "=================================================================\n",
      "embedding_29 (Embedding)     (None, 20, 40)            141200    \n",
      "_________________________________________________________________\n",
      "conv1d_58 (Conv1D)           (None, 19, 256)           20736     \n",
      "_________________________________________________________________\n",
      "conv1d_59 (Conv1D)           (None, 17, 64)            49216     \n",
      "_________________________________________________________________\n",
      "global_max_pooling1d_29 (Glo (None, 64)                0         \n",
      "_________________________________________________________________\n",
      "dense_58 (Dense)             (None, 15)                975       \n",
      "_________________________________________________________________\n",
      "dense_59 (Dense)             (None, 2)                 32        \n",
      "=================================================================\n",
      "Total params: 212,159\n",
      "Trainable params: 70,959\n",
      "Non-trainable params: 141,200\n",
      "_________________________________________________________________\n",
      "WARNING:tensorflow:Model was constructed with shape (None, 20) for input KerasTensor(type_spec=TensorSpec(shape=(None, 20), dtype=tf.float32, name='embedding_29_input'), name='embedding_29_input', description=\"created by layer 'embedding_29_input'\"), but it was called on an input with incompatible shape (None, 40).\n",
      "WARNING:tensorflow:Model was constructed with shape (None, 20) for input KerasTensor(type_spec=TensorSpec(shape=(None, 20), dtype=tf.float32, name='embedding_29_input'), name='embedding_29_input', description=\"created by layer 'embedding_29_input'\"), but it was called on an input with incompatible shape (None, 40).\n",
      "WARNING:tensorflow:Model was constructed with shape (None, 20) for input KerasTensor(type_spec=TensorSpec(shape=(None, 20), dtype=tf.float32, name='embedding_29_input'), name='embedding_29_input', description=\"created by layer 'embedding_29_input'\"), but it was called on an input with incompatible shape (None, 40).\n",
      " label accuracy could not be calculated\n",
      "WARNING:tensorflow:Model was constructed with shape (None, 20) for input KerasTensor(type_spec=TensorSpec(shape=(None, 20), dtype=tf.float32, name='embedding_29_input'), name='embedding_29_input', description=\"created by layer 'embedding_29_input'\"), but it was called on an input with incompatible shape (None, 40).\n",
      "Best Test Accuracy was:  0.8346613645553589\n",
      "Accuracy for label 0 :  89.28  %\n",
      "Accuracy for label 1 :  66.67  %\n",
      "Writting results...\n",
      "Running CNN Modeling \n",
      " \n",
      "            Best Accuracy : 0.8444148898124695\n",
      "  \n",
      "            Test Accuracy : 0.8346613645553589\n",
      "\n",
      "            epochs : 30 \n",
      "\n",
      "            batch size : 10 \n",
      "\n",
      "            cross validations : 4 \n",
      "\n",
      "            No. Iterations : 5 \n",
      "\n",
      "            sent_tokenizer : False \n",
      "   \n",
      "            use_nltk_cleaning: True\n",
      " \n",
      "            text_cleaning: False\n",
      "  \n",
      "            use_tfidf_tokenizer: True\n",
      " \n",
      "            use_keras_tokenizer: False\n",
      " \n",
      "            use_pretrained_embeddings: True\n",
      " \n",
      "            use_glove_pretrained_embeddings_weights: True\n",
      " \n",
      "            use_tfidf_as_embedding_weights: False\n",
      " \n",
      "            best param: {'vocab_size': 6000, 'use_pretrained_embeddings': True, 'seq_input_len': 20, 'output_label': 2, 'num_filters_cv': [256, 64], 'nodes_hidden_dense_layer': 15, 'kernel_size_cv': [2, 3], 'embedding_matrix': array([[ 0.        ,  0.        ,  0.        , ...,  0.        ,\n",
      "         0.        ,  0.        ],\n",
      "       [-0.14896999, -0.41446   ,  0.57534999, ...,  0.025145  ,\n",
      "         0.32242   , -0.053632  ],\n",
      "       [ 0.54816997, -0.2086    ,  1.06239998, ...,  0.33985001,\n",
      "         0.36284   ,  0.30858001],\n",
      "       ...,\n",
      "       [-0.11694   , -0.35780001,  0.072456  , ...,  0.040751  ,\n",
      "         0.019299  , -0.28455001],\n",
      "       [-0.83750999,  0.69563001, -0.51407999, ..., -0.75838   ,\n",
      "         0.085523  , -0.83640999],\n",
      "       [-0.50748003, -0.12479   ,  0.012301  , ...,  0.71844   ,\n",
      "        -0.88622999, -0.77996999]]), 'embedding_dim': 20}\n",
      " \n",
      "            label accuracy: {0: 89.28, 1: 66.67}\n"
     ]
    }
   ],
   "source": [
    "if running_CNN:\n",
    "\n",
    "    model_output = modelling.hyperparameter_optimization( \n",
    "                                X_train = data['X_train_CNN'], \n",
    "                                Y_train = data['Y_train_CNN'], \n",
    "                                X_test = data['X_test_CNN'], \n",
    "                                Y_test = data['Y_test_CNN'] , \n",
    "                                epochs = data['epochs'] , \n",
    "                                batch_size = data['batch_size'],\n",
    "                                param_grid = param_grid,\n",
    "                                cv = data['cv'], \n",
    "                                n_iter = data['n_iter'],\n",
    "                                verbose = False)\n",
    "\n",
    "    # 5. Score Analysis\n",
    "\n",
    "    # Generate Confusion Matrix\n",
    "    conf_matrix = confusion_matrix(model_output['Y_pred'], data['Y_test_CNN'].argmax(axis=1)) / len(model_output['Y_pred'])\n",
    "\n",
    "    # Calculate Label Accuracy\n",
    "    model_output['label_acc'] = postprocessing.cal_label_accuracy(conf_matrix, verbose  = 1)\n",
    "\n",
    "    # 6. Write Results to text file\n",
    "    postprocessing.write_results_txt_CNN(output_file = data['output_file'], \n",
    "                  best_train_acc = model_output['best_train_acc'], \n",
    "                  best_train_param = model_output['best_train_param'],\n",
    "                  test_acc = model_output['test_acc'], \n",
    "                  label_acc = model_output['label_acc'] , \n",
    "                  sent_tokenizer = sent_tokenizer, \n",
    "                  use_nltk_cleaning = use_nltk_cleaning, \n",
    "                  text_cleaning = text_cleaning , \n",
    "                  use_tfidf_tokenizer = use_tfidf_tokenizer, \n",
    "                  use_keras_tokenizer = use_keras_tokenizer, \n",
    "                  use_pretrained_embeddings = use_pretrained_embeddings,\n",
    "                  use_glove_pretrained_embeddings_weights = use_glove_pretrained_embeddings_weights,\n",
    "                  use_tfidf_as_embedding_weights = use_tfidf_as_embedding_weights,\n",
    "                  epochs = data['epochs'],\n",
    "                  batch_size = data['batch_size'],\n",
    "                  num_words = data['num_words'], \n",
    "                  cv = data['cv'] ,\n",
    "                  n_iter = data['n_iter']\n",
    "   )"
   ]
  },
  {
   "cell_type": "markdown",
   "metadata": {},
   "source": []
  }
 ],
 "metadata": {
  "kernelspec": {
   "name": "python3",
   "display_name": "Python 3.7.9 64-bit ('class': conda)",
   "metadata": {
    "interpreter": {
     "hash": "a859f67d4acffa6abd10af9224a6e751dd4159d06149102e129e99dcb493c1c8"
    }
   }
  },
  "language_info": {
   "codemirror_mode": {
    "name": "ipython",
    "version": 3
   },
   "file_extension": ".py",
   "mimetype": "text/x-python",
   "name": "python",
   "nbconvert_exporter": "python",
   "pygments_lexer": "ipython3",
   "version": "3.7.9-final"
  }
 },
 "nbformat": 4,
 "nbformat_minor": 4
}