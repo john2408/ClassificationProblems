{
 "cells": [
  {
   "cell_type": "code",
   "execution_count": 1,
   "metadata": {
    "tags": [
     "outputPrepend"
    ]
   },
   "outputs": [
    {
     "output_type": "stream",
     "name": "stdout",
     "text": [
      "nt already satisfied: six>=1.9 in c:\\users\\julia\\anaconda22\\envs\\sa\\lib\\site-packages (from protobuf>=3.8.0->tensorflow-hub>=0.8.0->tensorflow-text-nightly) (1.15.0)\n",
      "Collecting tf-models-nightly  ERROR: Command errored out with exit status 1:\n",
      "   command: 'C:\\Users\\julia\\Anaconda22\\envs\\SA\\python.exe' -u -c 'import sys, setuptools, tokenize; sys.argv[0] = '\"'\"'C:\\\\Users\\\\julia\\\\AppData\\\\Local\\\\Temp\\\\pip-install-h36sf0th\\\\pycocotools\\\\setup.py'\"'\"'; __file__='\"'\"'C:\\\\Users\\\\julia\\\\AppData\\\\Local\\\\Temp\\\\pip-install-h36sf0th\\\\pycocotools\\\\setup.py'\"'\"';f=getattr(tokenize, '\"'\"'open'\"'\"', open)(__file__);code=f.read().replace('\"'\"'\\r\\n'\"'\"', '\"'\"'\\n'\"'\"');f.close();exec(compile(code, __file__, '\"'\"'exec'\"'\"'))' bdist_wheel -d 'C:\\Users\\julia\\AppData\\Local\\Temp\\pip-wheel-l14o2ety'\n",
      "       cwd: C:\\Users\\julia\\AppData\\Local\\Temp\\pip-install-h36sf0th\\pycocotools\\\n",
      "  Complete output (14 lines):\n",
      "  running bdist_wheel\n",
      "  running build\n",
      "  running build_py\n",
      "  creating build\n",
      "  creating build\\lib.win-amd64-3.7\n",
      "  creating build\\lib.win-amd64-3.7\\pycocotools\n",
      "  copying pycocotools\\coco.py -> build\\lib.win-amd64-3.7\\pycocotools\n",
      "  copying pycocotools\\cocoeval.py -> build\\lib.win-amd64-3.7\\pycocotools\n",
      "  copying pycocotools\\mask.py -> build\\lib.win-amd64-3.7\\pycocotools\n",
      "  copying pycocotools\\__init__.py -> build\\lib.win-amd64-3.7\\pycocotools\n",
      "  running build_ext\n",
      "  cythoning pycocotools/_mask.pyx to pycocotools\\_mask.c\n",
      "  building 'pycocotools._mask' extension\n",
      "  error: Microsoft Visual C++ 14.0 or greater is required. Get it with \"Microsoft C++ Build Tools\": https://visualstudio.microsoft.com/visual-cpp-build-tools/\n",
      "  ----------------------------------------\n",
      "  ERROR: Failed building wheel for pycocotools\n",
      "    ERROR: Command errored out with exit status 1:\n",
      "     command: 'C:\\Users\\julia\\Anaconda22\\envs\\SA\\python.exe' -u -c 'import sys, setuptools, tokenize; sys.argv[0] = '\"'\"'C:\\\\Users\\\\julia\\\\AppData\\\\Local\\\\Temp\\\\pip-install-h36sf0th\\\\pycocotools\\\\setup.py'\"'\"'; __file__='\"'\"'C:\\\\Users\\\\julia\\\\AppData\\\\Local\\\\Temp\\\\pip-install-h36sf0th\\\\pycocotools\\\\setup.py'\"'\"';f=getattr(tokenize, '\"'\"'open'\"'\"', open)(__file__);code=f.read().replace('\"'\"'\\r\\n'\"'\"', '\"'\"'\\n'\"'\"');f.close();exec(compile(code, __file__, '\"'\"'exec'\"'\"'))' install --record 'C:\\Users\\julia\\AppData\\Local\\Temp\\pip-record-inhb8gqj\\install-record.txt' --single-version-externally-managed --compile --install-headers 'C:\\Users\\julia\\Anaconda22\\envs\\SA\\Include\\pycocotools'\n",
      "         cwd: C:\\Users\\julia\\AppData\\Local\\Temp\\pip-install-h36sf0th\\pycocotools\\\n",
      "    Complete output (14 lines):\n",
      "    running install\n",
      "    running build\n",
      "    running build_py\n",
      "    creating build\n",
      "    creating build\\lib.win-amd64-3.7\n",
      "    creating build\\lib.win-amd64-3.7\\pycocotools\n",
      "    copying pycocotools\\coco.py -> build\\lib.win-amd64-3.7\\pycocotools\n",
      "    copying pycocotools\\cocoeval.py -> build\\lib.win-amd64-3.7\\pycocotools\n",
      "    copying pycocotools\\mask.py -> build\\lib.win-amd64-3.7\\pycocotools\n",
      "    copying pycocotools\\__init__.py -> build\\lib.win-amd64-3.7\\pycocotools\n",
      "    running build_ext\n",
      "    skipping 'pycocotools\\_mask.c' Cython extension (up-to-date)\n",
      "    building 'pycocotools._mask' extension\n",
      "    error: Microsoft Visual C++ 14.0 or greater is required. Get it with \"Microsoft C++ Build Tools\": https://visualstudio.microsoft.com/visual-cpp-build-tools/\n",
      "    ----------------------------------------\n",
      "ERROR: Command errored out with exit status 1: 'C:\\Users\\julia\\Anaconda22\\envs\\SA\\python.exe' -u -c 'import sys, setuptools, tokenize; sys.argv[0] = '\"'\"'C:\\\\Users\\\\julia\\\\AppData\\\\Local\\\\Temp\\\\pip-install-h36sf0th\\\\pycocotools\\\\setup.py'\"'\"'; __file__='\"'\"'C:\\\\Users\\\\julia\\\\AppData\\\\Local\\\\Temp\\\\pip-install-h36sf0th\\\\pycocotools\\\\setup.py'\"'\"';f=getattr(tokenize, '\"'\"'open'\"'\"', open)(__file__);code=f.read().replace('\"'\"'\\r\\n'\"'\"', '\"'\"'\\n'\"'\"');f.close();exec(compile(code, __file__, '\"'\"'exec'\"'\"'))' install --record 'C:\\Users\\julia\\AppData\\Local\\Temp\\pip-record-inhb8gqj\\install-record.txt' --single-version-externally-managed --compile --install-headers 'C:\\Users\\julia\\Anaconda22\\envs\\SA\\Include\\pycocotools' Check the logs for full command output.\n",
      "\n",
      "  Downloading tf_models_nightly-2.4.0.dev20210311-py2.py3-none-any.whl (1.5 MB)\n",
      "Requirement already satisfied: numpy>=1.15.4 in c:\\users\\julia\\anaconda22\\envs\\sa\\lib\\site-packages (from tf-models-nightly) (1.19.3)\n",
      "Requirement already satisfied: py-cpuinfo>=3.3.0 in c:\\users\\julia\\anaconda22\\envs\\sa\\lib\\site-packages (from tf-models-nightly) (7.0.0)\n",
      "Requirement already satisfied: Cython in c:\\users\\julia\\anaconda22\\envs\\sa\\lib\\site-packages (from tf-models-nightly) (0.29.14)\n",
      "Requirement already satisfied: kaggle>=1.3.9 in c:\\users\\julia\\anaconda22\\envs\\sa\\lib\\site-packages (from tf-models-nightly) (1.5.10)\n",
      "Requirement already satisfied: matplotlib in c:\\users\\julia\\anaconda22\\envs\\sa\\lib\\site-packages (from tf-models-nightly) (3.3.3)\n",
      "Requirement already satisfied: sentencepiece in c:\\users\\julia\\anaconda22\\envs\\sa\\lib\\site-packages (from tf-models-nightly) (0.1.95)\n",
      "Requirement already satisfied: tensorflow-model-optimization>=0.4.1 in c:\\users\\julia\\anaconda22\\envs\\sa\\lib\\site-packages (from tf-models-nightly) (0.5.0)\n",
      "Requirement already satisfied: oauth2client in c:\\users\\julia\\anaconda22\\envs\\sa\\lib\\site-packages (from tf-models-nightly) (4.1.3)\n",
      "Requirement already satisfied: tensorflow-hub>=0.6.0 in c:\\users\\julia\\anaconda22\\envs\\sa\\lib\\site-packages (from tf-models-nightly) (0.11.0)\n",
      "Requirement already satisfied: pandas>=0.22.0 in c:\\users\\julia\\anaconda22\\envs\\sa\\lib\\site-packages (from tf-models-nightly) (1.1.5)\n",
      "Requirement already satisfied: tf-slim>=1.1.0 in c:\\users\\julia\\anaconda22\\envs\\sa\\lib\\site-packages (from tf-models-nightly) (1.1.0)\n",
      "Requirement already satisfied: tf-nightly in c:\\users\\julia\\anaconda22\\envs\\sa\\lib\\site-packages (from tf-models-nightly) (2.5.0.dev20210310)\n",
      "Collecting pycocotools\n",
      "  Using cached pycocotools-2.0.2.tar.gz (23 kB)\n",
      "Requirement already satisfied: opencv-python-headless in c:\\users\\julia\\anaconda22\\envs\\sa\\lib\\site-packages (from tf-models-nightly) (4.5.1.48)\n",
      "Requirement already satisfied: tensorflow-addons in c:\\users\\julia\\anaconda22\\envs\\sa\\lib\\site-packages (from tf-models-nightly) (0.12.1)\n",
      "Collecting sacrebleu\n",
      "  Downloading sacrebleu-1.5.1-py3-none-any.whl (54 kB)\n",
      "Requirement already satisfied: Pillow in c:\\users\\julia\\anaconda22\\envs\\sa\\lib\\site-packages (from tf-models-nightly) (8.0.1)\n",
      "Requirement already satisfied: google-api-python-client>=1.6.7 in c:\\users\\julia\\anaconda22\\envs\\sa\\lib\\site-packages (from tf-models-nightly) (2.0.2)\n",
      "Requirement already satisfied: scipy>=0.19.1 in c:\\users\\julia\\anaconda22\\envs\\sa\\lib\\site-packages (from tf-models-nightly) (1.5.4)\n",
      "Processing c:\\users\\julia\\appdata\\local\\pip\\cache\\wheels\\05\\96\\ee\\7cac4e74f3b19e3158dce26a20a1c86b3533c43ec72a549fd7\\seqeval-1.2.2-py3-none-any.whl\n",
      "Requirement already satisfied: google-cloud-bigquery>=0.31.0 in c:\\users\\julia\\anaconda22\\envs\\sa\\lib\\site-packages (from tf-models-nightly) (2.10.0)\n",
      "Requirement already satisfied: pyyaml>=5.1 in c:\\users\\julia\\anaconda22\\envs\\sa\\lib\\site-packages (from tf-models-nightly) (5.3.1)\n",
      "Requirement already satisfied: six in c:\\users\\julia\\anaconda22\\envs\\sa\\lib\\site-packages (from tf-models-nightly) (1.15.0)\n",
      "Requirement already satisfied: tensorflow-text-nightly in c:\\users\\julia\\anaconda22\\envs\\sa\\lib\\site-packages (from tf-models-nightly) (2.5.0.dev20210305)\n",
      "Requirement already satisfied: psutil>=5.4.3 in c:\\users\\julia\\anaconda22\\envs\\sa\\lib\\site-packages (from tf-models-nightly) (5.8.0)\n",
      "Requirement already satisfied: tensorflow-datasets in c:\\users\\julia\\anaconda22\\envs\\sa\\lib\\site-packages (from tf-models-nightly) (4.2.0)\n",
      "Requirement already satisfied: gin-config in c:\\users\\julia\\anaconda22\\envs\\sa\\lib\\site-packages (from tf-models-nightly) (0.4.0)\n",
      "Requirement already satisfied: requests in c:\\users\\julia\\anaconda22\\envs\\sa\\lib\\site-packages (from kaggle>=1.3.9->tf-models-nightly) (2.25.1)\n",
      "Requirement already satisfied: urllib3 in c:\\users\\julia\\anaconda22\\envs\\sa\\lib\\site-packages (from kaggle>=1.3.9->tf-models-nightly) (1.26.2)\n",
      "Requirement already satisfied: python-dateutil in c:\\users\\julia\\anaconda22\\envs\\sa\\lib\\site-packages (from kaggle>=1.3.9->tf-models-nightly) (2.8.1)\n",
      "Requirement already satisfied: python-slugify in c:\\users\\julia\\anaconda22\\envs\\sa\\lib\\site-packages (from kaggle>=1.3.9->tf-models-nightly) (4.0.1)\n",
      "Requirement already satisfied: certifi in c:\\users\\julia\\anaconda22\\envs\\sa\\lib\\site-packages (from kaggle>=1.3.9->tf-models-nightly) (2020.12.5)\n",
      "Requirement already satisfied: tqdm in c:\\users\\julia\\anaconda22\\envs\\sa\\lib\\site-packages (from kaggle>=1.3.9->tf-models-nightly) (4.51.0)\n",
      "Requirement already satisfied: kiwisolver>=1.0.1 in c:\\users\\julia\\anaconda22\\envs\\sa\\lib\\site-packages (from matplotlib->tf-models-nightly) (1.3.1)\n",
      "Requirement already satisfied: pyparsing!=2.0.4,!=2.1.2,!=2.1.6,>=2.0.3 in c:\\users\\julia\\anaconda22\\envs\\sa\\lib\\site-packages (from matplotlib->tf-models-nightly) (2.4.7)\n",
      "Requirement already satisfied: cycler>=0.10 in c:\\users\\julia\\anaconda22\\envs\\sa\\lib\\site-packages (from matplotlib->tf-models-nightly) (0.10.0)\n",
      "Requirement already satisfied: dm-tree~=0.1.1 in c:\\users\\julia\\anaconda22\\envs\\sa\\lib\\site-packages (from tensorflow-model-optimization>=0.4.1->tf-models-nightly) (0.1.5)\n",
      "Requirement already satisfied: httplib2>=0.9.1 in c:\\users\\julia\\anaconda22\\envs\\sa\\lib\\site-packages (from oauth2client->tf-models-nightly) (0.19.0)\n",
      "Requirement already satisfied: pyasn1>=0.1.7 in c:\\users\\julia\\anaconda22\\envs\\sa\\lib\\site-packages (from oauth2client->tf-models-nightly) (0.4.8)\n",
      "Requirement already satisfied: rsa>=3.1.4 in c:\\users\\julia\\anaconda22\\envs\\sa\\lib\\site-packages (from oauth2client->tf-models-nightly) (4.6)\n",
      "Requirement already satisfied: pyasn1-modules>=0.0.5 in c:\\users\\julia\\anaconda22\\envs\\sa\\lib\\site-packages (from oauth2client->tf-models-nightly) (0.2.8)\n",
      "Requirement already satisfied: protobuf>=3.8.0 in c:\\users\\julia\\anaconda22\\envs\\sa\\lib\\site-packages (from tensorflow-hub>=0.6.0->tf-models-nightly) (3.14.0)\n",
      "Requirement already satisfied: pytz>=2017.2 in c:\\users\\julia\\anaconda22\\envs\\sa\\lib\\site-packages (from pandas>=0.22.0->tf-models-nightly) (2020.4)\n",
      "Requirement already satisfied: absl-py>=0.2.2 in c:\\users\\julia\\anaconda22\\envs\\sa\\lib\\site-packages (from tf-slim>=1.1.0->tf-models-nightly) (0.11.0)\n",
      "Requirement already satisfied: astunparse~=1.6.3 in c:\\users\\julia\\anaconda22\\envs\\sa\\lib\\site-packages (from tf-nightly->tf-models-nightly) (1.6.3)\n",
      "Requirement already satisfied: wrapt~=1.12.1 in c:\\users\\julia\\anaconda22\\envs\\sa\\lib\\site-packages (from tf-nightly->tf-models-nightly) (1.12.1)\n",
      "Requirement already satisfied: wheel~=0.35 in c:\\users\\julia\\anaconda22\\envs\\sa\\lib\\site-packages (from tf-nightly->tf-models-nightly) (0.35.1)\n",
      "Requirement already satisfied: tf-estimator-nightly~=2.5.0.dev in c:\\users\\julia\\anaconda22\\envs\\sa\\lib\\site-packages (from tf-nightly->tf-models-nightly) (2.5.0.dev2021031101)\n",
      "Requirement already satisfied: google-pasta~=0.2 in c:\\users\\julia\\anaconda22\\envs\\sa\\lib\\site-packages (from tf-nightly->tf-models-nightly) (0.2.0)\n",
      "Requirement already satisfied: grpcio~=1.34.0 in c:\\users\\julia\\anaconda22\\envs\\sa\\lib\\site-packages (from tf-nightly->tf-models-nightly) (1.34.1)\n",
      "Requirement already satisfied: h5py~=3.1.0 in c:\\users\\julia\\anaconda22\\envs\\sa\\lib\\site-packages (from tf-nightly->tf-models-nightly) (3.1.0)\n",
      "Requirement already satisfied: typing-extensions~=3.7.4 in c:\\users\\julia\\anaconda22\\envs\\sa\\lib\\site-packages (from tf-nightly->tf-models-nightly) (3.7.4.3)\n",
      "Requirement already satisfied: keras-preprocessing~=1.1.2 in c:\\users\\julia\\anaconda22\\envs\\sa\\lib\\site-packages (from tf-nightly->tf-models-nightly) (1.1.2)\n",
      "Requirement already satisfied: tb-nightly~=2.5.0.a in c:\\users\\julia\\anaconda22\\envs\\sa\\lib\\site-packages (from tf-nightly->tf-models-nightly) (2.5.0a20210311)\n",
      "Requirement already satisfied: opt-einsum~=3.3.0 in c:\\users\\julia\\anaconda22\\envs\\sa\\lib\\site-packages (from tf-nightly->tf-models-nightly) (3.3.0)\n",
      "Requirement already satisfied: flatbuffers~=1.12.0 in c:\\users\\julia\\anaconda22\\envs\\sa\\lib\\site-packages (from tf-nightly->tf-models-nightly) (1.12)\n",
      "Requirement already satisfied: gast==0.4.0 in c:\\users\\julia\\anaconda22\\envs\\sa\\lib\\site-packages (from tf-nightly->tf-models-nightly) (0.4.0)\n",
      "Requirement already satisfied: termcolor~=1.1.0 in c:\\users\\julia\\anaconda22\\envs\\sa\\lib\\site-packages (from tf-nightly->tf-models-nightly) (1.1.0)\n",
      "Requirement already satisfied: setuptools>=18.0 in c:\\users\\julia\\anaconda22\\envs\\sa\\lib\\site-packages (from pycocotools->tf-models-nightly) (50.3.0.post20201006)\n",
      "Requirement already satisfied: typeguard>=2.7 in c:\\users\\julia\\anaconda22\\envs\\sa\\lib\\site-packages (from tensorflow-addons->tf-models-nightly) (2.11.1)\n",
      "Collecting portalocker==2.0.0\n",
      "  Downloading portalocker-2.0.0-py2.py3-none-any.whl (11 kB)\n",
      "Requirement already satisfied: google-auth<2dev,>=1.16.0 in c:\\users\\julia\\anaconda22\\envs\\sa\\lib\\site-packages (from google-api-python-client>=1.6.7->tf-models-nightly) (1.24.0)\n",
      "Requirement already satisfied: google-api-core<2dev,>=1.21.0 in c:\\users\\julia\\anaconda22\\envs\\sa\\lib\\site-packages (from google-api-python-client>=1.6.7->tf-models-nightly) (1.26.1)\n",
      "Requirement already satisfied: google-auth-httplib2>=0.0.3 in c:\\users\\julia\\anaconda22\\envs\\sa\\lib\\site-packages (from google-api-python-client>=1.6.7->tf-models-nightly) (0.1.0)\n",
      "Requirement already satisfied: uritemplate<4dev,>=3.0.0 in c:\\users\\julia\\anaconda22\\envs\\sa\\lib\\site-packages (from google-api-python-client>=1.6.7->tf-models-nightly) (3.0.1)\n",
      "Requirement already satisfied: scikit-learn>=0.21.3 in c:\\users\\julia\\anaconda22\\envs\\sa\\lib\\site-packages (from seqeval->tf-models-nightly) (0.24.1)\n",
      "Requirement already satisfied: google-resumable-media<2.0dev,>=0.6.0 in c:\\users\\julia\\anaconda22\\envs\\sa\\lib\\site-packages (from google-cloud-bigquery>=0.31.0->tf-models-nightly) (1.2.0)\n",
      "Requirement already satisfied: packaging>=14.3 in c:\\users\\julia\\anaconda22\\envs\\sa\\lib\\site-packages (from google-cloud-bigquery>=0.31.0->tf-models-nightly) (20.4)\n",
      "Requirement already satisfied: google-cloud-core<2.0dev,>=1.4.1 in c:\\users\\julia\\anaconda22\\envs\\sa\\lib\\site-packages (from google-cloud-bigquery>=0.31.0->tf-models-nightly) (1.6.0)\n",
      "Requirement already satisfied: proto-plus>=1.10.0 in c:\\users\\julia\\anaconda22\\envs\\sa\\lib\\site-packages (from google-cloud-bigquery>=0.31.0->tf-models-nightly) (1.14.2)\n",
      "Requirement already satisfied: future in c:\\users\\julia\\anaconda22\\envs\\sa\\lib\\site-packages (from tensorflow-datasets->tf-models-nightly) (0.18.2)\n",
      "Requirement already satisfied: importlib-resources; python_version < \"3.9\" in c:\\users\\julia\\anaconda22\\envs\\sa\\lib\\site-packages (from tensorflow-datasets->tf-models-nightly) (5.1.2)\n",
      "Requirement already satisfied: tensorflow-metadata in c:\\users\\julia\\anaconda22\\envs\\sa\\lib\\site-packages (from tensorflow-datasets->tf-models-nightly) (0.28.0)\n",
      "Requirement already satisfied: attrs>=18.1.0 in c:\\users\\julia\\anaconda22\\envs\\sa\\lib\\site-packages (from tensorflow-datasets->tf-models-nightly) (20.2.0)\n",
      "Requirement already satisfied: promise in c:\\users\\julia\\anaconda22\\envs\\sa\\lib\\site-packages (from tensorflow-datasets->tf-models-nightly) (2.3)\n",
      "Requirement already satisfied: dill in c:\\users\\julia\\anaconda22\\envs\\sa\\lib\\site-packages (from tensorflow-datasets->tf-models-nightly) (0.3.3)\n",
      "Requirement already satisfied: idna<3,>=2.5 in c:\\users\\julia\\anaconda22\\envs\\sa\\lib\\site-packages (from requests->kaggle>=1.3.9->tf-models-nightly) (2.10)\n",
      "Requirement already satisfied: chardet<5,>=3.0.2 in c:\\users\\julia\\anaconda22\\envs\\sa\\lib\\site-packages (from requests->kaggle>=1.3.9->tf-models-nightly) (3.0.4)\n",
      "Requirement already satisfied: text-unidecode>=1.3 in c:\\users\\julia\\anaconda22\\envs\\sa\\lib\\site-packages (from python-slugify->kaggle>=1.3.9->tf-models-nightly) (1.3)\n",
      "Requirement already satisfied: cached-property; python_version < \"3.8\" in c:\\users\\julia\\anaconda22\\envs\\sa\\lib\\site-packages (from h5py~=3.1.0->tf-nightly->tf-models-nightly) (1.5.2)\n",
      "Requirement already satisfied: tensorboard-plugin-wit>=1.6.0 in c:\\users\\julia\\anaconda22\\envs\\sa\\lib\\site-packages (from tb-nightly~=2.5.0.a->tf-nightly->tf-models-nightly) (1.7.0)\n",
      "Requirement already satisfied: werkzeug>=0.11.15 in c:\\users\\julia\\anaconda22\\envs\\sa\\lib\\site-packages (from tb-nightly~=2.5.0.a->tf-nightly->tf-models-nightly) (1.0.1)\n",
      "Requirement already satisfied: markdown>=2.6.8 in c:\\users\\julia\\anaconda22\\envs\\sa\\lib\\site-packages (from tb-nightly~=2.5.0.a->tf-nightly->tf-models-nightly) (3.3.3)\n",
      "Requirement already satisfied: google-auth-oauthlib<0.5,>=0.4.1 in c:\\users\\julia\\anaconda22\\envs\\sa\\lib\\site-packages (from tb-nightly~=2.5.0.a->tf-nightly->tf-models-nightly) (0.4.2)\n",
      "Requirement already satisfied: tensorboard-data-server<0.4.0,>=0.3.0 in c:\\users\\julia\\anaconda22\\envs\\sa\\lib\\site-packages (from tb-nightly~=2.5.0.a->tf-nightly->tf-models-nightly) (0.3.0)\n",
      "Requirement already satisfied: pywin32!=226; platform_system == \"Windows\" in c:\\users\\julia\\anaconda22\\envs\\sa\\lib\\site-packages (from portalocker==2.0.0->sacrebleu->tf-models-nightly) (227)\n",
      "Requirement already satisfied: cachetools<5.0,>=2.0.0 in c:\\users\\julia\\anaconda22\\envs\\sa\\lib\\site-packages (from google-auth<2dev,>=1.16.0->google-api-python-client>=1.6.7->tf-models-nightly) (4.2.0)\n",
      "Requirement already satisfied: googleapis-common-protos<2.0dev,>=1.6.0 in c:\\users\\julia\\anaconda22\\envs\\sa\\lib\\site-packages (from google-api-core<2dev,>=1.21.0->google-api-python-client>=1.6.7->tf-models-nightly) (1.53.0)\n",
      "Requirement already satisfied: joblib>=0.11 in c:\\users\\julia\\anaconda22\\envs\\sa\\lib\\site-packages (from scikit-learn>=0.21.3->seqeval->tf-models-nightly) (0.17.0)\n",
      "Requirement already satisfied: threadpoolctl>=2.0.0 in c:\\users\\julia\\anaconda22\\envs\\sa\\lib\\site-packages (from scikit-learn>=0.21.3->seqeval->tf-models-nightly) (2.1.0)\n",
      "Requirement already satisfied: google-crc32c<2.0dev,>=1.0; python_version >= \"3.5\" in c:\\users\\julia\\anaconda22\\envs\\sa\\lib\\site-packages (from google-resumable-media<2.0dev,>=0.6.0->google-cloud-bigquery>=0.31.0->tf-models-nightly) (1.1.2)\n",
      "Requirement already satisfied: zipp>=0.4; python_version < \"3.8\" in c:\\users\\julia\\anaconda22\\envs\\sa\\lib\\site-packages (from importlib-resources; python_version < \"3.9\"->tensorflow-datasets->tf-models-nightly) (3.4.0)\n",
      "Requirement already satisfied: importlib-metadata; python_version < \"3.8\" in c:\\users\\julia\\anaconda22\\envs\\sa\\lib\\site-packages (from markdown>=2.6.8->tb-nightly~=2.5.0.a->tf-nightly->tf-models-nightly) (2.0.0)\n",
      "Requirement already satisfied: requests-oauthlib>=0.7.0 in c:\\users\\julia\\anaconda22\\envs\\sa\\lib\\site-packages (from google-auth-oauthlib<0.5,>=0.4.1->tb-nightly~=2.5.0.a->tf-nightly->tf-models-nightly) (1.3.0)\n",
      "Requirement already satisfied: cffi>=1.0.0 in c:\\users\\julia\\anaconda22\\envs\\sa\\lib\\site-packages (from google-crc32c<2.0dev,>=1.0; python_version >= \"3.5\"->google-resumable-media<2.0dev,>=0.6.0->google-cloud-bigquery>=0.31.0->tf-models-nightly) (1.14.3)\n",
      "Requirement already satisfied: oauthlib>=3.0.0 in c:\\users\\julia\\anaconda22\\envs\\sa\\lib\\site-packages (from requests-oauthlib>=0.7.0->google-auth-oauthlib<0.5,>=0.4.1->tb-nightly~=2.5.0.a->tf-nightly->tf-models-nightly) (3.1.0)\n",
      "Requirement already satisfied: pycparser in c:\\users\\julia\\anaconda22\\envs\\sa\\lib\\site-packages (from cffi>=1.0.0->google-crc32c<2.0dev,>=1.0; python_version >= \"3.5\"->google-resumable-media<2.0dev,>=0.6.0->google-cloud-bigquery>=0.31.0->tf-models-nightly) (2.20)\n",
      "Building wheels for collected packages: pycocotools\n",
      "  Building wheel for pycocotools (setup.py): started\n",
      "  Building wheel for pycocotools (setup.py): finished with status 'error'\n",
      "  Running setup.py clean for pycocotools\n",
      "Failed to build pycocotools\n",
      "Installing collected packages: pycocotools, portalocker, sacrebleu, seqeval, tf-models-nightly\n",
      "    Running setup.py install for pycocotools: started\n",
      "    Running setup.py install for pycocotools: finished with status 'error'\n"
     ]
    }
   ],
   "source": [
    "!pip install tf-nightly\n",
    "!pip install tensorflow-text-nightly\n",
    "!pip install tf-models-nightly"
   ]
  },
  {
   "cell_type": "code",
   "execution_count": 20,
   "metadata": {},
   "outputs": [],
   "source": [
    "import os\n",
    "import shutil\n",
    "\n",
    "import pandas as pd\n",
    "import numpy as np\n",
    "import math\n",
    "\n",
    "\n",
    "from sklearn.model_selection import train_test_split\n",
    "\n",
    "\n",
    "import tensorflow as tf\n",
    "import tensorflow_hub as hub\n",
    "import tensorflow_text as text\n",
    "from official.nlp import optimization  # to create AdamW optmizer\n",
    "\n",
    "from tensorflow.keras.losses import CategoricalCrossentropy\n",
    "from tensorflow.keras.metrics import CategoricalAccuracy\n",
    "\n",
    "\n",
    "import matplotlib.pyplot as plt\n",
    "\n",
    "tf.get_logger().setLevel('ERROR')"
   ]
  },
  {
   "cell_type": "code",
   "execution_count": 21,
   "metadata": {},
   "outputs": [],
   "source": [
    "data_dir = 'data/ML_data_3.0.xlsx'\n",
    "df = pd.read_excel(data_dir,engine='openpyxl') #change to ML_data source\n",
    "df = df.sample(frac=1).reset_index(drop=True)"
   ]
  },
  {
   "cell_type": "code",
   "execution_count": 22,
   "metadata": {},
   "outputs": [],
   "source": [
    "X_train, X_test, y_train, y_test = train_test_split(df['text'], df['label'], test_size=0.3, stratify=df['label'])"
   ]
  },
  {
   "cell_type": "code",
   "execution_count": 23,
   "metadata": {},
   "outputs": [],
   "source": [
    "y_train = tf.keras.utils.to_categorical(y_train, num_classes=5, dtype='float32')\n",
    "y_test = tf.keras.utils.to_categorical(y_test, num_classes=5, dtype='float32')"
   ]
  },
  {
   "cell_type": "code",
   "execution_count": 24,
   "metadata": {},
   "outputs": [
    {
     "output_type": "execute_result",
     "data": {
      "text/plain": [
       "{0: 1.0,\n",
       " 1: 2.7810753361171,\n",
       " 2: 2.7151173683253025,\n",
       " 3: 2.504821959488942,\n",
       " 4: 2.443521433625146}"
      ]
     },
     "metadata": {},
     "execution_count": 24
    }
   ],
   "source": [
    "def create_class_weight(labels_dict,mu=1): #mu: parameter for finetuning \n",
    "\n",
    "    total = np.sum(list(labels_dict.values()))\n",
    "    keys = labels_dict.keys()\n",
    "    class_weight = dict()\n",
    "    \n",
    "    for key in keys:\n",
    "        score = math.log(mu*total/float(labels_dict[key]))\n",
    "        class_weight[key] = score if score > 1.0 else 1.0\n",
    "    \n",
    "    return class_weight\n",
    "\n",
    "# labels_dict\n",
    "labels_dict = {0: len(df[df['label']==0]), 1: len(df[df['label']==1]), 2: len(df[df['label']==2]), 3: len(df[df['label']==3]), 4: len(df[df['label']==4])}\n",
    "\n",
    "create_class_weight(labels_dict)"
   ]
  },
  {
   "cell_type": "code",
   "execution_count": 25,
   "metadata": {},
   "outputs": [
    {
     "output_type": "stream",
     "name": "stdout",
     "text": [
      "BERT model selected           : https://tfhub.dev/tensorflow/bert_en_uncased_L-12_H-768_A-12/3\nPreprocess model auto-selected: https://tfhub.dev/tensorflow/bert_en_uncased_preprocess/3\n"
     ]
    }
   ],
   "source": [
    "bert_model_name = 'bert_en_uncased_L-12_H-768_A-12' #medium sized bert\n",
    "\n",
    "map_name_to_handle = {\n",
    "    'bert_en_uncased_L-12_H-768_A-12':\n",
    "        'https://tfhub.dev/tensorflow/bert_en_uncased_L-12_H-768_A-12/3',\n",
    "    'bert_en_cased_L-12_H-768_A-12':\n",
    "        'https://tfhub.dev/tensorflow/bert_en_cased_L-12_H-768_A-12/3',\n",
    "    'bert_multi_cased_L-12_H-768_A-12':\n",
    "        'https://tfhub.dev/tensorflow/bert_multi_cased_L-12_H-768_A-12/3',\n",
    "    'small_bert/bert_en_uncased_L-2_H-128_A-2':\n",
    "        'https://tfhub.dev/tensorflow/small_bert/bert_en_uncased_L-2_H-128_A-2/1',\n",
    "    'small_bert/bert_en_uncased_L-2_H-256_A-4':\n",
    "        'https://tfhub.dev/tensorflow/small_bert/bert_en_uncased_L-2_H-256_A-4/1',\n",
    "    'small_bert/bert_en_uncased_L-2_H-512_A-8':\n",
    "        'https://tfhub.dev/tensorflow/small_bert/bert_en_uncased_L-2_H-512_A-8/1',\n",
    "    'small_bert/bert_en_uncased_L-2_H-768_A-12':\n",
    "        'https://tfhub.dev/tensorflow/small_bert/bert_en_uncased_L-2_H-768_A-12/1',\n",
    "    'small_bert/bert_en_uncased_L-4_H-128_A-2':\n",
    "        'https://tfhub.dev/tensorflow/small_bert/bert_en_uncased_L-4_H-128_A-2/1',\n",
    "    'small_bert/bert_en_uncased_L-4_H-256_A-4':\n",
    "        'https://tfhub.dev/tensorflow/small_bert/bert_en_uncased_L-4_H-256_A-4/1',\n",
    "    'small_bert/bert_en_uncased_L-4_H-512_A-8':\n",
    "        'https://tfhub.dev/tensorflow/small_bert/bert_en_uncased_L-4_H-512_A-8/1',\n",
    "    'small_bert/bert_en_uncased_L-4_H-768_A-12':\n",
    "        'https://tfhub.dev/tensorflow/small_bert/bert_en_uncased_L-4_H-768_A-12/1',\n",
    "    'small_bert/bert_en_uncased_L-6_H-128_A-2':\n",
    "        'https://tfhub.dev/tensorflow/small_bert/bert_en_uncased_L-6_H-128_A-2/1',\n",
    "    'small_bert/bert_en_uncased_L-6_H-256_A-4':\n",
    "        'https://tfhub.dev/tensorflow/small_bert/bert_en_uncased_L-6_H-256_A-4/1',\n",
    "    'small_bert/bert_en_uncased_L-6_H-512_A-8':\n",
    "        'https://tfhub.dev/tensorflow/small_bert/bert_en_uncased_L-6_H-512_A-8/1',\n",
    "    'small_bert/bert_en_uncased_L-6_H-768_A-12':\n",
    "        'https://tfhub.dev/tensorflow/small_bert/bert_en_uncased_L-6_H-768_A-12/1',\n",
    "    'small_bert/bert_en_uncased_L-8_H-128_A-2':\n",
    "        'https://tfhub.dev/tensorflow/small_bert/bert_en_uncased_L-8_H-128_A-2/1',\n",
    "    'small_bert/bert_en_uncased_L-8_H-256_A-4':\n",
    "        'https://tfhub.dev/tensorflow/small_bert/bert_en_uncased_L-8_H-256_A-4/1',\n",
    "    'small_bert/bert_en_uncased_L-8_H-512_A-8':\n",
    "        'https://tfhub.dev/tensorflow/small_bert/bert_en_uncased_L-8_H-512_A-8/1',\n",
    "    'small_bert/bert_en_uncased_L-8_H-768_A-12':\n",
    "        'https://tfhub.dev/tensorflow/small_bert/bert_en_uncased_L-8_H-768_A-12/1',\n",
    "    'small_bert/bert_en_uncased_L-10_H-128_A-2':\n",
    "        'https://tfhub.dev/tensorflow/small_bert/bert_en_uncased_L-10_H-128_A-2/1',\n",
    "    'small_bert/bert_en_uncased_L-10_H-256_A-4':\n",
    "        'https://tfhub.dev/tensorflow/small_bert/bert_en_uncased_L-10_H-256_A-4/1',\n",
    "    'small_bert/bert_en_uncased_L-10_H-512_A-8':\n",
    "        'https://tfhub.dev/tensorflow/small_bert/bert_en_uncased_L-10_H-512_A-8/1',\n",
    "    'small_bert/bert_en_uncased_L-10_H-768_A-12':\n",
    "        'https://tfhub.dev/tensorflow/small_bert/bert_en_uncased_L-10_H-768_A-12/1',\n",
    "    'small_bert/bert_en_uncased_L-12_H-128_A-2':\n",
    "        'https://tfhub.dev/tensorflow/small_bert/bert_en_uncased_L-12_H-128_A-2/1',\n",
    "    'small_bert/bert_en_uncased_L-12_H-256_A-4':\n",
    "        'https://tfhub.dev/tensorflow/small_bert/bert_en_uncased_L-12_H-256_A-4/1',\n",
    "    'small_bert/bert_en_uncased_L-12_H-512_A-8':\n",
    "        'https://tfhub.dev/tensorflow/small_bert/bert_en_uncased_L-12_H-512_A-8/1',\n",
    "    'small_bert/bert_en_uncased_L-12_H-768_A-12':\n",
    "        'https://tfhub.dev/tensorflow/small_bert/bert_en_uncased_L-12_H-768_A-12/1',\n",
    "    'albert_en_base':\n",
    "        'https://tfhub.dev/tensorflow/albert_en_base/2',\n",
    "    'electra_small':\n",
    "        'https://tfhub.dev/google/electra_small/2',\n",
    "    'electra_base':\n",
    "        'https://tfhub.dev/google/electra_base/2',\n",
    "    'experts_pubmed':\n",
    "        'https://tfhub.dev/google/experts/bert/pubmed/2',\n",
    "    'experts_wiki_books':\n",
    "        'https://tfhub.dev/google/experts/bert/wiki_books/2',\n",
    "    'talking-heads_base':\n",
    "        'https://tfhub.dev/tensorflow/talkheads_ggelu_bert_en_base/1',\n",
    "}\n",
    "\n",
    "map_model_to_preprocess = {\n",
    "    'bert_en_uncased_L-12_H-768_A-12':\n",
    "        'https://tfhub.dev/tensorflow/bert_en_uncased_preprocess/3',\n",
    "    'bert_en_cased_L-12_H-768_A-12':\n",
    "        'https://tfhub.dev/tensorflow/bert_en_cased_preprocess/3',\n",
    "    'small_bert/bert_en_uncased_L-2_H-128_A-2':\n",
    "        'https://tfhub.dev/tensorflow/bert_en_uncased_preprocess/3',\n",
    "    'small_bert/bert_en_uncased_L-2_H-256_A-4':\n",
    "        'https://tfhub.dev/tensorflow/bert_en_uncased_preprocess/3',\n",
    "    'small_bert/bert_en_uncased_L-2_H-512_A-8':\n",
    "        'https://tfhub.dev/tensorflow/bert_en_uncased_preprocess/3',\n",
    "    'small_bert/bert_en_uncased_L-2_H-768_A-12':\n",
    "        'https://tfhub.dev/tensorflow/bert_en_uncased_preprocess/3',\n",
    "    'small_bert/bert_en_uncased_L-4_H-128_A-2':\n",
    "        'https://tfhub.dev/tensorflow/bert_en_uncased_preprocess/3',\n",
    "    'small_bert/bert_en_uncased_L-4_H-256_A-4':\n",
    "        'https://tfhub.dev/tensorflow/bert_en_uncased_preprocess/3',\n",
    "    'small_bert/bert_en_uncased_L-4_H-512_A-8':\n",
    "        'https://tfhub.dev/tensorflow/bert_en_uncased_preprocess/3',\n",
    "    'small_bert/bert_en_uncased_L-4_H-768_A-12':\n",
    "        'https://tfhub.dev/tensorflow/bert_en_uncased_preprocess/3',\n",
    "    'small_bert/bert_en_uncased_L-6_H-128_A-2':\n",
    "        'https://tfhub.dev/tensorflow/bert_en_uncased_preprocess/3',\n",
    "    'small_bert/bert_en_uncased_L-6_H-256_A-4':\n",
    "        'https://tfhub.dev/tensorflow/bert_en_uncased_preprocess/3',\n",
    "    'small_bert/bert_en_uncased_L-6_H-512_A-8':\n",
    "        'https://tfhub.dev/tensorflow/bert_en_uncased_preprocess/3',\n",
    "    'small_bert/bert_en_uncased_L-6_H-768_A-12':\n",
    "        'https://tfhub.dev/tensorflow/bert_en_uncased_preprocess/3',\n",
    "    'small_bert/bert_en_uncased_L-8_H-128_A-2':\n",
    "        'https://tfhub.dev/tensorflow/bert_en_uncased_preprocess/3',\n",
    "    'small_bert/bert_en_uncased_L-8_H-256_A-4':\n",
    "        'https://tfhub.dev/tensorflow/bert_en_uncased_preprocess/3',\n",
    "    'small_bert/bert_en_uncased_L-8_H-512_A-8':\n",
    "        'https://tfhub.dev/tensorflow/bert_en_uncased_preprocess/3',\n",
    "    'small_bert/bert_en_uncased_L-8_H-768_A-12':\n",
    "        'https://tfhub.dev/tensorflow/bert_en_uncased_preprocess/3',\n",
    "    'small_bert/bert_en_uncased_L-10_H-128_A-2':\n",
    "        'https://tfhub.dev/tensorflow/bert_en_uncased_preprocess/3',\n",
    "    'small_bert/bert_en_uncased_L-10_H-256_A-4':\n",
    "        'https://tfhub.dev/tensorflow/bert_en_uncased_preprocess/3',\n",
    "    'small_bert/bert_en_uncased_L-10_H-512_A-8':\n",
    "        'https://tfhub.dev/tensorflow/bert_en_uncased_preprocess/3',\n",
    "    'small_bert/bert_en_uncased_L-10_H-768_A-12':\n",
    "        'https://tfhub.dev/tensorflow/bert_en_uncased_preprocess/3',\n",
    "    'small_bert/bert_en_uncased_L-12_H-128_A-2':\n",
    "        'https://tfhub.dev/tensorflow/bert_en_uncased_preprocess/3',\n",
    "    'small_bert/bert_en_uncased_L-12_H-256_A-4':\n",
    "        'https://tfhub.dev/tensorflow/bert_en_uncased_preprocess/3',\n",
    "    'small_bert/bert_en_uncased_L-12_H-512_A-8':\n",
    "        'https://tfhub.dev/tensorflow/bert_en_uncased_preprocess/3',\n",
    "    'small_bert/bert_en_uncased_L-12_H-768_A-12':\n",
    "        'https://tfhub.dev/tensorflow/bert_en_uncased_preprocess/3',\n",
    "    'bert_multi_cased_L-12_H-768_A-12':\n",
    "        'https://tfhub.dev/tensorflow/bert_multi_cased_preprocess/3',\n",
    "    'albert_en_base':\n",
    "        'https://tfhub.dev/tensorflow/albert_en_preprocess/2',\n",
    "    'electra_small':\n",
    "        'https://tfhub.dev/tensorflow/bert_en_uncased_preprocess/3',\n",
    "    'electra_base':\n",
    "        'https://tfhub.dev/tensorflow/bert_en_uncased_preprocess/3',\n",
    "    'experts_pubmed':\n",
    "        'https://tfhub.dev/tensorflow/bert_en_uncased_preprocess/3',\n",
    "    'experts_wiki_books':\n",
    "        'https://tfhub.dev/tensorflow/bert_en_uncased_preprocess/3',\n",
    "    'talking-heads_base':\n",
    "        'https://tfhub.dev/tensorflow/bert_en_uncased_preprocess/3',\n",
    "}\n",
    "\n",
    "tfhub_handle_encoder = map_name_to_handle[bert_model_name]\n",
    "tfhub_handle_preprocess = map_model_to_preprocess[bert_model_name]\n",
    "\n",
    "print(f'BERT model selected           : {tfhub_handle_encoder}')\n",
    "print(f'Preprocess model auto-selected: {tfhub_handle_preprocess}')"
   ]
  },
  {
   "cell_type": "code",
   "execution_count": 26,
   "metadata": {},
   "outputs": [],
   "source": [
    "bert_preprocess_model = hub.KerasLayer(tfhub_handle_preprocess)"
   ]
  },
  {
   "cell_type": "code",
   "execution_count": 27,
   "metadata": {},
   "outputs": [],
   "source": [
    "bert_model = hub.KerasLayer(tfhub_handle_encoder)"
   ]
  },
  {
   "cell_type": "code",
   "execution_count": 28,
   "metadata": {},
   "outputs": [],
   "source": [
    "def build_classifier_model():\n",
    "    text_input = tf.keras.layers.Input(shape=(), dtype=tf.string, name='text')\n",
    "    preprocessing_layer = hub.KerasLayer(tfhub_handle_preprocess, name='preprocessing')\n",
    "    encoder_inputs = preprocessing_layer(text_input)\n",
    "    encoder = hub.KerasLayer(tfhub_handle_encoder, trainable=True, name='BERT_encoder')\n",
    "    outputs = encoder(encoder_inputs)\n",
    "    net = outputs['pooled_output']\n",
    "    net = tf.keras.layers.Dropout(0.1)(net)\n",
    "    net = tf.keras.layers.Dense(5, activation='softmax', name='classifier')(net)\n",
    "    return tf.keras.Model(text_input, net)"
   ]
  },
  {
   "cell_type": "code",
   "execution_count": 29,
   "metadata": {},
   "outputs": [],
   "source": [
    "classifier_model = build_classifier_model()\n"
   ]
  },
  {
   "cell_type": "code",
   "execution_count": 30,
   "metadata": {},
   "outputs": [],
   "source": [
    "loss = tf.keras.losses.CategoricalCrossentropy(from_logits=True)\n",
    "metrics = tf.metrics.CategoricalAccuracy()"
   ]
  },
  {
   "cell_type": "code",
   "execution_count": 31,
   "metadata": {},
   "outputs": [],
   "source": [
    "epochs = 5\n",
    "steps_per_epoch = (len(X_train)/8)\n",
    "num_train_steps = steps_per_epoch * epochs\n",
    "num_warmup_steps = int(0.1*num_train_steps)\n",
    "\n",
    "init_lr = 3e-5\n",
    "optimizer = optimization.create_optimizer(init_lr=init_lr,\n",
    "                                          num_train_steps=num_train_steps,\n",
    "                                          num_warmup_steps=num_warmup_steps,\n",
    "                                          optimizer_type='adamw')"
   ]
  },
  {
   "cell_type": "code",
   "execution_count": 32,
   "metadata": {},
   "outputs": [],
   "source": [
    "classifier_model.compile(optimizer=optimizer,\n",
    "                         loss=loss,\n",
    "                         metrics=metrics)"
   ]
  },
  {
   "cell_type": "code",
   "execution_count": 33,
   "metadata": {},
   "outputs": [
    {
     "output_type": "stream",
     "name": "stdout",
     "text": [
      "Model: \"model\"\n__________________________________________________________________________________________________\nLayer (type)                    Output Shape         Param #     Connected to                     \n==================================================================================================\ntext (InputLayer)               [(None,)]            0                                            \n__________________________________________________________________________________________________\npreprocessing (KerasLayer)      {'input_type_ids': ( 0           text[0][0]                       \n__________________________________________________________________________________________________\nBERT_encoder (KerasLayer)       {'pooled_output': (N 109482241   preprocessing[0][0]              \n                                                                 preprocessing[0][1]              \n                                                                 preprocessing[0][2]              \n__________________________________________________________________________________________________\ndropout (Dropout)               (None, 768)          0           BERT_encoder[0][13]              \n__________________________________________________________________________________________________\nclassifier (Dense)              (None, 5)            3845        dropout[0][0]                    \n==================================================================================================\nTotal params: 109,486,086\nTrainable params: 109,486,085\nNon-trainable params: 1\n__________________________________________________________________________________________________\n"
     ]
    }
   ],
   "source": [
    "classifier_model.summary()"
   ]
  },
  {
   "cell_type": "code",
   "execution_count": 34,
   "metadata": {},
   "outputs": [],
   "source": [
    "from tensorflow.compat.v1 import ConfigProto\n",
    "from tensorflow.compat.v1 import InteractiveSession\n",
    "\n",
    "config = ConfigProto()\n",
    "config.gpu_options.allow_growth = True\n",
    "session = InteractiveSession(config=config)"
   ]
  },
  {
   "cell_type": "code",
   "execution_count": 35,
   "metadata": {},
   "outputs": [
    {
     "output_type": "stream",
     "name": "stdout",
     "text": [
      "Training model with https://tfhub.dev/tensorflow/bert_en_uncased_L-12_H-768_A-12/3\n",
      "Epoch 1/5\n",
      " 57/596 [=>............................] - ETA: 2:31:11 - loss: 2.8843 - categorical_accuracy: 0.1501"
     ]
    }
   ],
   "source": [
    "print(f'Training model with {tfhub_handle_encoder}')\n",
    "history = classifier_model.fit(X_train, y_train,\n",
    "                               validation_split=0.2,\n",
    "                               batch_size=2,\n",
    "                               epochs=epochs,\n",
    "                               class_weight=create_class_weight(labels_dict)\n",
    "                               )"
   ]
  },
  {
   "cell_type": "code",
   "execution_count": null,
   "metadata": {},
   "outputs": [],
   "source": [
    "loss, accuracy = classifier_model.evaluate(X_test, y_test)"
   ]
  },
  {
   "cell_type": "code",
   "execution_count": null,
   "metadata": {},
   "outputs": [],
   "source": [
    "print ('MSE:',loss)\n",
    "print ('MAE:',accuracy)\n",
    "print ('r2:',r2_score(Y_test, Y_pred))\n",
    "conf_matrix = confusion_matrix(Y_test.argmax(axis=1), Y_pred.argmax(axis=1)) / len(Y_pred)\n",
    "cal_label_accuracy(conf_matrix, verbose = 1)"
   ]
  },
  {
   "cell_type": "code",
   "execution_count": null,
   "metadata": {},
   "outputs": [],
   "source": []
  },
  {
   "cell_type": "code",
   "execution_count": null,
   "metadata": {},
   "outputs": [],
   "source": [
    "\n",
    "\n",
    "\n",
    "\n",
    "\n",
    "\n",
    "\n"
   ]
  }
 ],
 "metadata": {
  "kernelspec": {
   "name": "python3",
   "display_name": "Python 3",
   "language": "python"
  },
  "language_info": {
   "codemirror_mode": {
    "name": "ipython",
    "version": 3
   },
   "file_extension": ".py",
   "mimetype": "text/x-python",
   "name": "python",
   "nbconvert_exporter": "python",
   "pygments_lexer": "ipython3",
   "version": "3.7.9-final"
  }
 },
 "nbformat": 4,
 "nbformat_minor": 4
}