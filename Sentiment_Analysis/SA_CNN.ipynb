{
 "cells": [
  {
   "cell_type": "code",
   "execution_count": 1,
   "metadata": {},
   "outputs": [],
   "source": [
    "import pandas as pd\n",
    "import numpy as np\n",
    "from os import getcwd, path\n",
    "\n",
    "from sklearn.feature_extraction.text import CountVectorizer\n",
    "from sklearn.model_selection import train_test_split\n",
    "from sklearn.linear_model import LogisticRegression\n",
    "from sklearn.metrics import accuracy_score, confusion_matrix\n",
    "from sklearn.preprocessing import LabelEncoder, OneHotEncoder\n",
    "from sklearn.model_selection import RandomizedSearchCV\n",
    "from sklearn.feature_extraction.text import TfidfVectorizer\n",
    "\n",
    "\n",
    "from keras.wrappers.scikit_learn import KerasClassifier\n",
    "from keras.models import Sequential\n",
    "from keras import layers\n",
    "from keras.preprocessing.text import Tokenizer\n",
    "from keras.preprocessing.sequence import pad_sequences\n",
    "from keras.callbacks import EarlyStopping\n",
    "from tensorflow.python.client import device_lib\n",
    "\n",
    "from nltk.tokenize import word_tokenize, sent_tokenize\n",
    "from nltk import pos_tag\n",
    "from nltk.corpus import stopwords\n",
    "from nltk.stem import WordNetLemmatizer\n",
    "from nltk.corpus import wordnet as wn\n",
    "\n",
    "import matplotlib.pyplot as plt\n",
    "\n",
    "from collections import defaultdict\n",
    "\n",
    "from re import compile\n",
    "\n",
    "plt.style.use('ggplot')"
   ]
  },
  {
   "cell_type": "code",
   "execution_count": 2,
   "metadata": {},
   "outputs": [
    {
     "name": "stdout",
     "output_type": "stream",
     "text": [
      "Num CPUs Available:  1\n",
      "[name: \"/device:CPU:0\"\n",
      "device_type: \"CPU\"\n",
      "memory_limit: 268435456\n",
      "locality {\n",
      "}\n",
      "incarnation: 8930852841433046194\n",
      "]\n"
     ]
    }
   ],
   "source": [
    "from tensorflow.config.experimental import list_physical_devices\n",
    "print(\"Num CPUs Available: \", len(list_physical_devices('CPU')))\n",
    "print(device_lib.list_local_devices())"
   ]
  },
  {
   "cell_type": "markdown",
   "metadata": {},
   "source": [
    "## Parameters"
   ]
  },
  {
   "cell_type": "code",
   "execution_count": 3,
   "metadata": {},
   "outputs": [],
   "source": [
    "sent_tokenizer = False # S\n",
    "use_pretrained_embeddings = True\n",
    "\n",
    "use_nltk_cleaning = False\n",
    "text_cleaning = True\n",
    "\n",
    "use_tfidf_tokenizer = True\n",
    "use_keras_tokenizer = False"
   ]
  },
  {
   "cell_type": "markdown",
   "metadata": {},
   "source": [
    "## Functions"
   ]
  },
  {
   "cell_type": "code",
   "execution_count": 4,
   "metadata": {},
   "outputs": [],
   "source": [
    "def plot_history(history):\n",
    "    \n",
    "    acc = history.history['accuracy']\n",
    "    val_acc = history.history['val_accuracy']\n",
    "    loss = history.history['loss']\n",
    "    val_loss = history.history['val_loss']\n",
    "    x = range(1, len(acc) + 1)\n",
    "\n",
    "    plt.figure(figsize=(12, 5))\n",
    "    plt.subplot(1, 2, 1)\n",
    "    plt.plot(x, acc, 'b', label='Training acc')\n",
    "    plt.plot(x, val_acc, 'r', label='Validation acc')\n",
    "    plt.title('Training and validation accuracy')\n",
    "    plt.legend()\n",
    "    plt.subplot(1, 2, 2)\n",
    "    plt.plot(x, loss, 'b', label='Training loss')\n",
    "    plt.plot(x, val_loss, 'r', label='Validation loss')\n",
    "    plt.title('Training and validation loss')\n",
    "    plt.legend()\n",
    "    \n",
    "def create_embedding_matrix(filepath, word_index, embedding_dim):\n",
    "    \n",
    "    vocab_size = len(word_index) + 1  # Adding again 1 because of reserved 0 index\n",
    "    embedding_matrix = np.zeros((vocab_size, embedding_dim))\n",
    "\n",
    "    with open(filepath, encoding=\"utf8\") as f:\n",
    "        for line in f:\n",
    "            word, *vector = line.split()\n",
    "            if word in word_index:\n",
    "                idx = word_index[word] \n",
    "                embedding_matrix[idx] = np.array(\n",
    "                    vector, dtype=np.float32)[:embedding_dim]\n",
    "\n",
    "    return embedding_matrix\n",
    "\n",
    "\n",
    "def cal_label_accuracy(conf_matrix, verbose = 0):\n",
    "    \n",
    "    label_acc = {}\n",
    "    \n",
    "    for index, x in enumerate(conf_matrix): \n",
    "        \n",
    "        label_acc[index] = np.round( conf_matrix[index][index]/ sum(conf_matrix[index]) *100 , 2)\n",
    "        \n",
    "        if verbose > 0:\n",
    "        \n",
    "            print(\"Accuracy for label\", index, \": \", label_acc[index] , \" %\" )\n",
    "    \n",
    "    return label_acc\n",
    "\n",
    "    \n",
    "def clean_text(text):\n",
    "        \"\"\"\n",
    "            text: a string\n",
    "\n",
    "            return: modified initial string\n",
    "        \"\"\"\n",
    "        text = text.lower() # lowercase text\n",
    "        text = REPLACE_BY_SPACE_RE.sub(' ', text) # replace REPLACE_BY_SPACE_RE symbols by space in text. substitute the matched string in REPLACE_BY_SPACE_RE with space.\n",
    "        text = BAD_SYMBOLS_RE.sub('', text) # remove symbols which are in BAD_SYMBOLS_RE from text. substitute the matched string in BAD_SYMBOLS_RE with nothing. \n",
    "        text = text.replace('x', '')\n",
    "        text = ' '.join(word for word in text.split() if word not in STOPWORDS) # remove stopwors from text\n",
    "        return text\n"
   ]
  },
  {
   "cell_type": "markdown",
   "metadata": {},
   "source": [
    "## Data Ingest"
   ]
  },
  {
   "cell_type": "markdown",
   "metadata": {},
   "source": [
    "## Use 5 Category Data"
   ]
  },
  {
   "cell_type": "code",
   "execution_count": 31,
   "metadata": {},
   "outputs": [],
   "source": [
    "data_dir = 'D:/Data_Science/ClassificationProblems/Sentiment_Analysis/data/SA_4_Categories.csv'\n",
    "corpus = pd.read_csv(data_dir ,encoding='latin-1', sep = ';')"
   ]
  },
  {
   "cell_type": "markdown",
   "metadata": {},
   "source": [
    "## Use 2 Category Data"
   ]
  },
  {
   "cell_type": "code",
   "execution_count": 32,
   "metadata": {},
   "outputs": [],
   "source": [
    "# current_path = getcwd()\n",
    "\n",
    "# filepath_dict = {'yelp':   'data/yelp_labelled.txt',\n",
    "#                  'amazon': 'data/amazon_cells_labelled.txt',\n",
    "#                  'imdb':   'data/imdb_labelled.txt'}\n",
    "\n",
    "# df_list = []\n",
    "\n",
    "# for source, filepath in filepath_dict.items():\n",
    "    \n",
    "#     df = pd.read_csv(path.join(current_path, filepath), names=['sentence', 'label'], sep='\\t')\n",
    "#     df['source'] = source  # Add another column filled with the source name\n",
    "#     df_list.append(df)\n",
    "\n",
    "# df = pd.concat(df_list)\n",
    "# df.rename(columns = {'sentence':'text'}, inplace = True)\n",
    "# corpus = df"
   ]
  },
  {
   "cell_type": "code",
   "execution_count": 33,
   "metadata": {},
   "outputs": [
    {
     "data": {
      "text/html": [
       "<div>\n",
       "<style scoped>\n",
       "    .dataframe tbody tr th:only-of-type {\n",
       "        vertical-align: middle;\n",
       "    }\n",
       "\n",
       "    .dataframe tbody tr th {\n",
       "        vertical-align: top;\n",
       "    }\n",
       "\n",
       "    .dataframe thead th {\n",
       "        text-align: right;\n",
       "    }\n",
       "</style>\n",
       "<table border=\"1\" class=\"dataframe\">\n",
       "  <thead>\n",
       "    <tr style=\"text-align: right;\">\n",
       "      <th></th>\n",
       "      <th>text</th>\n",
       "      <th>label</th>\n",
       "    </tr>\n",
       "  </thead>\n",
       "  <tbody>\n",
       "    <tr>\n",
       "      <th>0</th>\n",
       "      <td>The stable way of business life many corporate...</td>\n",
       "      <td>0</td>\n",
       "    </tr>\n",
       "    <tr>\n",
       "      <th>1</th>\n",
       "      <td>As dozens of companies have already learned, s...</td>\n",
       "      <td>0</td>\n",
       "    </tr>\n",
       "    <tr>\n",
       "      <th>2</th>\n",
       "      <td>What capabilities will a profitable internatio...</td>\n",
       "      <td>0</td>\n",
       "    </tr>\n",
       "    <tr>\n",
       "      <th>3</th>\n",
       "      <td>Almost every kind of manufacturer will have to...</td>\n",
       "      <td>0</td>\n",
       "    </tr>\n",
       "    <tr>\n",
       "      <th>4</th>\n",
       "      <td>Some companies have already responded to the g...</td>\n",
       "      <td>0</td>\n",
       "    </tr>\n",
       "  </tbody>\n",
       "</table>\n",
       "</div>"
      ],
      "text/plain": [
       "                                                text  label\n",
       "0  The stable way of business life many corporate...      0\n",
       "1  As dozens of companies have already learned, s...      0\n",
       "2  What capabilities will a profitable internatio...      0\n",
       "3  Almost every kind of manufacturer will have to...      0\n",
       "4  Some companies have already responded to the g...      0"
      ]
     },
     "execution_count": 33,
     "metadata": {},
     "output_type": "execute_result"
    }
   ],
   "source": [
    "corpus.head()"
   ]
  },
  {
   "cell_type": "code",
   "execution_count": 34,
   "metadata": {},
   "outputs": [
    {
     "name": "stdout",
     "output_type": "stream",
     "text": [
      "<class 'pandas.core.frame.DataFrame'>\n",
      "RangeIndex: 1609 entries, 0 to 1608\n",
      "Data columns (total 2 columns):\n",
      " #   Column  Non-Null Count  Dtype \n",
      "---  ------  --------------  ----- \n",
      " 0   text    1609 non-null   object\n",
      " 1   label   1609 non-null   int64 \n",
      "dtypes: int64(1), object(1)\n",
      "memory usage: 25.3+ KB\n"
     ]
    }
   ],
   "source": [
    "corpus.info()"
   ]
  },
  {
   "cell_type": "markdown",
   "metadata": {},
   "source": [
    "## 0. Text Cleaning"
   ]
  },
  {
   "cell_type": "code",
   "execution_count": 35,
   "metadata": {},
   "outputs": [],
   "source": [
    "if text_cleaning:\n",
    "\n",
    "    corpus = corpus.reset_index(drop=True)\n",
    "\n",
    "    REPLACE_BY_SPACE_RE = compile('[/(){}\\[\\]\\|@,;]')\n",
    "    BAD_SYMBOLS_RE = compile('[^0-9a-z #+_]')\n",
    "    STOPWORDS = set(stopwords.words('english'))\n",
    "  \n",
    "    corpus['text'] = corpus['text'].apply(clean_text)\n",
    "    corpus['text'] = corpus['text'].str.replace('\\d+', '')"
   ]
  },
  {
   "cell_type": "code",
   "execution_count": 36,
   "metadata": {},
   "outputs": [
    {
     "data": {
      "text/html": [
       "<div>\n",
       "<style scoped>\n",
       "    .dataframe tbody tr th:only-of-type {\n",
       "        vertical-align: middle;\n",
       "    }\n",
       "\n",
       "    .dataframe tbody tr th {\n",
       "        vertical-align: top;\n",
       "    }\n",
       "\n",
       "    .dataframe thead th {\n",
       "        text-align: right;\n",
       "    }\n",
       "</style>\n",
       "<table border=\"1\" class=\"dataframe\">\n",
       "  <thead>\n",
       "    <tr style=\"text-align: right;\">\n",
       "      <th></th>\n",
       "      <th>text</th>\n",
       "      <th>label</th>\n",
       "    </tr>\n",
       "  </thead>\n",
       "  <tbody>\n",
       "    <tr>\n",
       "      <th>0</th>\n",
       "      <td>stable way business life many corporate purcha...</td>\n",
       "      <td>0</td>\n",
       "    </tr>\n",
       "    <tr>\n",
       "      <th>1</th>\n",
       "      <td>dozens companies already learned supply demand...</td>\n",
       "      <td>0</td>\n",
       "    </tr>\n",
       "    <tr>\n",
       "      <th>2</th>\n",
       "      <td>capabilities profitable international business...</td>\n",
       "      <td>0</td>\n",
       "    </tr>\n",
       "    <tr>\n",
       "      <th>3</th>\n",
       "      <td>almost every kind manufacturer answer questions</td>\n",
       "      <td>0</td>\n",
       "    </tr>\n",
       "    <tr>\n",
       "      <th>4</th>\n",
       "      <td>companies already responded growing pressures</td>\n",
       "      <td>0</td>\n",
       "    </tr>\n",
       "  </tbody>\n",
       "</table>\n",
       "</div>"
      ],
      "text/plain": [
       "                                                text  label\n",
       "0  stable way business life many corporate purcha...      0\n",
       "1  dozens companies already learned supply demand...      0\n",
       "2  capabilities profitable international business...      0\n",
       "3    almost every kind manufacturer answer questions      0\n",
       "4      companies already responded growing pressures      0"
      ]
     },
     "execution_count": 36,
     "metadata": {},
     "output_type": "execute_result"
    }
   ],
   "source": [
    "corpus.head()"
   ]
  },
  {
   "cell_type": "markdown",
   "metadata": {},
   "source": [
    "## 1. NLTK - Data preprocessing\n",
    "\n",
    "- I. Remove Blank rows in Data, if any\n",
    "- II. Change all the text to lower case\n",
    "- III. Word Tokenization\n",
    "- IV. Remove Stop words\n",
    "- V. Remove Non-alpha text\n",
    "- VI. Word Lemmatization"
   ]
  },
  {
   "cell_type": "code",
   "execution_count": 37,
   "metadata": {},
   "outputs": [],
   "source": [
    "if use_nltk_cleaning:\n",
    "\n",
    "    # Step III : Tokenization : In this each entry in the corpus will be broken into set of words\n",
    "    if sent_tokenizer: \n",
    "        corpus['text'] = [sent_tokenize(x) for x in corpus['text']] \n",
    "    else:\n",
    "        #Corpus['text'] = Corpus['text'].apply(lambda x: str(word_tokenize(x)) )\n",
    "        corpus['text'] = [word_tokenize(x) for x in corpus['text']]\n",
    "\n",
    "    # Step IV, V, VI : Remove Stop words, Non-Numeric and perfom Word Stemming/Lemmenting.\n",
    "    # WordNetLemmatizer requires Pos tags to understand if the word is noun or verb or adjective etc. By default it is set to Noun\n",
    "    # Word Classification for Lemmatizer https://www.nltk.org/_modules/nltk/corpus/reader/wordnet.html\n",
    "    # https://www.geeksforgeeks.org/defaultdict-in-python/\n",
    "    tag_map = defaultdict(lambda: wn.NOUN)\n",
    "    tag_map['J'] = wn.ADJ\n",
    "    tag_map['V'] = wn.VERB\n",
    "    tag_map['R'] = wn.ADV\n",
    "\n",
    "    # Execute Word Tagging\n",
    "    for index, entry in enumerate(corpus['text']):\n",
    "\n",
    "        # Declaring Empty List to store the words that follow the rules for this step\n",
    "        lemma_words = []\n",
    "\n",
    "        # Initializing WordNetLemmatizer()\n",
    "        word_Lemmatized = WordNetLemmatizer()\n",
    "\n",
    "        # pos_tag function below will provide the 'tag' i.e if the word is Noun(N) or Verb(V) or something else.\n",
    "        # Posttagging reference : https://www.nltk.org/book/ch05.html \n",
    "\n",
    "        for word, tag in pos_tag(entry):\n",
    "\n",
    "            # Below condition is to check for Stop words and consider only alphabets\n",
    "            # List of stop words https://gist.github.com/sebleier/554280, https://www.nltk.org/book/ch02.html\n",
    "\n",
    "            # NLTK check for an alphabetic word https://tedboy.github.io/nlps/generated/generated/nltk.text_type.isalpha.html\n",
    "            if word not in stopwords.words('english') and word.isalpha():\n",
    "\n",
    "                # Reference https://www.geeksforgeeks.org/python-lemmatization-with-nltk/\n",
    "                # Use first letter of NLTK Postagging as \"pos\" parameter mapping it through the dict tag_map\n",
    "                lemma_word = word_Lemmatized.lemmatize(word = word,\n",
    "                                                       pos = tag_map[tag[0]]  )\n",
    "                # Append word back to the empty list\n",
    "                lemma_words.append(lemma_word)\n",
    "\n",
    "        # The final processed set of words for each iteration will be stored in 'text_final'\n",
    "        corpus.loc[index,'text_clean'] = ' '.join(lemma_words)\n",
    "    \n",
    "    corpus.loc[:,'text'] = corpus['text_clean']"
   ]
  },
  {
   "cell_type": "markdown",
   "metadata": {},
   "source": [
    "## 2. Prepare Trainig and Test data"
   ]
  },
  {
   "cell_type": "code",
   "execution_count": 38,
   "metadata": {},
   "outputs": [],
   "source": [
    "# Get training X data\n",
    "sentences = corpus['text'].values\n",
    "\n",
    "# Use Label encoder for the expected output\n",
    "Encoder = LabelEncoder()\n",
    "encoded_Y = Encoder.fit_transform(corpus['label'].values)\n",
    "Y = pd.get_dummies(encoded_Y).values\n",
    "\n",
    "sentences_train, sentences_test, Y_train, Y_test = train_test_split( sentences, Y, test_size=0.25)"
   ]
  },
  {
   "cell_type": "code",
   "execution_count": 39,
   "metadata": {},
   "outputs": [
    {
     "name": "stdout",
     "output_type": "stream",
     "text": [
      "Shape of label tensor: (1609, 5)\n"
     ]
    }
   ],
   "source": [
    "print('Shape of label tensor:', Y.shape)"
   ]
  },
  {
   "cell_type": "markdown",
   "metadata": {},
   "source": [
    "## 3. Word Tokenizer "
   ]
  },
  {
   "cell_type": "code",
   "execution_count": 40,
   "metadata": {},
   "outputs": [],
   "source": [
    "# Hyperparameters\n",
    "sent_tokenizer = False\n",
    "use_nltk_cleaning = False\n",
    "use_tfidf_tokenizer = False # TODO: Adjust for input to CNN\n",
    "use_keras_tokenizer = True\n",
    "use_pretrained_embeddings = True\n",
    "use_tfidf_as_embedding_weights = True\n",
    "\n",
    "# Initialize Model\n",
    "epochs = 30\n",
    "batch_size = 16\n",
    "output_label = len(np.unique(encoded_Y))\n",
    "\n",
    "# Append \"0\" add the sentences ending to have equal sentences length\n",
    "seq_input_len = 50"
   ]
  },
  {
   "cell_type": "code",
   "execution_count": 41,
   "metadata": {},
   "outputs": [],
   "source": [
    "if use_keras_tokenizer:\n",
    "    \n",
    "    # Start Tokenizer Object\n",
    "    tokenizer = Tokenizer(num_words=5000)\n",
    "\n",
    "    # Train vocabulary\n",
    "    tokenizer.fit_on_texts(sentences_train)\n",
    "\n",
    "    X_train = tokenizer.texts_to_sequences(sentences_train) \n",
    "    \n",
    "    \n",
    "    X_test = tokenizer.texts_to_sequences(sentences_test)\n",
    "\n",
    "    vocab_size = len(tokenizer.word_index) + 1  # Adding 1 because of reserved 0 index\n",
    "   \n",
    "    vocab = tokenizer.word_index\n",
    "\n",
    "    X_train = pad_sequences(X_train, padding='post', maxlen=seq_input_len)\n",
    "    X_test = pad_sequences(X_test, padding='post', maxlen=seq_input_len)\n",
    "\n",
    "if use_tfidf_tokenizer:\n",
    "    \n",
    "    # Create new Class TfidfVectorizer with max 5000 features\n",
    "    Tfidf_vect = TfidfVectorizer(max_features=5000)\n",
    "\n",
    "    # Learn vocabulary and idf from training set\n",
    "    Tfidf_vect.fit(Corpus['text'])\n",
    "\n",
    "    # Transfor both the train and the test to document-term matrix\n",
    "    X_train = Tfidf_vect.transform(sentences_train)\n",
    "    X_test = Tfidf_vect.transform(sentences_test)\n",
    "    \n",
    "    vocab = Tfidf_vect.vocabulary_\n",
    "    \n",
    "    vocab_size = len(vocab) + 1\n",
    "    "
   ]
  },
  {
   "cell_type": "markdown",
   "metadata": {},
   "source": [
    "## 4. Use pre-trained Embedding Space ( GloVe )"
   ]
  },
  {
   "cell_type": "code",
   "execution_count": 42,
   "metadata": {},
   "outputs": [],
   "source": [
    "if use_pretrained_embeddings: \n",
    "    \n",
    "    embedding_dim = 50\n",
    "    \n",
    "    embedding_matrix = create_embedding_matrix(\n",
    "     filepath = 'D:/Semillero Data Science/Deep Learning/pre-trained Word Embeddings/GloVe/glove.6B.50d.txt',\n",
    "     word_index = vocab, \n",
    "     embedding_dim = embedding_dim)"
   ]
  },
  {
   "cell_type": "code",
   "execution_count": 43,
   "metadata": {},
   "outputs": [
    {
     "data": {
      "text/plain": [
       "50"
      ]
     },
     "execution_count": 43,
     "metadata": {},
     "output_type": "execute_result"
    }
   ],
   "source": [
    "embedding_dim"
   ]
  },
  {
   "cell_type": "markdown",
   "metadata": {},
   "source": [
    "## 4. Set up CNN Model "
   ]
  },
  {
   "cell_type": "code",
   "execution_count": 44,
   "metadata": {},
   "outputs": [],
   "source": [
    "del model"
   ]
  },
  {
   "cell_type": "code",
   "execution_count": 45,
   "metadata": {},
   "outputs": [
    {
     "name": "stdout",
     "output_type": "stream",
     "text": [
      "Model: \"sequential_1\"\n",
      "_________________________________________________________________\n",
      "Layer (type)                 Output Shape              Param #   \n",
      "=================================================================\n",
      "embedding_1 (Embedding)      (None, 50, 50)            150400    \n",
      "_________________________________________________________________\n",
      "conv1d_2 (Conv1D)            (None, 49, 128)           12928     \n",
      "_________________________________________________________________\n",
      "conv1d_3 (Conv1D)            (None, 47, 32)            12320     \n",
      "_________________________________________________________________\n",
      "global_max_pooling1d_1 (Glob (None, 32)                0         \n",
      "_________________________________________________________________\n",
      "dense_2 (Dense)              (None, 10)                330       \n",
      "_________________________________________________________________\n",
      "dense_3 (Dense)              (None, 5)                 55        \n",
      "=================================================================\n",
      "Total params: 176,033\n",
      "Trainable params: 25,633\n",
      "Non-trainable params: 150,400\n",
      "_________________________________________________________________\n"
     ]
    }
   ],
   "source": [
    "model = Sequential()\n",
    "\n",
    "if use_pretrained_embeddings:  \n",
    "  \n",
    "    model.add(layers.Embedding(vocab_size, embedding_dim, \n",
    "                               weights = [embedding_matrix], \n",
    "                               input_length = seq_input_len, \n",
    "                               trainable = False))\n",
    "else: \n",
    "    embedding_dim = 100 # Output Dimension - seq output length\n",
    "    model.add(layers.Embedding(vocab_size, embedding_dim, input_length = seq_input_len))\n",
    "\n",
    "# Filters: No. of output filter in the convolution\n",
    "# kernel_size: An integer or tuple/list of a single integer, specifying the length of the 1D convolution window.\n",
    "model.add(layers.Conv1D(filters = 128, kernel_size = 2, activation='relu'))\n",
    "\n",
    "# Global max pooling operation for 1D temporal data.\n",
    "# Downsamples the input representation by taking the maximum value over the time dimension\n",
    "#model.add(layers.GlobalMaxPooling1D())\n",
    "model.add(layers.Conv1D(filters = 32, kernel_size = 3, activation='relu'))\n",
    "\n",
    "model.add(layers.GlobalMaxPooling1D())\n",
    "\n",
    "model.add(layers.Dense(10, activation='relu'))\n",
    "\n",
    "model.add(layers.Dense(output_label, activation='sigmoid'))\n",
    "\n",
    "model.compile(optimizer='adam',\n",
    "              loss='categorical_crossentropy',\n",
    "              metrics=['accuracy'])\n",
    "\n",
    "model.summary()"
   ]
  },
  {
   "cell_type": "markdown",
   "metadata": {},
   "source": [
    "## 6. Run Model - CNN"
   ]
  },
  {
   "cell_type": "code",
   "execution_count": 57,
   "metadata": {},
   "outputs": [
    {
     "data": {
      "text/plain": [
       "tuple"
      ]
     },
     "execution_count": 57,
     "metadata": {},
     "output_type": "execute_result"
    }
   ],
   "source": [
    "type((X_test, Y_test))"
   ]
  },
  {
   "cell_type": "code",
   "execution_count": 46,
   "metadata": {},
   "outputs": [
    {
     "name": "stdout",
     "output_type": "stream",
     "text": [
      "Wall time: 0 ns\n",
      "Training Accuracy: 0.9967\n",
      "Testing Accuracy:  0.8486\n"
     ]
    },
    {
     "data": {
      "image/png": "[encoded data removed]",
      "text/plain": [
       "<Figure size 864x360 with 2 Axes>"
      ]
     },
     "metadata": {},
     "output_type": "display_data"
    }
   ],
   "source": [
    "%time\n",
    "\n",
    "history = model.fit(X_train, Y_train,\n",
    "                    epochs = epochs,\n",
    "                    verbose = False,\n",
    "                    validation_data = (X_test, Y_test),\n",
    "                    batch_size = batch_size)\n",
    "\n",
    "loss, accuracy = model.evaluate(X_train, Y_train, verbose=False)\n",
    "print(\"Training Accuracy: {:.4f}\".format(accuracy))\n",
    "loss, accuracy = model.evaluate(X_test, Y_test, verbose=False)\n",
    "print(\"Testing Accuracy:  {:.4f}\".format(accuracy))\n",
    "plot_history(history)"
   ]
  },
  {
   "cell_type": "code",
   "execution_count": 47,
   "metadata": {},
   "outputs": [
    {
     "name": "stdout",
     "output_type": "stream",
     "text": [
      "Accuracy for label 0 :  97.08  %\n",
      "Accuracy for label 1 :  23.53  %\n",
      "Accuracy for label 2 :  46.15  %\n",
      "Accuracy for label 3 :  47.83  %\n",
      "Accuracy for label 4 :  55.17  %\n"
     ]
    },
    {
     "data": {
      "text/plain": [
       "{0: 97.08, 1: 23.53, 2: 46.15, 3: 47.83, 4: 55.17}"
      ]
     },
     "execution_count": 47,
     "metadata": {},
     "output_type": "execute_result"
    }
   ],
   "source": [
    "Y_pred = model.predict(X_test)\n",
    "conf_matrix = confusion_matrix(Y_test.argmax(axis=1), Y_pred.argmax(axis=1)) / len(Y_pred)\n",
    "cal_label_accuracy(conf_matrix, verbose = 1)"
   ]
  },
  {
   "cell_type": "code",
   "execution_count": 50,
   "metadata": {},
   "outputs": [
    {
     "data": {
      "text/plain": [
       "array([0, 0, 1, 0, 0, 0, 0, 4, 0, 0, 3, 0, 4, 0, 0, 0, 0, 0, 2, 0, 0, 3,\n",
       "       0, 0, 0, 0, 0, 0, 0, 0, 0, 0, 0, 0, 0, 0, 0, 0, 4, 4, 4, 0, 0, 1,\n",
       "       0, 1, 0, 4, 3, 0, 0, 4, 1, 0, 0, 2, 0, 0, 0, 0, 2, 0, 4, 2, 0, 0,\n",
       "       3, 0, 0, 0, 4, 0, 0, 0, 0, 0, 0, 0, 0, 0, 0, 0, 0, 3, 0, 0, 0, 0,\n",
       "       0, 0, 0, 1, 0, 0, 0, 0, 0, 0, 0, 0, 0, 0, 4, 0, 0, 0, 0, 0, 1, 0,\n",
       "       0, 4, 0, 3, 0, 4, 4, 0, 0, 4, 0, 0, 0, 0, 0, 0, 0, 3, 1, 0, 3, 0,\n",
       "       1, 2, 2, 0, 3, 0, 0, 3, 1, 0, 0, 1, 0, 0, 0, 0, 0, 0, 0, 0, 0, 3,\n",
       "       0, 0, 0, 0, 0, 0, 0, 0, 0, 2, 0, 0, 2, 3, 0, 0, 0, 3, 0, 0, 0, 1,\n",
       "       0, 2, 2, 4, 0, 0, 0, 3, 0, 2, 4, 0, 0, 0, 0, 1, 2, 0, 0, 0, 0, 0,\n",
       "       2, 0, 0, 0, 0, 0, 0, 2, 0, 1, 2, 0, 0, 0, 0, 0, 0, 2, 0, 0, 0, 0,\n",
       "       0, 3, 0, 0, 0, 0, 2, 0, 0, 0, 0, 0, 0, 0, 2, 0, 0, 0, 1, 0, 0, 4,\n",
       "       0, 0, 0, 0, 0, 0, 4, 0, 2, 3, 0, 0, 0, 0, 0, 3, 4, 0, 4, 2, 0, 0,\n",
       "       0, 3, 0, 0, 1, 0, 0, 4, 0, 0, 0, 4, 4, 0, 0, 0, 0, 0, 0, 0, 0, 4,\n",
       "       1, 0, 0, 0, 0, 0, 2, 2, 3, 0, 0, 0, 0, 0, 0, 4, 2, 0, 0, 0, 0, 2,\n",
       "       3, 0, 0, 0, 0, 0, 0, 0, 0, 0, 0, 0, 0, 0, 0, 0, 0, 0, 3, 0, 3, 3,\n",
       "       0, 0, 0, 0, 0, 4, 0, 0, 0, 0, 4, 0, 1, 0, 0, 0, 0, 0, 0, 0, 0, 4,\n",
       "       2, 0, 0, 0, 0, 0, 0, 0, 0, 2, 0, 0, 0, 0, 0, 0, 0, 0, 0, 0, 0, 0,\n",
       "       0, 4, 0, 0, 0, 0, 0, 0, 0, 0, 0, 0, 0, 0, 0, 0, 0, 0, 0, 0, 0, 0,\n",
       "       0, 0, 0, 0, 0, 0, 0], dtype=int64)"
      ]
     },
     "execution_count": 50,
     "metadata": {},
     "output_type": "execute_result"
    }
   ],
   "source": [
    "Y_test.argmax(axis=1)"
   ]
  },
  {
   "cell_type": "code",
   "execution_count": 51,
   "metadata": {},
   "outputs": [
    {
     "data": {
      "text/plain": [
       "array([0, 0, 1, 0, 0, 0, 0, 4, 0, 0, 3, 0, 0, 0, 0, 0, 0, 0, 0, 0, 0, 3,\n",
       "       0, 0, 0, 0, 0, 0, 0, 0, 0, 0, 0, 0, 2, 0, 0, 4, 0, 4, 0, 0, 0, 0,\n",
       "       0, 0, 0, 0, 3, 0, 0, 0, 0, 0, 0, 0, 0, 0, 0, 0, 4, 0, 0, 2, 0, 0,\n",
       "       0, 0, 0, 0, 0, 0, 0, 0, 0, 0, 0, 0, 0, 3, 0, 0, 0, 3, 0, 0, 0, 0,\n",
       "       0, 0, 0, 1, 0, 0, 0, 0, 0, 0, 0, 0, 0, 0, 4, 0, 0, 0, 0, 0, 1, 0,\n",
       "       0, 4, 0, 3, 0, 4, 0, 0, 0, 4, 0, 0, 0, 0, 0, 0, 0, 0, 1, 0, 3, 0,\n",
       "       0, 2, 0, 0, 0, 0, 0, 3, 0, 0, 0, 0, 0, 3, 0, 0, 0, 0, 0, 0, 0, 4,\n",
       "       0, 0, 0, 0, 0, 0, 0, 0, 0, 2, 0, 2, 2, 0, 0, 0, 0, 2, 0, 0, 0, 0,\n",
       "       0, 2, 2, 4, 0, 0, 0, 0, 0, 0, 3, 0, 0, 0, 0, 4, 0, 0, 0, 0, 0, 0,\n",
       "       0, 0, 0, 0, 0, 0, 0, 2, 0, 0, 2, 0, 0, 0, 0, 0, 0, 0, 0, 0, 0, 4,\n",
       "       0, 3, 0, 0, 0, 0, 2, 0, 0, 0, 0, 0, 0, 0, 4, 0, 0, 0, 3, 0, 0, 4,\n",
       "       0, 0, 0, 0, 0, 0, 4, 0, 0, 1, 0, 0, 0, 0, 0, 0, 0, 0, 4, 4, 0, 0,\n",
       "       0, 0, 0, 0, 2, 0, 0, 4, 0, 0, 0, 4, 4, 0, 0, 0, 0, 0, 0, 0, 0, 4,\n",
       "       2, 0, 0, 0, 0, 0, 2, 4, 3, 0, 0, 0, 0, 0, 0, 4, 0, 0, 0, 0, 0, 4,\n",
       "       3, 0, 0, 0, 0, 0, 0, 0, 0, 0, 0, 0, 0, 0, 0, 0, 0, 0, 3, 0, 4, 0,\n",
       "       0, 2, 0, 0, 0, 0, 0, 0, 0, 0, 0, 0, 0, 0, 0, 0, 0, 0, 0, 3, 0, 4,\n",
       "       2, 0, 0, 0, 0, 0, 0, 0, 0, 2, 0, 0, 0, 0, 0, 0, 0, 0, 0, 0, 0, 0,\n",
       "       0, 0, 0, 0, 0, 0, 0, 0, 0, 0, 0, 0, 0, 0, 0, 0, 0, 2, 0, 0, 0, 0,\n",
       "       0, 0, 0, 0, 0, 0, 0], dtype=int64)"
      ]
     },
     "execution_count": 51,
     "metadata": {},
     "output_type": "execute_result"
    }
   ],
   "source": [
    "Y_pred.argmax(axis=1)"
   ]
  },
  {
   "cell_type": "markdown",
   "metadata": {},
   "source": [
    "## 7. Run Model - Recurrent Neural Networks - RNN\n",
    "\n",
    "Reference: https://towardsdatascience.com/multi-class-text-classification-with-lstm-1590bee1bd17"
   ]
  },
  {
   "cell_type": "code",
   "execution_count": 69,
   "metadata": {},
   "outputs": [],
   "source": [
    "del model"
   ]
  },
  {
   "cell_type": "code",
   "execution_count": 70,
   "metadata": {},
   "outputs": [],
   "source": [
    "model = Sequential()\n",
    "\n",
    "if use_pretrained_embeddings:  \n",
    "  \n",
    "    model.add(layers.Embedding(vocab_size, embedding_dim, \n",
    "                               weights = [embedding_matrix], \n",
    "                               input_length = seq_input_len, \n",
    "                               trainable = False))\n",
    "else: \n",
    "    embedding_dim = 100 # Output Dimension - seq output length\n",
    "    model.add(layers.Embedding(vocab_size, embedding_dim, input_length = seq_input_len))\n",
    "    \n",
    "model.add(layers.SpatialDropout1D(0.2))\n",
    "model.add(layers.LSTM(100, dropout=0.2, recurrent_dropout=0.2))\n",
    "model.add(layers.Dense(10, activation='softmax'))\n",
    "model.add(layers.Dense(output_label, activation='sigmoid'))\n",
    "\n",
    "model.compile(loss='categorical_crossentropy', optimizer='adam', metrics=['accuracy'])"
   ]
  },
  {
   "cell_type": "code",
   "execution_count": 71,
   "metadata": {},
   "outputs": [
    {
     "name": "stdout",
     "output_type": "stream",
     "text": [
      "Training Accuracy: 0.5211\n",
      "Testing Accuracy:  0.5022\n"
     ]
    },
    {
     "data": {
      "image/png": "[encoded data removed]",
      "text/plain": [
       "<Figure size 864x360 with 2 Axes>"
      ]
     },
     "metadata": {},
     "output_type": "display_data"
    }
   ],
   "source": [
    "history = model.fit(X_train, \n",
    "                    Y_train, \n",
    "                    epochs = epochs, \n",
    "                    batch_size = batch_size,\n",
    "                    validation_data = (X_test, Y_test), \n",
    "                    validation_split=0.1,\n",
    "                    verbose = False,\n",
    "                    callbacks=[EarlyStopping(monitor='val_loss', patience=3, min_delta=0.0001)])\n",
    "\n",
    "\n",
    "loss, accuracy = model.evaluate(X_train, Y_train, verbose=False)\n",
    "print(\"Training Accuracy: {:.4f}\".format(accuracy))\n",
    "loss, accuracy = model.evaluate(X_test, Y_test, verbose=False)\n",
    "print(\"Testing Accuracy:  {:.4f}\".format(accuracy))\n",
    "plot_history(history)"
   ]
  },
  {
   "cell_type": "code",
   "execution_count": 72,
   "metadata": {},
   "outputs": [
    {
     "name": "stdout",
     "output_type": "stream",
     "text": [
      "Accuracy for label 0 :  4.3  %\n",
      "Accuracy for label 1 :  97.63  %\n"
     ]
    },
    {
     "data": {
      "text/plain": [
       "{0: 4.3, 1: 97.63}"
      ]
     },
     "execution_count": 72,
     "metadata": {},
     "output_type": "execute_result"
    }
   ],
   "source": [
    "Y_pred = model.predict(X_test)\n",
    "conf_matrix = confusion_matrix(Y_test.argmax(axis=1), Y_pred.argmax(axis=1)) / len(Y_pred)\n",
    "cal_label_accuracy(conf_matrix, verbose = 1)"
   ]
  }
 ],
 "metadata": {
  "kernelspec": {
   "display_name": "Python 3",
   "language": "python",
   "name": "python3"
  },
  "language_info": {
   "codemirror_mode": {
    "name": "ipython",
    "version": 3
   },
   "file_extension": ".py",
   "mimetype": "text/x-python",
   "name": "python",
   "nbconvert_exporter": "python",
   "pygments_lexer": "ipython3",
   "version": "3.7.9"
  }
 },
 "nbformat": 4,
 "nbformat_minor": 4
}
