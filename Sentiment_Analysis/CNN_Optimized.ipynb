{
 "cells": [
  {
   "cell_type": "code",
   "execution_count": 1,
   "metadata": {},
   "outputs": [],
   "source": [
    "import pandas as pd\n",
    "import numpy as np\n",
    "from os import getcwd, path\n",
    "\n",
    "from sklearn.feature_extraction.text import CountVectorizer\n",
    "from sklearn.model_selection import train_test_split\n",
    "from sklearn.linear_model import LogisticRegression\n",
    "from sklearn.metrics import accuracy_score, confusion_matrix\n",
    "from sklearn.preprocessing import LabelEncoder, OneHotEncoder\n",
    "from sklearn.model_selection import RandomizedSearchCV\n",
    "from sklearn.feature_extraction.text import TfidfVectorizer\n",
    "\n",
    "\n",
    "from keras.wrappers.scikit_learn import KerasClassifier\n",
    "from keras.models import Sequential\n",
    "from keras import layers\n",
    "from keras.preprocessing.text import Tokenizer\n",
    "from keras.preprocessing.sequence import pad_sequences\n",
    "from keras.callbacks import EarlyStopping\n",
    "from tensorflow.python.client import device_lib\n",
    "\n",
    "from nltk.tokenize import word_tokenize, sent_tokenize\n",
    "from nltk import pos_tag\n",
    "from nltk.corpus import stopwords\n",
    "from nltk.stem import WordNetLemmatizer\n",
    "from nltk.corpus import wordnet as wn\n",
    "\n",
    "import matplotlib.pyplot as plt\n",
    "\n",
    "from collections import defaultdict\n",
    "\n",
    "from re import compile\n",
    "from datetime import datetime\n",
    "\n",
    "plt.style.use('ggplot')"
   ]
  },
  {
   "cell_type": "code",
   "execution_count": 2,
   "metadata": {},
   "outputs": [
    {
     "name": "stdout",
     "output_type": "stream",
     "text": [
      "Num CPUs Available:  1\n",
      "[name: \"/device:CPU:0\"\n",
      "device_type: \"CPU\"\n",
      "memory_limit: 268435456\n",
      "locality {\n",
      "}\n",
      "incarnation: 14406697059420815568\n",
      "]\n"
     ]
    }
   ],
   "source": [
    "from tensorflow.config.experimental import list_physical_devices\n",
    "print(\"Num CPUs Available: \", len(list_physical_devices('CPU')))\n",
    "print(device_lib.list_local_devices())"
   ]
  },
  {
   "cell_type": "markdown",
   "metadata": {},
   "source": [
    "## Parameters"
   ]
  },
  {
   "cell_type": "code",
   "execution_count": 3,
   "metadata": {},
   "outputs": [],
   "source": [
    "current_time = datetime.now().strftime(\"%d-%m-%Y_%H_%M_%S\")"
   ]
  },
  {
   "cell_type": "code",
   "execution_count": 4,
   "metadata": {},
   "outputs": [],
   "source": [
    "# Hyperparameters\n",
    "sent_tokenizer = False\n",
    "use_nltk_cleaning = False\n",
    "\n",
    "text_cleaning = True\n",
    "\n",
    "use_tfidf_tokenizer = False # TODO: Adjust for input to CNN\n",
    "use_keras_tokenizer = True\n",
    "\n",
    "use_glove_pretrained_embeddings_weights = False\n",
    "use_tfidf_as_embedding_weights = True\n",
    "use_pretrained_embeddings = True\n"
   ]
  },
  {
   "cell_type": "code",
   "execution_count": 5,
   "metadata": {},
   "outputs": [],
   "source": [
    "data = {}\n",
    "\n",
    "# Initialize Model\n",
    "data['epochs'] = 30\n",
    "data['batch_size'] = 16\n",
    "data['num_words'] = 5000\n",
    "data['cv'] = 4\n",
    "data['n_iter'] = 5\n",
    "data['seq_input_len'] = 50\n",
    "data['embedding_dim'] = 200\n",
    "data['nodes_hidden_dense_layer'] = 15\n",
    "\n",
    "\n",
    "data['filepath'] = 'D:/Semillero Data Science/Deep Learning/pre-trained Word Embeddings/GloVe/glove.6B.50d.txt'\n",
    "data['output_file'] = f\"results/{current_time}_Result.txt\""
   ]
  },
  {
   "cell_type": "markdown",
   "metadata": {},
   "source": [
    "## Functions"
   ]
  },
  {
   "cell_type": "code",
   "execution_count": 6,
   "metadata": {},
   "outputs": [],
   "source": [
    "def plot_history(history):\n",
    "    \n",
    "    \"\"\"\n",
    "    \"\"\"\n",
    "    \n",
    "    acc = history.history['accuracy']\n",
    "    val_acc = history.history['val_accuracy']\n",
    "    loss = history.history['loss']\n",
    "    val_loss = history.history['val_loss']\n",
    "    x = range(1, len(acc) + 1)\n",
    "\n",
    "    plt.figure(figsize=(12, 5))\n",
    "    plt.subplot(1, 2, 1)\n",
    "    plt.plot(x, acc, 'b', label='Training acc')\n",
    "    plt.plot(x, val_acc, 'r', label='Validation acc')\n",
    "    plt.title('Training and validation accuracy')\n",
    "    plt.legend()\n",
    "    plt.subplot(1, 2, 2)\n",
    "    plt.plot(x, loss, 'b', label='Training loss')\n",
    "    plt.plot(x, val_loss, 'r', label='Validation loss')\n",
    "    plt.title('Training and validation loss')\n",
    "    plt.legend()\n",
    "    \n",
    "def create_embedding_matrix(filepath, word_index, embedding_dim):\n",
    "    \n",
    "    vocab_size = len(word_index) + 1  # Adding again 1 because of reserved 0 index\n",
    "    embedding_matrix = np.zeros((vocab_size, embedding_dim))\n",
    "\n",
    "    with open(filepath, encoding=\"utf8\") as f:\n",
    "        for line in f:\n",
    "            word, *vector = line.split()\n",
    "            if word in word_index:\n",
    "                idx = word_index[word] \n",
    "                embedding_matrix[idx] = np.array(\n",
    "                    vector, dtype=np.float32)[:embedding_dim]\n",
    "\n",
    "    return embedding_matrix\n",
    "\n",
    "\n",
    "def cal_label_accuracy(conf_matrix, verbose = 0):\n",
    "    \n",
    "    label_acc = {}\n",
    "    \n",
    "    for index, x in enumerate(conf_matrix): \n",
    "        \n",
    "        label_acc[index] = np.round( conf_matrix[index][index]/ sum(conf_matrix[index]) *100 , 2)\n",
    "        \n",
    "        if verbose > 0:\n",
    "        \n",
    "            print(\"Accuracy for label\", index, \": \", label_acc[index] , \" %\" )\n",
    "    \n",
    "    return label_acc\n",
    "\n",
    "    \n",
    "def clean_text(text):\n",
    "    \"\"\"\n",
    "        text: a string\n",
    "\n",
    "        return: modified initial string\n",
    "    \"\"\"\n",
    "    REPLACE_BY_SPACE_RE = compile('[/(){}\\[\\]\\|@,;]')\n",
    "    BAD_SYMBOLS_RE = compile('[^0-9a-z #+_]')\n",
    "    STOPWORDS = set(stopwords.words('english'))\n",
    "    \n",
    "    \n",
    "    text = text.lower() # lowercase text\n",
    "    text = REPLACE_BY_SPACE_RE.sub(' ', text) # replace REPLACE_BY_SPACE_RE symbols by space in text. substitute the matched string in REPLACE_BY_SPACE_RE with space.\n",
    "    text = BAD_SYMBOLS_RE.sub('', text) # remove symbols which are in BAD_SYMBOLS_RE from text. substitute the matched string in BAD_SYMBOLS_RE with nothing. \n",
    "    text = text.replace('x', '')\n",
    "    text = ' '.join(word for word in text.split() if word not in STOPWORDS) # remove stopwors from text\n",
    "    return text\n",
    "\n",
    " \n",
    "    \n",
    "def fit_pretrained_embedding_space_glove(embedding_dim, filepath, vocab):\n",
    "\n",
    "    #embedding_dim = 50\n",
    "    \n",
    "    embedding_matrix = create_embedding_matrix(\n",
    "                        filepath = filepath,\n",
    "                        word_index = vocab, \n",
    "                        embedding_dim = embedding_dim)\n",
    "    \n",
    "    return embedding_matrix, embedding_dim\n",
    "    \n",
    "def tfidf_as_embedding_weights(num_words, corpus, sentences_train):\n",
    "\n",
    "    # Create new Class TfidfVectorizer with max 5000 features\n",
    "    Tfidf_vect = TfidfVectorizer(max_features=num_words)\n",
    "\n",
    "    # Learn vocabulary and idf from training set\n",
    "    Tfidf_vect.fit(corpus['text'])\n",
    "\n",
    "    # Transfor both the train and the test to document-term matrix\n",
    "    embedding_matrix = Tfidf_vect.transform(sentences_train).toarray()\n",
    "    \n",
    "    # Calculate embedding dimension - sequence length\n",
    "    embedding_dim = len(embedding_matrix[0])\n",
    "    \n",
    "    return embedding_matrix, embedding_dim"
   ]
  },
  {
   "cell_type": "markdown",
   "metadata": {},
   "source": [
    "## Data Ingest"
   ]
  },
  {
   "cell_type": "markdown",
   "metadata": {},
   "source": [
    "## Use 5 Category Data"
   ]
  },
  {
   "cell_type": "code",
   "execution_count": 7,
   "metadata": {},
   "outputs": [],
   "source": [
    "data_dir = 'D:/Data_Science/ClassificationProblems/Sentiment_Analysis/data/SA_4_Categories.csv'\n",
    "corpus = pd.read_csv(data_dir ,encoding='latin-1', sep = ';')"
   ]
  },
  {
   "cell_type": "markdown",
   "metadata": {},
   "source": [
    "## Use 2 Category Data"
   ]
  },
  {
   "cell_type": "code",
   "execution_count": 8,
   "metadata": {},
   "outputs": [],
   "source": [
    "# current_path = getcwd()\n",
    "\n",
    "# filepath_dict = {'yelp':   'data/yelp_labelled.txt',\n",
    "#                  'amazon': 'data/amazon_cells_labelled.txt',\n",
    "#                  'imdb':   'data/imdb_labelled.txt'}\n",
    "\n",
    "# df_list = []\n",
    "\n",
    "# for source, filepath in filepath_dict.items():\n",
    "    \n",
    "#     df = pd.read_csv(path.join(current_path, filepath), names=['sentence', 'label'], sep='\\t')\n",
    "#     df['source'] = source  # Add another column filled with the source name\n",
    "#     df_list.append(df)\n",
    "\n",
    "# df = pd.concat(df_list)\n",
    "# df.rename(columns = {'sentence':'text'}, inplace = True)\n",
    "# corpus = df"
   ]
  },
  {
   "cell_type": "code",
   "execution_count": 9,
   "metadata": {},
   "outputs": [
    {
     "data": {
      "text/html": [
       "<div>\n",
       "<style scoped>\n",
       "    .dataframe tbody tr th:only-of-type {\n",
       "        vertical-align: middle;\n",
       "    }\n",
       "\n",
       "    .dataframe tbody tr th {\n",
       "        vertical-align: top;\n",
       "    }\n",
       "\n",
       "    .dataframe thead th {\n",
       "        text-align: right;\n",
       "    }\n",
       "</style>\n",
       "<table border=\"1\" class=\"dataframe\">\n",
       "  <thead>\n",
       "    <tr style=\"text-align: right;\">\n",
       "      <th></th>\n",
       "      <th>text</th>\n",
       "      <th>label</th>\n",
       "    </tr>\n",
       "  </thead>\n",
       "  <tbody>\n",
       "    <tr>\n",
       "      <th>0</th>\n",
       "      <td>The stable way of business life many corporate...</td>\n",
       "      <td>0</td>\n",
       "    </tr>\n",
       "    <tr>\n",
       "      <th>1</th>\n",
       "      <td>As dozens of companies have already learned, s...</td>\n",
       "      <td>0</td>\n",
       "    </tr>\n",
       "    <tr>\n",
       "      <th>2</th>\n",
       "      <td>What capabilities will a profitable internatio...</td>\n",
       "      <td>0</td>\n",
       "    </tr>\n",
       "    <tr>\n",
       "      <th>3</th>\n",
       "      <td>Almost every kind of manufacturer will have to...</td>\n",
       "      <td>0</td>\n",
       "    </tr>\n",
       "    <tr>\n",
       "      <th>4</th>\n",
       "      <td>Some companies have already responded to the g...</td>\n",
       "      <td>0</td>\n",
       "    </tr>\n",
       "  </tbody>\n",
       "</table>\n",
       "</div>"
      ],
      "text/plain": [
       "                                                text  label\n",
       "0  The stable way of business life many corporate...      0\n",
       "1  As dozens of companies have already learned, s...      0\n",
       "2  What capabilities will a profitable internatio...      0\n",
       "3  Almost every kind of manufacturer will have to...      0\n",
       "4  Some companies have already responded to the g...      0"
      ]
     },
     "execution_count": 9,
     "metadata": {},
     "output_type": "execute_result"
    }
   ],
   "source": [
    "corpus.head()"
   ]
  },
  {
   "cell_type": "code",
   "execution_count": 10,
   "metadata": {},
   "outputs": [
    {
     "name": "stdout",
     "output_type": "stream",
     "text": [
      "<class 'pandas.core.frame.DataFrame'>\n",
      "RangeIndex: 1609 entries, 0 to 1608\n",
      "Data columns (total 2 columns):\n",
      " #   Column  Non-Null Count  Dtype \n",
      "---  ------  --------------  ----- \n",
      " 0   text    1609 non-null   object\n",
      " 1   label   1609 non-null   int64 \n",
      "dtypes: int64(1), object(1)\n",
      "memory usage: 25.3+ KB\n"
     ]
    }
   ],
   "source": [
    "corpus.info()"
   ]
  },
  {
   "cell_type": "markdown",
   "metadata": {},
   "source": [
    "## 0. Text Cleaning"
   ]
  },
  {
   "cell_type": "code",
   "execution_count": 11,
   "metadata": {},
   "outputs": [],
   "source": [
    "def data_cleaning(corpus, text_cleaning = True, use_nltk_cleaning = False ):\n",
    "    \n",
    "    \"\"\"\n",
    "    \"\"\"\n",
    "    \n",
    "    if text_cleaning:\n",
    "\n",
    "        corpus = corpus.reset_index(drop=True)\n",
    "        corpus['text'] = corpus['text'].apply(clean_text)\n",
    "        corpus['text'] = corpus['text'].str.replace('\\d+', '')\n",
    "\n",
    "    elif use_nltk_cleaning:\n",
    "\n",
    "        # Step III : Tokenization : In this each entry in the corpus will be broken into set of words\n",
    "        if sent_tokenizer: \n",
    "            corpus['text'] = [sent_tokenize(x) for x in corpus['text']] \n",
    "        else:\n",
    "            #Corpus['text'] = Corpus['text'].apply(lambda x: str(word_tokenize(x)) )\n",
    "            corpus['text'] = [word_tokenize(x) for x in corpus['text']]\n",
    "\n",
    "        # Step IV, V, VI : Remove Stop words, Non-Numeric and perfom Word Stemming/Lemmenting.\n",
    "        # WordNetLemmatizer requires Pos tags to understand if the word is noun or verb or adjective etc. By default it is set to Noun\n",
    "        # Word Classification for Lemmatizer https://www.nltk.org/_modules/nltk/corpus/reader/wordnet.html\n",
    "        # https://www.geeksforgeeks.org/defaultdict-in-python/\n",
    "        tag_map = defaultdict(lambda: wn.NOUN)\n",
    "        tag_map['J'] = wn.ADJ\n",
    "        tag_map['V'] = wn.VERB\n",
    "        tag_map['R'] = wn.ADV\n",
    "\n",
    "        # Execute Word Tagging\n",
    "        for index, entry in enumerate(corpus['text']):\n",
    "\n",
    "            # Declaring Empty List to store the words that follow the rules for this step\n",
    "            lemma_words = []\n",
    "\n",
    "            # Initializing WordNetLemmatizer()\n",
    "            word_Lemmatized = WordNetLemmatizer()\n",
    "\n",
    "            # pos_tag function below will provide the 'tag' i.e if the word is Noun(N) or Verb(V) or something else.\n",
    "            # Posttagging reference : https://www.nltk.org/book/ch05.html \n",
    "\n",
    "            for word, tag in pos_tag(entry):\n",
    "\n",
    "                # Below condition is to check for Stop words and consider only alphabets\n",
    "                # List of stop words https://gist.github.com/sebleier/554280, https://www.nltk.org/book/ch02.html\n",
    "\n",
    "                # NLTK check for an alphabetic word https://tedboy.github.io/nlps/generated/generated/nltk.text_type.isalpha.html\n",
    "                if word not in stopwords.words('english') and word.isalpha():\n",
    "\n",
    "                    # Reference https://www.geeksforgeeks.org/python-lemmatization-with-nltk/\n",
    "                    # Use first letter of NLTK Postagging as \"pos\" parameter mapping it through the dict tag_map\n",
    "                    lemma_word = word_Lemmatized.lemmatize(word = word,\n",
    "                                                           pos = tag_map[tag[0]]  )\n",
    "                    # Append word back to the empty list\n",
    "                    lemma_words.append(lemma_word)\n",
    "\n",
    "            # The final processed set of words for each iteration will be stored in 'text_final'\n",
    "            corpus.loc[index,'text_clean'] = ' '.join(lemma_words)\n",
    "\n",
    "        corpus.loc[:,'text'] = corpus['text_clean']\n",
    "        \n",
    "    return corpus"
   ]
  },
  {
   "cell_type": "code",
   "execution_count": 12,
   "metadata": {},
   "outputs": [],
   "source": [
    "corpus = data_cleaning(corpus = corpus, \n",
    "                       text_cleaning = True, \n",
    "                       use_nltk_cleaning = False)"
   ]
  },
  {
   "cell_type": "code",
   "execution_count": 13,
   "metadata": {},
   "outputs": [
    {
     "data": {
      "text/html": [
       "<div>\n",
       "<style scoped>\n",
       "    .dataframe tbody tr th:only-of-type {\n",
       "        vertical-align: middle;\n",
       "    }\n",
       "\n",
       "    .dataframe tbody tr th {\n",
       "        vertical-align: top;\n",
       "    }\n",
       "\n",
       "    .dataframe thead th {\n",
       "        text-align: right;\n",
       "    }\n",
       "</style>\n",
       "<table border=\"1\" class=\"dataframe\">\n",
       "  <thead>\n",
       "    <tr style=\"text-align: right;\">\n",
       "      <th></th>\n",
       "      <th>text</th>\n",
       "      <th>label</th>\n",
       "    </tr>\n",
       "  </thead>\n",
       "  <tbody>\n",
       "    <tr>\n",
       "      <th>0</th>\n",
       "      <td>stable way business life many corporate purcha...</td>\n",
       "      <td>0</td>\n",
       "    </tr>\n",
       "    <tr>\n",
       "      <th>1</th>\n",
       "      <td>dozens companies already learned supply demand...</td>\n",
       "      <td>0</td>\n",
       "    </tr>\n",
       "    <tr>\n",
       "      <th>2</th>\n",
       "      <td>capabilities profitable international business...</td>\n",
       "      <td>0</td>\n",
       "    </tr>\n",
       "    <tr>\n",
       "      <th>3</th>\n",
       "      <td>almost every kind manufacturer answer questions</td>\n",
       "      <td>0</td>\n",
       "    </tr>\n",
       "    <tr>\n",
       "      <th>4</th>\n",
       "      <td>companies already responded growing pressures</td>\n",
       "      <td>0</td>\n",
       "    </tr>\n",
       "  </tbody>\n",
       "</table>\n",
       "</div>"
      ],
      "text/plain": [
       "                                                text  label\n",
       "0  stable way business life many corporate purcha...      0\n",
       "1  dozens companies already learned supply demand...      0\n",
       "2  capabilities profitable international business...      0\n",
       "3    almost every kind manufacturer answer questions      0\n",
       "4      companies already responded growing pressures      0"
      ]
     },
     "execution_count": 13,
     "metadata": {},
     "output_type": "execute_result"
    }
   ],
   "source": [
    "corpus.head()"
   ]
  },
  {
   "cell_type": "markdown",
   "metadata": {},
   "source": [
    "## 2. Prepare Trainig and Test data"
   ]
  },
  {
   "cell_type": "code",
   "execution_count": 14,
   "metadata": {},
   "outputs": [],
   "source": [
    "def prepare_training_data(corpus):\n",
    "    \"\"\"\n",
    "    \"\"\"\n",
    "    \n",
    "    output = {}\n",
    "    \n",
    "    # Get training X data\n",
    "    sentences = corpus['text'].values\n",
    "\n",
    "    # Use Label encoder for the expected output\n",
    "    Encoder = LabelEncoder()\n",
    "    encoded_Y = Encoder.fit_transform(corpus['label'].values)\n",
    "    Y = pd.get_dummies(encoded_Y).values\n",
    "\n",
    "    sentences_train, sentences_test, Y_train, Y_test = train_test_split( sentences, Y, test_size=0.25)\n",
    "\n",
    "    output_label = len(np.unique(encoded_Y))\n",
    "    \n",
    "    output['sentences_train'] = sentences_train\n",
    "    output['sentences_test'] = sentences_test\n",
    "    output['Y_train'] = Y_train\n",
    "    output['Y_test'] = Y_test\n",
    "    output['output_label'] = output_label\n",
    "\n",
    "    return output"
   ]
  },
  {
   "cell_type": "code",
   "execution_count": 15,
   "metadata": {},
   "outputs": [],
   "source": [
    "model_data = prepare_training_data(corpus)\n",
    "# Concat two dictionaries\n",
    "data = {**data, **model_data}\n"
   ]
  },
  {
   "cell_type": "code",
   "execution_count": 16,
   "metadata": {},
   "outputs": [
    {
     "data": {
      "text/plain": [
       "dict_keys(['epochs', 'batch_size', 'num_words', 'cv', 'n_iter', 'seq_input_len', 'embedding_dim', 'nodes_hidden_dense_layer', 'filepath', 'output_file', 'sentences_train', 'sentences_test', 'Y_train', 'Y_test', 'output_label'])"
      ]
     },
     "execution_count": 16,
     "metadata": {},
     "output_type": "execute_result"
    }
   ],
   "source": [
    "data.keys()"
   ]
  },
  {
   "cell_type": "code",
   "execution_count": 17,
   "metadata": {},
   "outputs": [
    {
     "name": "stdout",
     "output_type": "stream",
     "text": [
      "Shape of label tensor: (1206, 5)\n"
     ]
    }
   ],
   "source": [
    "print('Shape of label tensor:', data['Y_train'].shape)"
   ]
  },
  {
   "cell_type": "markdown",
   "metadata": {},
   "source": [
    "## 3. Word Tokenizer "
   ]
  },
  {
   "cell_type": "code",
   "execution_count": 18,
   "metadata": {},
   "outputs": [],
   "source": [
    "def keras_tokenizer(num_words, sentences_train, sentences_test, seq_input_len):\n",
    "    \n",
    "    \"\"\"\n",
    "    \"\"\"\n",
    "    \n",
    "    # Start Tokenizer Object\n",
    "    tokenizer = Tokenizer(num_words=num_words)\n",
    "\n",
    "    # Train vocabulary\n",
    "    tokenizer.fit_on_texts(sentences_train)\n",
    "\n",
    "    X_train = tokenizer.texts_to_sequences(sentences_train) \n",
    "    X_test = tokenizer.texts_to_sequences(sentences_test)\n",
    "\n",
    "    vocab_size = len(tokenizer.word_index) + 1  # Adding 1 because of reserved 0 index\n",
    "    vocab = tokenizer.word_index\n",
    "\n",
    "    X_train = pad_sequences(X_train, padding='post', maxlen = seq_input_len)\n",
    "    X_test = pad_sequences(X_test, padding='post', maxlen = seq_input_len)\n",
    "    \n",
    "    return X_train, X_test, vocab_size, vocab\n",
    "\n",
    "\n",
    "def tfidf_tokenizer(num_words, corpus, sentences_train, sentences_test):\n",
    "   \n",
    "    \"\"\"\n",
    "    \"\"\"\n",
    "    \n",
    "    # Create new Class TfidfVectorizer with max 5000 features\n",
    "    Tfidf_vect = TfidfVectorizer(max_features=num_words)\n",
    "\n",
    "    # Learn vocabulary and idf from training set\n",
    "    Tfidf_vect.fit(corpus['text'])\n",
    "\n",
    "    # Transfor both the train and the test to document-term matrix\n",
    "    X_train = Tfidf_vect.transform(sentences_train)\n",
    "    X_test = Tfidf_vect.transform(sentences_test)\n",
    "    \n",
    "    vocab = Tfidf_vect.vocabulary_\n",
    "    \n",
    "    vocab_size = len(vocab) + 1\n",
    "    \n",
    "    return X_train, X_test, vocab_size, vocab\n",
    "\n",
    "def tfidf_as_embedding_weights(num_words, corpus, sentences_train):\n",
    "\n",
    "    # Create new Class TfidfVectorizer with max 5000 features\n",
    "    Tfidf_vect = TfidfVectorizer(max_features=num_words)\n",
    "\n",
    "    # Learn vocabulary and idf from training set\n",
    "    Tfidf_vect.fit(corpus['text'])\n",
    "\n",
    "    # Transfor both the train and the test to document-term matrix\n",
    "    embedding_matrix = Tfidf_vect.transform(data['sentences_train']).toarray().transpose()\n",
    "    \n",
    "    # Calculate embedding dimension - sequence length\n",
    "    embedding_dim = len(embedding_matrix[0])\n",
    "    \n",
    "    return embedding_matrix, embedding_dim"
   ]
  },
  {
   "cell_type": "code",
   "execution_count": 19,
   "metadata": {},
   "outputs": [],
   "source": [
    "if use_keras_tokenizer:\n",
    "    data['X_train'], data['X_test'], data['vocab_size'], data['vocab'] = keras_tokenizer(num_words = data['num_words'], \n",
    "                                                                                         sentences_train = data['sentences_train'] , \n",
    "                                                                                         sentences_test = data['sentences_test'],\n",
    "                                                                                         seq_input_len = data['seq_input_len'])\n",
    "elif use_tfidf_tokenizer:\n",
    "    data['X_train'], data['X_test'], data['vocab_size'], data['vocab'] = tfidf_tokenizer(num_words = data['num_words'],\n",
    "                                                                                         corpus = corpus,\n",
    "                                                                                         sentences_train = data['sentences_train'],\n",
    "                                                                                         sentences_test = data['sentences_test'])"
   ]
  },
  {
   "cell_type": "markdown",
   "metadata": {},
   "source": [
    "## 4. Use pre-trained Embedding Space ( GloVe )"
   ]
  },
  {
   "cell_type": "code",
   "execution_count": 20,
   "metadata": {},
   "outputs": [],
   "source": [
    "if use_tfidf_as_embedding_weights:\n",
    "    \n",
    "    data['embedding_matrix'], data['embedding_dim']  = tfidf_as_embedding_weights(num_words = data['num_words'], \n",
    "                                                                  corpus = corpus, \n",
    "                                                                  sentences_train = data['sentences_train'])\n",
    "    \n",
    "elif use_glove_pretrained_embeddings_weights:\n",
    "    \n",
    "    \n",
    "    data['embedding_matrix'], data['embedding_dim'] = fit_pretrained_embedding_space_glove(embedding_dim = data['embedding_dim'], \n",
    "                                                                           filepath = data['filepath'] , \n",
    "                                                                           vocab = data['vocab'])"
   ]
  },
  {
   "cell_type": "code",
   "execution_count": 21,
   "metadata": {},
   "outputs": [
    {
     "data": {
      "text/plain": [
       "array([[0., 0., 0., ..., 0., 0., 0.],\n",
       "       [0., 0., 0., ..., 0., 0., 0.],\n",
       "       [0., 0., 0., ..., 0., 0., 0.],\n",
       "       ...,\n",
       "       [0., 0., 0., ..., 0., 0., 0.],\n",
       "       [0., 0., 0., ..., 0., 0., 0.],\n",
       "       [0., 0., 0., ..., 0., 0., 0.]])"
      ]
     },
     "execution_count": 21,
     "metadata": {},
     "output_type": "execute_result"
    }
   ],
   "source": [
    "data['embedding_matrix']"
   ]
  },
  {
   "cell_type": "markdown",
   "metadata": {},
   "source": [
    "## 4. Set up CNN Model "
   ]
  },
  {
   "cell_type": "code",
   "execution_count": 22,
   "metadata": {},
   "outputs": [
    {
     "name": "stdout",
     "output_type": "stream",
     "text": [
      "Model: \"sequential\"\n",
      "_________________________________________________________________\n",
      "Layer (type)                 Output Shape              Param #   \n",
      "=================================================================\n",
      "embedding (Embedding)        (None, 50, 1206)          4063014   \n",
      "_________________________________________________________________\n",
      "conv1d (Conv1D)              (None, 49, 128)           308864    \n",
      "_________________________________________________________________\n",
      "conv1d_1 (Conv1D)            (None, 47, 32)            12320     \n",
      "_________________________________________________________________\n",
      "global_max_pooling1d (Global (None, 32)                0         \n",
      "_________________________________________________________________\n",
      "dense (Dense)                (None, 15)                495       \n",
      "_________________________________________________________________\n",
      "dense_1 (Dense)              (None, 5)                 80        \n",
      "=================================================================\n",
      "Total params: 4,384,773\n",
      "Trainable params: 321,759\n",
      "Non-trainable params: 4,063,014\n",
      "_________________________________________________________________\n"
     ]
    }
   ],
   "source": [
    "model = Sequential()\n",
    "\n",
    "if use_pretrained_embeddings:  \n",
    "  \n",
    "    model.add(layers.Embedding(data['embedding_matrix'].shape[0], # Vocabulary Size\n",
    "                               data['embedding_matrix'].shape[1], # Word Vector Dimension\n",
    "                               weights = [data['embedding_matrix']], \n",
    "                               input_length = data['seq_input_len'], \n",
    "                               trainable=False))\n",
    "else: \n",
    "    \n",
    "    \n",
    "    model.add(layers.Embedding(data['embedding_matrix'].shape[0], # Vocabulary Size\n",
    "                               data['embedding_matrix'].shape[1], # Word Vector Dimension \n",
    "                               input_length = data['seq_input_len']))\n",
    "\n",
    "# Filters: No. of output filter in the convolution\n",
    "# kernel_size: An integer or tuple/list of a single integer, specifying the length of the 1D convolution window.\n",
    "model.add(layers.Conv1D(filters = 128, kernel_size = 2, activation='relu'))\n",
    "\n",
    "# Global max pooling operation for 1D temporal data.\n",
    "# Downsamples the input representation by taking the maximum value over the time dimension\n",
    "#model.add(layers.GlobalMaxPooling1D())\n",
    "model.add(layers.Conv1D(filters = 32, kernel_size = 3, activation='relu'))\n",
    "\n",
    "model.add(layers.GlobalMaxPooling1D())\n",
    "\n",
    "model.add(layers.Dense(data['nodes_hidden_dense_layer'], activation='relu'))\n",
    "\n",
    "model.add(layers.Dense(data['output_label'], activation='sigmoid'))\n",
    "\n",
    "model.compile(optimizer='adam',\n",
    "              loss='categorical_crossentropy',\n",
    "              metrics=['accuracy'])\n",
    "\n",
    "model.summary()"
   ]
  },
  {
   "cell_type": "markdown",
   "metadata": {},
   "source": [
    "## 6. Run Model - CNN"
   ]
  },
  {
   "cell_type": "code",
   "execution_count": 23,
   "metadata": {},
   "outputs": [],
   "source": [
    "history = model.fit(data['X_train'], data['Y_train'],\n",
    "                    epochs = data['epochs'],\n",
    "                    verbose = False,\n",
    "                    validation_data = (data['X_test'], data['Y_test']),\n",
    "                    batch_size = data['batch_size'])\n",
    "\n"
   ]
  },
  {
   "cell_type": "code",
   "execution_count": 24,
   "metadata": {},
   "outputs": [
    {
     "name": "stdout",
     "output_type": "stream",
     "text": [
      "Training Accuracy: 0.9992\n",
      "Testing Accuracy:  0.8164\n"
     ]
    },
    {
     "data": {
      "image/png": "[encoded data removed]",
      "text/plain": [
       "<Figure size 864x360 with 2 Axes>"
      ]
     },
     "metadata": {},
     "output_type": "display_data"
    }
   ],
   "source": [
    "loss, accuracy = model.evaluate(data['X_train'], data['Y_train'], verbose=False)\n",
    "print(\"Training Accuracy: {:.4f}\".format(accuracy))\n",
    "loss, accuracy = model.evaluate(data['X_test'], data['Y_test'], verbose=False)\n",
    "print(\"Testing Accuracy:  {:.4f}\".format(accuracy))\n",
    "plot_history(history)\n"
   ]
  },
  {
   "cell_type": "code",
   "execution_count": 25,
   "metadata": {},
   "outputs": [
    {
     "name": "stdout",
     "output_type": "stream",
     "text": [
      "Accuracy for label 0 :  94.19  %\n",
      "Accuracy for label 1 :  35.29  %\n",
      "Accuracy for label 2 :  42.31  %\n",
      "Accuracy for label 3 :  25.0  %\n",
      "Accuracy for label 4 :  59.09  %\n"
     ]
    },
    {
     "data": {
      "text/plain": [
       "{0: 94.19, 1: 35.29, 2: 42.31, 3: 25.0, 4: 59.09}"
      ]
     },
     "execution_count": 25,
     "metadata": {},
     "output_type": "execute_result"
    }
   ],
   "source": [
    "Y_pred = model.predict(data['X_test'])\n",
    "conf_matrix = confusion_matrix(data['Y_test'].argmax(axis=1), Y_pred.argmax(axis=1)) / len(Y_pred)\n",
    "cal_label_accuracy(conf_matrix, verbose = 1)"
   ]
  },
  {
   "cell_type": "code",
   "execution_count": 26,
   "metadata": {},
   "outputs": [],
   "source": [
    "param_grid = dict(num_filters_cv = [(64,16), (64,32), (128,16), (128,32), (256,64), (256,32), (256,64)],\n",
    "                  kernel_size_cv = [(2,3), (2,5), (2,4), (3,5), (3,7)],\n",
    "                  vocab_size = [3000, 4000, 5000, 600], \n",
    "                  embedding_dim = [50, 100, 200],\n",
    "                  seq_input_len = [50, 40, 30, 20, 10], \n",
    "                  nodes_hidden_dense_layer = [5, 10, 15, 20, 40],\n",
    "                  use_pretrained_embeddings = [True],\n",
    "                  embedding_matrix = [data['embedding_matrix']])"
   ]
  },
  {
   "cell_type": "code",
   "execution_count": 26,
   "metadata": {},
   "outputs": [],
   "source": [
    "param_grid = dict(num_filters_cv = [(64,16)],\n",
    "                  kernel_size_cv = [(2,3)],\n",
    "                  vocab_size = [5000], \n",
    "                  embedding_dim = [50],\n",
    "                  embedding_matrix = ([data['embedding_matrix']]),\n",
    "                  seq_input_len = [50], \n",
    "                  nodes_hidden_dense_layer = [5],\n",
    "                  use_pretrained_embeddings = [True],\n",
    "                  output_label = [data['output_label']])"
   ]
  },
  {
   "cell_type": "code",
   "execution_count": 45,
   "metadata": {},
   "outputs": [],
   "source": [
    "param_grid = dict(num_filters_cv = [(64,16), (64,32), (128,16), (128,32), (256,64), (256,32), (256,64)],\n",
    "                  kernel_size_cv = [(2,3), (2,5), (2,4), (3,5), (3,7)],\n",
    "                  vocab_size = [3000, 4000, 5000, 600], \n",
    "                  embedding_dim = [50, 100, 200],\n",
    "                  embedding_matrix = ([data['embedding_matrix']]),\n",
    "                  seq_input_len = [50, 40, 30, 20, 10], \n",
    "                  nodes_hidden_dense_layer = [5, 10, 15, 20, 40],\n",
    "                  use_pretrained_embeddings = [True, False],\n",
    "                  output_label = [data['output_label']])"
   ]
  },
  {
   "cell_type": "code",
   "execution_count": 46,
   "metadata": {},
   "outputs": [],
   "source": [
    "def keras_tokenizer(sentences_train, sentences_test, num_words, seq_input_len):\n",
    "\n",
    "    # Start Tokenizer Object\n",
    "    tokenizer = Tokenizer(num_words = num_words)\n",
    "\n",
    "    # Train vocabulary\n",
    "    tokenizer.fit_on_texts(sentences_train)\n",
    "\n",
    "    X_train = tokenizer.texts_to_sequences(sentences_train) \n",
    "    X_test = tokenizer.texts_to_sequences(sentences_test)\n",
    "\n",
    "    vocab_size = len(tokenizer.word_index) + 1  # Adding 1 because of reserved 0 index\n",
    "\n",
    "    vocab = tokenizer.word_index\n",
    "\n",
    "    X_train = pad_sequences(X_train, padding = 'post', maxlen = seq_input_len)\n",
    "    X_test = pad_sequences(X_test, padding = 'post', maxlen = seq_input_len)\n",
    "\n",
    "    return X_train, X_test, vocab_size, vocab\n",
    "\n",
    "\n",
    "\n",
    "# def tfidf_tokenizer(sentences_train, sentences_test, num_words):\n",
    "\n",
    "#     # Create new Class TfidfVectorizer with max 5000 features\n",
    "#     Tfidf_vect = TfidfVectorizer(max_features=num_words)\n",
    "\n",
    "#     # Learn vocabulary and idf from training set\n",
    "#     Tfidf_vect.fit(corpus['text'])\n",
    "\n",
    "#     # Transfor both the train and the test to document-term matrix\n",
    "#     X_train = Tfidf_vect.transform(sentences_train)\n",
    "#     X_test = Tfidf_vect.transform(sentences_test)\n",
    "\n",
    "#     vocab = list(Tfidf_vect.vocabulary_.keys())\n",
    "\n",
    "#     vocab_size = len(vocab) + 1\n",
    "\n",
    "#     return X_train, X_test, vocab_size, vocab \n",
    "\n",
    "# def create_tfidf_embedding_weights(num_words, sentences_train):\n",
    "\n",
    "#     # Create new Class TfidfVectorizer with max 5000 features\n",
    "#     Tfidf_vect = TfidfVectorizer(max_features = num_words)\n",
    "\n",
    "#     # Learn vocabulary and idf from training set\n",
    "#     Tfidf_vect.fit(corpus['text'])\n",
    "\n",
    "#     # Transfor both the train and the test to document-term matrix\n",
    "#     embedding_matrix = Tfidf_vect.transform(sentences_train)\n",
    "\n",
    "#     # Calculate embedding dimension - sequence length\n",
    "#     embedding_dim = len(embedding_matrix.toarray()[1])\n",
    "\n",
    "#     return embedding_matrix, embedding_dim"
   ]
  },
  {
   "cell_type": "code",
   "execution_count": 47,
   "metadata": {},
   "outputs": [],
   "source": [
    "def data_preprocessing(sentences_train, \n",
    "                       sentences_test, \n",
    "                       num_words, \n",
    "                       seq_input_len, \n",
    "                       filepath,\n",
    "                       corpus = corpus,\n",
    "                       use_keras_tokenizer = True, \n",
    "                       use_tfidf_tokenizer = False, \n",
    "                       use_tfidf_as_embedding_weights = True,\n",
    "                       use_glove_pretrained_embeddings_weights = False):\n",
    "\n",
    "    output = {}\n",
    "    \n",
    "    if use_keras_tokenizer:\n",
    "        \n",
    "        output['X_train'], output['X_test'], output['vocab_size'], output['vocab'] = keras_tokenizer(sentences_train, sentences_test, num_words, seq_input_len)\n",
    "               \n",
    "    elif use_tfidf_tokenizer:\n",
    "        \n",
    "        output['X_train'], output['X_test'], output['vocab_size'], output['vocab'] = tfidf_tokenizer(sentences_train, sentences_test, num_words)\n",
    "    \n",
    "    if use_tfidf_as_embedding_weights: \n",
    "        \n",
    "        output['embedding_matrix'], output['embedding_dim'] = tfidf_as_embedding_weights(num_words, corpus, sentences_train)\n",
    "\n",
    "    \n",
    "    if use_glove_pretrained_embeddings_weights:  \n",
    "        \n",
    "        output['embedding_matrix'] = create_embedding_matrix(\n",
    "                             filepath = filepath,\n",
    "                             word_index = vocab, \n",
    "                             embedding_dim = embedding_dim)\n",
    "        \n",
    "    return output"
   ]
  },
  {
   "cell_type": "code",
   "execution_count": 48,
   "metadata": {},
   "outputs": [],
   "source": [
    "def create_model(num_filters_cv, kernel_size_cv, vocab_size, embedding_dim, embedding_matrix,\n",
    "                 seq_input_len, output_label, nodes_hidden_dense_layer, use_pretrained_embeddings ):\n",
    "    \"\"\"\n",
    "    \n",
    "    \"\"\"      \n",
    "\n",
    "    model = Sequential()\n",
    "\n",
    "    if use_pretrained_embeddings:  \n",
    "\n",
    "        model.add(layers.Embedding(embedding_matrix.shape[0], # Vocabulary Size\n",
    "                                   embedding_matrix.shape[1], # Word Vector Dimension\n",
    "                                   weights=[embedding_matrix], \n",
    "                                   input_length=seq_input_len, \n",
    "                                   trainable=False))\n",
    "    else: \n",
    "        \n",
    "        # embedding_dim = 100 # Output Dimension - seq output length\n",
    "        \n",
    "        model.add(layers.Embedding(vocab_size, # Vocabulary Size\n",
    "                                   embedding_dim, # Word Vector Dimension\n",
    "                                   input_length = seq_input_len))\n",
    "\n",
    "    # Filters: No. of output filter in the convolution\n",
    "    # kernel_size: An integer or tuple/list of a single integer, specifying the length of the 1D convolution window.\n",
    "    model.add(layers.Conv1D(filters = num_filters_cv[0], kernel_size = kernel_size_cv[0], activation='relu'))\n",
    "\n",
    "    # Global max pooling operation for 1D temporal data.\n",
    "    # Downsamples the input representation by taking the maximum value over the time dimension\n",
    "    #model.add(layers.GlobalMaxPooling1D())\n",
    "    model.add(layers.Conv1D(filters = num_filters_cv[1], kernel_size = kernel_size_cv[1], activation='relu'))\n",
    "\n",
    "    model.add(layers.GlobalMaxPooling1D())\n",
    "\n",
    "    model.add(layers.Dense(nodes_hidden_dense_layer, activation='relu'))\n",
    "\n",
    "    model.add(layers.Dense(output_label, activation='sigmoid'))\n",
    "\n",
    "    model.compile(optimizer='adam',\n",
    "                  loss='categorical_crossentropy',\n",
    "                  metrics=['accuracy'])\n",
    "\n",
    "    model.summary()\n",
    "    \n",
    "    return model"
   ]
  },
  {
   "cell_type": "code",
   "execution_count": 49,
   "metadata": {},
   "outputs": [],
   "source": [
    "def hyperparameter_optimization(create_model, X_train, Y_train, X_test, Y_test, \n",
    "                                epochs, batch_size, param_grid, cv, n_iter, output_file,\n",
    "                                verbose = False ):\n",
    "    \"\"\"\n",
    "    \n",
    "    \"\"\"  \n",
    "        \n",
    "\n",
    "    # Create NN Model \n",
    "    print(\"Creating Model...\")\n",
    "    model = KerasClassifier(build_fn = create_model,\n",
    "                            epochs = epochs, \n",
    "                            batch_size = batch_size,\n",
    "                            verbose = verbose)\n",
    "    \n",
    "    print(\"Selecting Parameters...\")\n",
    "    # Make Random Search Cross Validation\n",
    "    grid = RandomizedSearchCV(estimator = model, \n",
    "                              param_distributions = param_grid,\n",
    "                              cv = cv, \n",
    "                              n_iter = n_iter,\n",
    "                              verbose = verbose)\n",
    "    \n",
    "    print(\"Evaluating Model...\")\n",
    "    # Fit Selected Model with Random Parameters\n",
    "    grid_result = grid.fit(X_train, Y_train, verbose = verbose)\n",
    "    \n",
    "    # Predict Y values\n",
    "    Y_pred = grid.predict(X_test)\n",
    "    \n",
    "    try:\n",
    "        # Generate Confusion Matrix\n",
    "        conf_matrix = confusion_matrix(Y_pred.argmax(axis=1), Y_test.argmax(axis=1)) / len(Y_pred)\n",
    "\n",
    "        # Calculate Label Accuracy\n",
    "        label_acc = cal_label_accuracy(conf_matrix, verbose  = 1)\n",
    "    except:\n",
    "        print(\" label accuracy could not be calculated\")\n",
    "        conf_matrix = \"Could not be calculated\"\n",
    "\n",
    "    # Evaluate testing set\n",
    "    test_accuracy = grid.score(X_test, Y_test)\n",
    "\n",
    "#     # Save and evaluate results\n",
    "#     prompt = input(f'finished {source}; write to file and proceed? [y/n]')\n",
    "    \n",
    "#     if prompt.lower() not in {'y', 'true', 'yes'}:\n",
    "#         break\n",
    "\n",
    "    print(\"Writting results...\")\n",
    "    with open(output_file, 'a') as f:\n",
    "        s = ('Running {} data set\\nBest Accuracy : ''{:.4f}\\n{}\\nTest Accuracy : {:.4f}\\n\\n')\n",
    "        \n",
    "        output_string = s.format(\n",
    "            \"CNN Modeling\",\n",
    "            grid_result.best_score_,\n",
    "            grid_result.best_params_,\n",
    "            test_accuracy,\n",
    "            conf_matrix)\n",
    "        \n",
    "        print(output_string)\n",
    "        f.write(output_string)"
   ]
  },
  {
   "cell_type": "code",
   "execution_count": 50,
   "metadata": {},
   "outputs": [
    {
     "data": {
      "text/plain": [
       "dict_keys(['epochs', 'batch_size', 'num_words', 'cv', 'n_iter', 'seq_input_len', 'embedding_dim', 'nodes_hidden_dense_layer', 'filepath', 'output_file', 'sentences_train', 'sentences_test', 'Y_train', 'Y_test', 'output_label', 'X_train', 'X_test', 'vocab_size', 'vocab', 'embedding_matrix'])"
      ]
     },
     "execution_count": 50,
     "metadata": {},
     "output_type": "execute_result"
    }
   ],
   "source": [
    "data.keys()\n"
   ]
  },
  {
   "cell_type": "code",
   "execution_count": 51,
   "metadata": {},
   "outputs": [],
   "source": [
    "# use_tfidf_as_embedding_weights"
   ]
  },
  {
   "cell_type": "code",
   "execution_count": 52,
   "metadata": {},
   "outputs": [],
   "source": [
    "# sentences_train = data['sentences_train'] \n",
    "# sentences_test = data['sentences_test']\n",
    "# num_words = data['num_words']\n",
    "# seq_input_len = data['seq_input_len']"
   ]
  },
  {
   "cell_type": "code",
   "execution_count": 53,
   "metadata": {},
   "outputs": [],
   "source": [
    "# sentences_train.shape"
   ]
  },
  {
   "cell_type": "code",
   "execution_count": 54,
   "metadata": {},
   "outputs": [],
   "source": [
    "# X_train = tokenizer.texts_to_sequences(sentences_train)"
   ]
  },
  {
   "cell_type": "code",
   "execution_count": 55,
   "metadata": {},
   "outputs": [],
   "source": [
    "# X_test = tokenizer.texts_to_sequences(sentences_test)"
   ]
  },
  {
   "cell_type": "code",
   "execution_count": 56,
   "metadata": {},
   "outputs": [],
   "source": [
    "# tokenizer = Tokenizer(num_words = 5000)\n",
    "\n",
    "# # Train vocabulary\n",
    "# tokenizer.fit_on_texts(sentences_train)"
   ]
  },
  {
   "cell_type": "code",
   "execution_count": 57,
   "metadata": {},
   "outputs": [],
   "source": [
    "# tokenizer"
   ]
  },
  {
   "cell_type": "code",
   "execution_count": 58,
   "metadata": {},
   "outputs": [],
   "source": [
    "data_pre = data_preprocessing(sentences_train = data['sentences_train'], \n",
    "                       sentences_test = data['sentences_test'], \n",
    "                       num_words = data['num_words'], \n",
    "                       seq_input_len = data['seq_input_len'], \n",
    "                       filepath = data['filepath'],\n",
    "                       corpus = corpus,\n",
    "                       use_keras_tokenizer = True, \n",
    "                       use_tfidf_tokenizer = False, \n",
    "                       use_tfidf_as_embedding_weights = True,\n",
    "                       use_glove_pretrained_embeddings_weights = False)\n",
    "\n",
    "# # Concat two dictionaries\n",
    "# data = {**data, **data_pre}"
   ]
  },
  {
   "cell_type": "code",
   "execution_count": 59,
   "metadata": {},
   "outputs": [
    {
     "data": {
      "text/plain": [
       "dict_keys(['epochs', 'batch_size', 'num_words', 'cv', 'n_iter', 'seq_input_len', 'embedding_dim', 'nodes_hidden_dense_layer', 'filepath', 'output_file', 'sentences_train', 'sentences_test', 'Y_train', 'Y_test', 'output_label', 'X_train', 'X_test', 'vocab_size', 'vocab', 'embedding_matrix'])"
      ]
     },
     "execution_count": 59,
     "metadata": {},
     "output_type": "execute_result"
    }
   ],
   "source": [
    "data.keys()"
   ]
  },
  {
   "cell_type": "code",
   "execution_count": 60,
   "metadata": {},
   "outputs": [
    {
     "data": {
      "text/plain": [
       "(3369, 1206)"
      ]
     },
     "execution_count": 60,
     "metadata": {},
     "output_type": "execute_result"
    }
   ],
   "source": [
    "data['embedding_matrix'].shape"
   ]
  },
  {
   "cell_type": "code",
   "execution_count": 61,
   "metadata": {},
   "outputs": [],
   "source": [
    "#cal_label_accuracy(confusion_matrix(data['Y_pred'].argmax(axis=1), data['Y_test'].argmax(axis=1))/ len(data['Y_pred']))"
   ]
  },
  {
   "cell_type": "code",
   "execution_count": 62,
   "metadata": {},
   "outputs": [],
   "source": [
    "# global embedding_matrix\n",
    "# embedding_matrix = data['embedding_matrix']"
   ]
  },
  {
   "cell_type": "code",
   "execution_count": null,
   "metadata": {},
   "outputs": [
    {
     "name": "stdout",
     "output_type": "stream",
     "text": [
      "Creating Model...\n",
      "Selecting Parameters...\n",
      "Evaluating Model...\n",
      "Model: \"sequential_5\"\n",
      "_________________________________________________________________\n",
      "Layer (type)                 Output Shape              Param #   \n",
      "=================================================================\n",
      "embedding_5 (Embedding)      (None, 40, 1206)          4063014   \n",
      "_________________________________________________________________\n",
      "conv1d_10 (Conv1D)           (None, 38, 64)            231616    \n",
      "_________________________________________________________________\n",
      "conv1d_11 (Conv1D)           (None, 34, 32)            10272     \n",
      "_________________________________________________________________\n",
      "global_max_pooling1d_5 (Glob (None, 32)                0         \n",
      "_________________________________________________________________\n",
      "dense_10 (Dense)             (None, 20)                660       \n",
      "_________________________________________________________________\n",
      "dense_11 (Dense)             (None, 5)                 105       \n",
      "=================================================================\n",
      "Total params: 4,305,667\n",
      "Trainable params: 242,653\n",
      "Non-trainable params: 4,063,014\n",
      "_________________________________________________________________\n",
      "WARNING:tensorflow:Model was constructed with shape (None, 40) for input KerasTensor(type_spec=TensorSpec(shape=(None, 40), dtype=tf.float32, name='embedding_5_input'), name='embedding_5_input', description=\"created by layer 'embedding_5_input'\"), but it was called on an input with incompatible shape (None, 50).\n",
      "WARNING:tensorflow:Model was constructed with shape (None, 40) for input KerasTensor(type_spec=TensorSpec(shape=(None, 40), dtype=tf.float32, name='embedding_5_input'), name='embedding_5_input', description=\"created by layer 'embedding_5_input'\"), but it was called on an input with incompatible shape (None, 50).\n"
     ]
    }
   ],
   "source": [
    "hyperparameter_optimization(create_model, \n",
    "                            X_train = data['X_train'], \n",
    "                            Y_train = data['Y_train'], \n",
    "                            X_test = data['X_test'], \n",
    "                            Y_test = data['Y_test'] , \n",
    "                            epochs = data['epochs'] , \n",
    "                            batch_size = data['batch_size'],\n",
    "                            param_grid = param_grid,\n",
    "                            cv = data['cv'], \n",
    "                            n_iter = data['n_iter'],\n",
    "                            output_file = data['output_file'],\n",
    "                            verbose = False)"
   ]
  },
  {
   "cell_type": "code",
   "execution_count": null,
   "metadata": {},
   "outputs": [],
   "source": []
  }
 ],
 "metadata": {
  "kernelspec": {
   "display_name": "Python 3",
   "language": "python",
   "name": "python3"
  },
  "language_info": {
   "codemirror_mode": {
    "name": "ipython",
    "version": 3
   },
   "file_extension": ".py",
   "mimetype": "text/x-python",
   "name": "python",
   "nbconvert_exporter": "python",
   "pygments_lexer": "ipython3",
   "version": "3.7.9"
  }
 },
 "nbformat": 4,
 "nbformat_minor": 4
}
